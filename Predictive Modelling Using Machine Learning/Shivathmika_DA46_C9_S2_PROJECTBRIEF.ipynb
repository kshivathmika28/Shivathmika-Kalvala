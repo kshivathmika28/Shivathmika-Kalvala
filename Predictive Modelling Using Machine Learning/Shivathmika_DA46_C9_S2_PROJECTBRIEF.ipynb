{
 "cells": [
  {
   "cell_type": "code",
   "execution_count": 1,
   "id": "fac34674-9516-465a-94ff-97de5ad58355",
   "metadata": {},
   "outputs": [],
   "source": [
    "import pandas as pd\n",
    "import seaborn as sns\n",
    "import matplotlib.pyplot as plt\n",
    "import numpy as np\n",
    "from sklearn.model_selection import train_test_split\n",
    "from sklearn.linear_model import LinearRegression\n",
    "from sklearn.metrics import mean_squared_error \n",
    "from sklearn.metrics import root_mean_squared_error\n",
    "from sklearn.metrics import mean_absolute_error\n",
    "# r2_score is used when multiple independent columns are used to create a model\n",
    "from sklearn.metrics import r2_score"
   ]
  },
  {
   "cell_type": "code",
   "execution_count": 2,
   "id": "d0b585ce-9490-4434-aa4c-ec2d815a988d",
   "metadata": {},
   "outputs": [
    {
     "data": {
      "text/html": [
       "<div>\n",
       "<style scoped>\n",
       "    .dataframe tbody tr th:only-of-type {\n",
       "        vertical-align: middle;\n",
       "    }\n",
       "\n",
       "    .dataframe tbody tr th {\n",
       "        vertical-align: top;\n",
       "    }\n",
       "\n",
       "    .dataframe thead th {\n",
       "        text-align: right;\n",
       "    }\n",
       "</style>\n",
       "<table border=\"1\" class=\"dataframe\">\n",
       "  <thead>\n",
       "    <tr style=\"text-align: right;\">\n",
       "      <th></th>\n",
       "      <th>Date</th>\n",
       "      <th>Day</th>\n",
       "      <th>Month</th>\n",
       "      <th>Year</th>\n",
       "      <th>Customer_Age</th>\n",
       "      <th>Age_Group</th>\n",
       "      <th>Customer_Gender</th>\n",
       "      <th>Country</th>\n",
       "      <th>State</th>\n",
       "      <th>Product_Category</th>\n",
       "      <th>Sub_Category</th>\n",
       "      <th>Product</th>\n",
       "      <th>Order_Quantity</th>\n",
       "      <th>Unit_Cost</th>\n",
       "      <th>Unit_Price</th>\n",
       "      <th>Profit</th>\n",
       "      <th>Cost</th>\n",
       "      <th>Revenue</th>\n",
       "    </tr>\n",
       "  </thead>\n",
       "  <tbody>\n",
       "    <tr>\n",
       "      <th>0</th>\n",
       "      <td>26-11-2013</td>\n",
       "      <td>26</td>\n",
       "      <td>November</td>\n",
       "      <td>2013</td>\n",
       "      <td>19</td>\n",
       "      <td>Youth (&lt;25)</td>\n",
       "      <td>M</td>\n",
       "      <td>Canada</td>\n",
       "      <td>British Columbia</td>\n",
       "      <td>Accessories</td>\n",
       "      <td>Bike Racks</td>\n",
       "      <td>Hitch Rack - 4-Bike</td>\n",
       "      <td>8.0</td>\n",
       "      <td>45</td>\n",
       "      <td>120.0</td>\n",
       "      <td>590.0</td>\n",
       "      <td>360.0</td>\n",
       "      <td>950</td>\n",
       "    </tr>\n",
       "    <tr>\n",
       "      <th>1</th>\n",
       "      <td>26-11-2015</td>\n",
       "      <td>26</td>\n",
       "      <td>November</td>\n",
       "      <td>2015</td>\n",
       "      <td>19</td>\n",
       "      <td>Youth (&lt;25)</td>\n",
       "      <td>M</td>\n",
       "      <td>Canada</td>\n",
       "      <td>British Columbia</td>\n",
       "      <td>Accessories</td>\n",
       "      <td>Bike Racks</td>\n",
       "      <td>Hitch Rack - 4-Bike</td>\n",
       "      <td>8.0</td>\n",
       "      <td>45</td>\n",
       "      <td>120.0</td>\n",
       "      <td>590.0</td>\n",
       "      <td>360.0</td>\n",
       "      <td>950</td>\n",
       "    </tr>\n",
       "    <tr>\n",
       "      <th>2</th>\n",
       "      <td>02-08-2013</td>\n",
       "      <td>2</td>\n",
       "      <td>August</td>\n",
       "      <td>2013</td>\n",
       "      <td>29</td>\n",
       "      <td>Young Adults (25-34)</td>\n",
       "      <td>M</td>\n",
       "      <td>Canada</td>\n",
       "      <td>British Columbia</td>\n",
       "      <td>Accessories</td>\n",
       "      <td>Bike Racks</td>\n",
       "      <td>Hitch Rack - 4-Bike</td>\n",
       "      <td>5.0</td>\n",
       "      <td>45</td>\n",
       "      <td>120.0</td>\n",
       "      <td>369.0</td>\n",
       "      <td>225.0</td>\n",
       "      <td>594</td>\n",
       "    </tr>\n",
       "    <tr>\n",
       "      <th>3</th>\n",
       "      <td>02-08-2015</td>\n",
       "      <td>2</td>\n",
       "      <td>August</td>\n",
       "      <td>2015</td>\n",
       "      <td>29</td>\n",
       "      <td>Young Adults (25-34)</td>\n",
       "      <td>M</td>\n",
       "      <td>Canada</td>\n",
       "      <td>British Columbia</td>\n",
       "      <td>Accessories</td>\n",
       "      <td>Bike Racks</td>\n",
       "      <td>Hitch Rack - 4-Bike</td>\n",
       "      <td>7.0</td>\n",
       "      <td>45</td>\n",
       "      <td>120.0</td>\n",
       "      <td>517.0</td>\n",
       "      <td>315.0</td>\n",
       "      <td>832</td>\n",
       "    </tr>\n",
       "    <tr>\n",
       "      <th>4</th>\n",
       "      <td>02-09-2013</td>\n",
       "      <td>2</td>\n",
       "      <td>September</td>\n",
       "      <td>2013</td>\n",
       "      <td>29</td>\n",
       "      <td>Young Adults (25-34)</td>\n",
       "      <td>M</td>\n",
       "      <td>Canada</td>\n",
       "      <td>British Columbia</td>\n",
       "      <td>Accessories</td>\n",
       "      <td>Bike Racks</td>\n",
       "      <td>Hitch Rack - 4-Bike</td>\n",
       "      <td>2.0</td>\n",
       "      <td>45</td>\n",
       "      <td>120.0</td>\n",
       "      <td>148.0</td>\n",
       "      <td>90.0</td>\n",
       "      <td>238</td>\n",
       "    </tr>\n",
       "    <tr>\n",
       "      <th>...</th>\n",
       "      <td>...</td>\n",
       "      <td>...</td>\n",
       "      <td>...</td>\n",
       "      <td>...</td>\n",
       "      <td>...</td>\n",
       "      <td>...</td>\n",
       "      <td>...</td>\n",
       "      <td>...</td>\n",
       "      <td>...</td>\n",
       "      <td>...</td>\n",
       "      <td>...</td>\n",
       "      <td>...</td>\n",
       "      <td>...</td>\n",
       "      <td>...</td>\n",
       "      <td>...</td>\n",
       "      <td>...</td>\n",
       "      <td>...</td>\n",
       "      <td>...</td>\n",
       "    </tr>\n",
       "    <tr>\n",
       "      <th>495</th>\n",
       "      <td>18-02-2014</td>\n",
       "      <td>18</td>\n",
       "      <td>February</td>\n",
       "      <td>2014</td>\n",
       "      <td>37</td>\n",
       "      <td>Adults (35-64)</td>\n",
       "      <td>M</td>\n",
       "      <td>Canada</td>\n",
       "      <td>British Columbia</td>\n",
       "      <td>Accessories</td>\n",
       "      <td>Bottles and Cages</td>\n",
       "      <td>Water Bottle - 30 oz.</td>\n",
       "      <td>13.0</td>\n",
       "      <td>2</td>\n",
       "      <td>5.0</td>\n",
       "      <td>38.0</td>\n",
       "      <td>26.0</td>\n",
       "      <td>64</td>\n",
       "    </tr>\n",
       "    <tr>\n",
       "      <th>496</th>\n",
       "      <td>18-02-2016</td>\n",
       "      <td>18</td>\n",
       "      <td>February</td>\n",
       "      <td>2016</td>\n",
       "      <td>37</td>\n",
       "      <td>Adults (35-64)</td>\n",
       "      <td>M</td>\n",
       "      <td>Canada</td>\n",
       "      <td>British Columbia</td>\n",
       "      <td>Accessories</td>\n",
       "      <td>Bottles and Cages</td>\n",
       "      <td>Water Bottle - 30 oz.</td>\n",
       "      <td>31.0</td>\n",
       "      <td>2</td>\n",
       "      <td>5.0</td>\n",
       "      <td>91.0</td>\n",
       "      <td>62.0</td>\n",
       "      <td>153</td>\n",
       "    </tr>\n",
       "    <tr>\n",
       "      <th>497</th>\n",
       "      <td>18-02-2016</td>\n",
       "      <td>18</td>\n",
       "      <td>February</td>\n",
       "      <td>2016</td>\n",
       "      <td>37</td>\n",
       "      <td>Adults (35-64)</td>\n",
       "      <td>M</td>\n",
       "      <td>Canada</td>\n",
       "      <td>British Columbia</td>\n",
       "      <td>Accessories</td>\n",
       "      <td>Bottles and Cages</td>\n",
       "      <td>Water Bottle - 30 oz.</td>\n",
       "      <td>11.0</td>\n",
       "      <td>2</td>\n",
       "      <td>5.0</td>\n",
       "      <td>32.0</td>\n",
       "      <td>22.0</td>\n",
       "      <td>54</td>\n",
       "    </tr>\n",
       "    <tr>\n",
       "      <th>498</th>\n",
       "      <td>04-03-2014</td>\n",
       "      <td>4</td>\n",
       "      <td>March</td>\n",
       "      <td>2014</td>\n",
       "      <td>37</td>\n",
       "      <td>Adults (35-64)</td>\n",
       "      <td>M</td>\n",
       "      <td>Canada</td>\n",
       "      <td>British Columbia</td>\n",
       "      <td>Accessories</td>\n",
       "      <td>Bottles and Cages</td>\n",
       "      <td>Water Bottle - 30 oz.</td>\n",
       "      <td>5.0</td>\n",
       "      <td>2</td>\n",
       "      <td>5.0</td>\n",
       "      <td>15.0</td>\n",
       "      <td>10.0</td>\n",
       "      <td>25</td>\n",
       "    </tr>\n",
       "    <tr>\n",
       "      <th>499</th>\n",
       "      <td>04-03-2014</td>\n",
       "      <td>4</td>\n",
       "      <td>March</td>\n",
       "      <td>2014</td>\n",
       "      <td>37</td>\n",
       "      <td>Adults (35-64)</td>\n",
       "      <td>M</td>\n",
       "      <td>Canada</td>\n",
       "      <td>British Columbia</td>\n",
       "      <td>Accessories</td>\n",
       "      <td>Bottles and Cages</td>\n",
       "      <td>Water Bottle - 30 oz.</td>\n",
       "      <td>6.0</td>\n",
       "      <td>2</td>\n",
       "      <td>5.0</td>\n",
       "      <td>18.0</td>\n",
       "      <td>12.0</td>\n",
       "      <td>30</td>\n",
       "    </tr>\n",
       "  </tbody>\n",
       "</table>\n",
       "<p>500 rows × 18 columns</p>\n",
       "</div>"
      ],
      "text/plain": [
       "           Date  Day      Month  Year  Customer_Age             Age_Group  \\\n",
       "0    26-11-2013   26   November  2013            19           Youth (<25)   \n",
       "1    26-11-2015   26   November  2015            19           Youth (<25)   \n",
       "2    02-08-2013    2     August  2013            29  Young Adults (25-34)   \n",
       "3    02-08-2015    2     August  2015            29  Young Adults (25-34)   \n",
       "4    02-09-2013    2  September  2013            29  Young Adults (25-34)   \n",
       "..          ...  ...        ...   ...           ...                   ...   \n",
       "495  18-02-2014   18   February  2014            37        Adults (35-64)   \n",
       "496  18-02-2016   18   February  2016            37        Adults (35-64)   \n",
       "497  18-02-2016   18   February  2016            37        Adults (35-64)   \n",
       "498  04-03-2014    4      March  2014            37        Adults (35-64)   \n",
       "499  04-03-2014    4      March  2014            37        Adults (35-64)   \n",
       "\n",
       "    Customer_Gender Country             State Product_Category  \\\n",
       "0                 M  Canada  British Columbia      Accessories   \n",
       "1                 M  Canada  British Columbia      Accessories   \n",
       "2                 M  Canada  British Columbia      Accessories   \n",
       "3                 M  Canada  British Columbia      Accessories   \n",
       "4                 M  Canada  British Columbia      Accessories   \n",
       "..              ...     ...               ...              ...   \n",
       "495               M  Canada  British Columbia      Accessories   \n",
       "496               M  Canada  British Columbia      Accessories   \n",
       "497               M  Canada  British Columbia      Accessories   \n",
       "498               M  Canada  British Columbia      Accessories   \n",
       "499               M  Canada  British Columbia      Accessories   \n",
       "\n",
       "          Sub_Category                Product  Order_Quantity  Unit_Cost  \\\n",
       "0           Bike Racks    Hitch Rack - 4-Bike             8.0         45   \n",
       "1           Bike Racks    Hitch Rack - 4-Bike             8.0         45   \n",
       "2           Bike Racks    Hitch Rack - 4-Bike             5.0         45   \n",
       "3           Bike Racks    Hitch Rack - 4-Bike             7.0         45   \n",
       "4           Bike Racks    Hitch Rack - 4-Bike             2.0         45   \n",
       "..                 ...                    ...             ...        ...   \n",
       "495  Bottles and Cages  Water Bottle - 30 oz.            13.0          2   \n",
       "496  Bottles and Cages  Water Bottle - 30 oz.            31.0          2   \n",
       "497  Bottles and Cages  Water Bottle - 30 oz.            11.0          2   \n",
       "498  Bottles and Cages  Water Bottle - 30 oz.             5.0          2   \n",
       "499  Bottles and Cages  Water Bottle - 30 oz.             6.0          2   \n",
       "\n",
       "     Unit_Price  Profit   Cost  Revenue  \n",
       "0         120.0   590.0  360.0      950  \n",
       "1         120.0   590.0  360.0      950  \n",
       "2         120.0   369.0  225.0      594  \n",
       "3         120.0   517.0  315.0      832  \n",
       "4         120.0   148.0   90.0      238  \n",
       "..          ...     ...    ...      ...  \n",
       "495         5.0    38.0   26.0       64  \n",
       "496         5.0    91.0   62.0      153  \n",
       "497         5.0    32.0   22.0       54  \n",
       "498         5.0    15.0   10.0       25  \n",
       "499         5.0    18.0   12.0       30  \n",
       "\n",
       "[500 rows x 18 columns]"
      ]
     },
     "execution_count": 2,
     "metadata": {},
     "output_type": "execute_result"
    }
   ],
   "source": [
    "# TASK1.1\n",
    "df = pd.read_csv(r'DS1_C9_S2_Practice_BikeSales_Data.csv')\n",
    "df"
   ]
  },
  {
   "cell_type": "code",
   "execution_count": 3,
   "id": "f74eaeb7-771f-4a75-8a00-d6640a443d9d",
   "metadata": {},
   "outputs": [
    {
     "data": {
      "text/plain": [
       "Date                0\n",
       "Day                 0\n",
       "Month               0\n",
       "Year                0\n",
       "Customer_Age        0\n",
       "Age_Group           0\n",
       "Customer_Gender     0\n",
       "Country             0\n",
       "State               0\n",
       "Product_Category    0\n",
       "Sub_Category        0\n",
       "Product             0\n",
       "Order_Quantity      5\n",
       "Unit_Cost           0\n",
       "Unit_Price          3\n",
       "Profit              2\n",
       "Cost                2\n",
       "Revenue             0\n",
       "dtype: int64"
      ]
     },
     "execution_count": 3,
     "metadata": {},
     "output_type": "execute_result"
    }
   ],
   "source": [
    "# TASK2\n",
    "df.isnull().sum()"
   ]
  },
  {
   "cell_type": "code",
   "execution_count": 4,
   "id": "e8224ef4-3b11-49fe-a395-1862d3e58aed",
   "metadata": {},
   "outputs": [],
   "source": [
    "mode_order = df[\"Order_Quantity\"].mode()[0]\n",
    "df[\"Order_Quantity\"] = df[\"Order_Quantity\"].fillna(mode_order)\n",
    "\n",
    "mode_price = df[\"Unit_Price\"].mode()[0]\n",
    "df[\"Unit_Price\"] = df[\"Unit_Price\"].fillna(mode_price)\n",
    "\n",
    "mode_profit = df[\"Profit\"].mode()[0]\n",
    "df[\"Profit\"] = df[\"Profit\"].fillna(mode_profit)\n",
    "\n",
    "mode_cost = df[\"Cost\"].mode()[0]\n",
    "df[\"Cost\"] = df[\"Cost\"].fillna(mode_cost)\n"
   ]
  },
  {
   "cell_type": "code",
   "execution_count": 5,
   "id": "a62fb77b-13d7-49ea-bbc2-639b5d76ec03",
   "metadata": {},
   "outputs": [
    {
     "data": {
      "text/plain": [
       "Date                0\n",
       "Day                 0\n",
       "Month               0\n",
       "Year                0\n",
       "Customer_Age        0\n",
       "Age_Group           0\n",
       "Customer_Gender     0\n",
       "Country             0\n",
       "State               0\n",
       "Product_Category    0\n",
       "Sub_Category        0\n",
       "Product             0\n",
       "Order_Quantity      0\n",
       "Unit_Cost           0\n",
       "Unit_Price          0\n",
       "Profit              0\n",
       "Cost                0\n",
       "Revenue             0\n",
       "dtype: int64"
      ]
     },
     "execution_count": 5,
     "metadata": {},
     "output_type": "execute_result"
    }
   ],
   "source": [
    "df.isnull().sum()"
   ]
  },
  {
   "cell_type": "code",
   "execution_count": 6,
   "id": "e9e82282-8496-4836-be16-a8acf8786c9e",
   "metadata": {},
   "outputs": [
    {
     "data": {
      "text/plain": [
       "['Order_Quantity', 'Unit_Cost', 'Unit_Price', 'Customer_Age']"
      ]
     },
     "execution_count": 6,
     "metadata": {},
     "output_type": "execute_result"
    }
   ],
   "source": [
    "selected_cols = [\"Order_Quantity\",\"Unit_Cost\",\"Unit_Price\",\"Customer_Age\"]\n",
    "selected_cols"
   ]
  },
  {
   "cell_type": "code",
   "execution_count": 7,
   "id": "8e47e2b7-1f54-4655-ba1a-0519c5acdb02",
   "metadata": {},
   "outputs": [
    {
     "data": {
      "text/plain": [
       "<bound method NDFrame.describe of            Date  Day      Month  Year  Customer_Age             Age_Group  \\\n",
       "0    26-11-2013   26   November  2013            19           Youth (<25)   \n",
       "1    26-11-2015   26   November  2015            19           Youth (<25)   \n",
       "2    02-08-2013    2     August  2013            29  Young Adults (25-34)   \n",
       "3    02-08-2015    2     August  2015            29  Young Adults (25-34)   \n",
       "4    02-09-2013    2  September  2013            29  Young Adults (25-34)   \n",
       "..          ...  ...        ...   ...           ...                   ...   \n",
       "495  18-02-2014   18   February  2014            37        Adults (35-64)   \n",
       "496  18-02-2016   18   February  2016            37        Adults (35-64)   \n",
       "497  18-02-2016   18   February  2016            37        Adults (35-64)   \n",
       "498  04-03-2014    4      March  2014            37        Adults (35-64)   \n",
       "499  04-03-2014    4      March  2014            37        Adults (35-64)   \n",
       "\n",
       "    Customer_Gender Country             State Product_Category  \\\n",
       "0                 M  Canada  British Columbia      Accessories   \n",
       "1                 M  Canada  British Columbia      Accessories   \n",
       "2                 M  Canada  British Columbia      Accessories   \n",
       "3                 M  Canada  British Columbia      Accessories   \n",
       "4                 M  Canada  British Columbia      Accessories   \n",
       "..              ...     ...               ...              ...   \n",
       "495               M  Canada  British Columbia      Accessories   \n",
       "496               M  Canada  British Columbia      Accessories   \n",
       "497               M  Canada  British Columbia      Accessories   \n",
       "498               M  Canada  British Columbia      Accessories   \n",
       "499               M  Canada  British Columbia      Accessories   \n",
       "\n",
       "          Sub_Category                Product  Order_Quantity  Unit_Cost  \\\n",
       "0           Bike Racks    Hitch Rack - 4-Bike             8.0         45   \n",
       "1           Bike Racks    Hitch Rack - 4-Bike             8.0         45   \n",
       "2           Bike Racks    Hitch Rack - 4-Bike             5.0         45   \n",
       "3           Bike Racks    Hitch Rack - 4-Bike             7.0         45   \n",
       "4           Bike Racks    Hitch Rack - 4-Bike             2.0         45   \n",
       "..                 ...                    ...             ...        ...   \n",
       "495  Bottles and Cages  Water Bottle - 30 oz.            13.0          2   \n",
       "496  Bottles and Cages  Water Bottle - 30 oz.            31.0          2   \n",
       "497  Bottles and Cages  Water Bottle - 30 oz.            11.0          2   \n",
       "498  Bottles and Cages  Water Bottle - 30 oz.             5.0          2   \n",
       "499  Bottles and Cages  Water Bottle - 30 oz.             6.0          2   \n",
       "\n",
       "     Unit_Price  Profit   Cost  Revenue  \n",
       "0         120.0   590.0  360.0      950  \n",
       "1         120.0   590.0  360.0      950  \n",
       "2         120.0   369.0  225.0      594  \n",
       "3         120.0   517.0  315.0      832  \n",
       "4         120.0   148.0   90.0      238  \n",
       "..          ...     ...    ...      ...  \n",
       "495         5.0    38.0   26.0       64  \n",
       "496         5.0    91.0   62.0      153  \n",
       "497         5.0    32.0   22.0       54  \n",
       "498         5.0    15.0   10.0       25  \n",
       "499         5.0    18.0   12.0       30  \n",
       "\n",
       "[500 rows x 18 columns]>"
      ]
     },
     "execution_count": 7,
     "metadata": {},
     "output_type": "execute_result"
    }
   ],
   "source": [
    "df.describe"
   ]
  },
  {
   "cell_type": "code",
   "execution_count": 8,
   "id": "011d3871-fd7d-42e8-925c-ec8ea5424e09",
   "metadata": {},
   "outputs": [],
   "source": [
    "category = df.select_dtypes(exclude = 'number')\n",
    "numerical = df.select_dtypes(include = 'number')"
   ]
  },
  {
   "cell_type": "code",
   "execution_count": 9,
   "id": "19618d0e-cc59-44cb-9ca9-fdfdfb5e8d87",
   "metadata": {},
   "outputs": [
    {
     "data": {
      "text/plain": [
       "Date                 object\n",
       "Day                   int64\n",
       "Month                object\n",
       "Year                  int64\n",
       "Customer_Age          int64\n",
       "Age_Group            object\n",
       "Customer_Gender      object\n",
       "Country              object\n",
       "State                object\n",
       "Product_Category     object\n",
       "Sub_Category         object\n",
       "Product              object\n",
       "Order_Quantity      float64\n",
       "Unit_Cost             int64\n",
       "Unit_Price          float64\n",
       "Profit              float64\n",
       "Cost                float64\n",
       "Revenue               int64\n",
       "dtype: object"
      ]
     },
     "execution_count": 9,
     "metadata": {},
     "output_type": "execute_result"
    }
   ],
   "source": [
    "df.dtypes"
   ]
  },
  {
   "cell_type": "code",
   "execution_count": 10,
   "id": "ee22d671-b5a3-4072-84bf-210579b7c739",
   "metadata": {},
   "outputs": [],
   "source": [
    "# StandardScaler to preprocess int , float\n",
    "# TASK2\n",
    "from sklearn.preprocessing import StandardScaler\n",
    "def scaling_numeric():\n",
    "    data_types = [\"int64\",\"float64\"]\n",
    "    new_df = df.select_dtypes(include = data_types)\n",
    "    \n",
    "    scaler_obj = StandardScaler()\n",
    "    df_scaled = pd.DataFrame(scaler_obj.fit_transform(new_df.to_numpy()), columns = new_df.columns)\n",
    "    return df_scaled"
   ]
  },
  {
   "cell_type": "code",
   "execution_count": 11,
   "id": "f30bec0c-addc-43c1-be3b-a574b6acd6c3",
   "metadata": {},
   "outputs": [
    {
     "data": {
      "text/html": [
       "<div>\n",
       "<style scoped>\n",
       "    .dataframe tbody tr th:only-of-type {\n",
       "        vertical-align: middle;\n",
       "    }\n",
       "\n",
       "    .dataframe tbody tr th {\n",
       "        vertical-align: top;\n",
       "    }\n",
       "\n",
       "    .dataframe thead th {\n",
       "        text-align: right;\n",
       "    }\n",
       "</style>\n",
       "<table border=\"1\" class=\"dataframe\">\n",
       "  <thead>\n",
       "    <tr style=\"text-align: right;\">\n",
       "      <th></th>\n",
       "      <th>Day</th>\n",
       "      <th>Year</th>\n",
       "      <th>Customer_Age</th>\n",
       "      <th>Order_Quantity</th>\n",
       "      <th>Unit_Cost</th>\n",
       "      <th>Unit_Price</th>\n",
       "      <th>Profit</th>\n",
       "      <th>Cost</th>\n",
       "      <th>Revenue</th>\n",
       "    </tr>\n",
       "  </thead>\n",
       "  <tbody>\n",
       "    <tr>\n",
       "      <th>0</th>\n",
       "      <td>1.247044</td>\n",
       "      <td>-1.391889</td>\n",
       "      <td>-1.549292</td>\n",
       "      <td>-0.566218</td>\n",
       "      <td>1.308878</td>\n",
       "      <td>1.316960</td>\n",
       "      <td>1.125846</td>\n",
       "      <td>1.097898</td>\n",
       "      <td>1.091750</td>\n",
       "    </tr>\n",
       "    <tr>\n",
       "      <th>1</th>\n",
       "      <td>1.247044</td>\n",
       "      <td>0.401782</td>\n",
       "      <td>-1.549292</td>\n",
       "      <td>-0.566218</td>\n",
       "      <td>1.308878</td>\n",
       "      <td>1.316960</td>\n",
       "      <td>1.125846</td>\n",
       "      <td>1.097898</td>\n",
       "      <td>1.091750</td>\n",
       "    </tr>\n",
       "    <tr>\n",
       "      <th>2</th>\n",
       "      <td>-1.522113</td>\n",
       "      <td>-1.391889</td>\n",
       "      <td>-0.668412</td>\n",
       "      <td>-0.889647</td>\n",
       "      <td>1.308878</td>\n",
       "      <td>1.316960</td>\n",
       "      <td>0.474680</td>\n",
       "      <td>0.453306</td>\n",
       "      <td>0.451221</td>\n",
       "    </tr>\n",
       "    <tr>\n",
       "      <th>3</th>\n",
       "      <td>-1.522113</td>\n",
       "      <td>0.401782</td>\n",
       "      <td>-0.668412</td>\n",
       "      <td>-0.674027</td>\n",
       "      <td>1.308878</td>\n",
       "      <td>1.316960</td>\n",
       "      <td>0.910755</td>\n",
       "      <td>0.883034</td>\n",
       "      <td>0.879440</td>\n",
       "    </tr>\n",
       "    <tr>\n",
       "      <th>4</th>\n",
       "      <td>-1.522113</td>\n",
       "      <td>-1.391889</td>\n",
       "      <td>-0.668412</td>\n",
       "      <td>-1.213077</td>\n",
       "      <td>1.308878</td>\n",
       "      <td>1.316960</td>\n",
       "      <td>-0.176487</td>\n",
       "      <td>-0.191286</td>\n",
       "      <td>-0.189309</td>\n",
       "    </tr>\n",
       "    <tr>\n",
       "      <th>...</th>\n",
       "      <td>...</td>\n",
       "      <td>...</td>\n",
       "      <td>...</td>\n",
       "      <td>...</td>\n",
       "      <td>...</td>\n",
       "      <td>...</td>\n",
       "      <td>...</td>\n",
       "      <td>...</td>\n",
       "      <td>...</td>\n",
       "    </tr>\n",
       "    <tr>\n",
       "      <th>495</th>\n",
       "      <td>0.323991</td>\n",
       "      <td>-0.495053</td>\n",
       "      <td>0.036292</td>\n",
       "      <td>-0.027168</td>\n",
       "      <td>-0.669252</td>\n",
       "      <td>-0.659425</td>\n",
       "      <td>-0.500597</td>\n",
       "      <td>-0.496871</td>\n",
       "      <td>-0.502377</td>\n",
       "    </tr>\n",
       "    <tr>\n",
       "      <th>496</th>\n",
       "      <td>0.323991</td>\n",
       "      <td>1.298618</td>\n",
       "      <td>0.036292</td>\n",
       "      <td>1.913410</td>\n",
       "      <td>-0.669252</td>\n",
       "      <td>-0.659425</td>\n",
       "      <td>-0.344435</td>\n",
       "      <td>-0.324979</td>\n",
       "      <td>-0.342244</td>\n",
       "    </tr>\n",
       "    <tr>\n",
       "      <th>497</th>\n",
       "      <td>0.323991</td>\n",
       "      <td>1.298618</td>\n",
       "      <td>0.036292</td>\n",
       "      <td>-0.242788</td>\n",
       "      <td>-0.669252</td>\n",
       "      <td>-0.659425</td>\n",
       "      <td>-0.518275</td>\n",
       "      <td>-0.515970</td>\n",
       "      <td>-0.520369</td>\n",
       "    </tr>\n",
       "    <tr>\n",
       "      <th>498</th>\n",
       "      <td>-1.291350</td>\n",
       "      <td>-0.495053</td>\n",
       "      <td>0.036292</td>\n",
       "      <td>-0.889647</td>\n",
       "      <td>-0.669252</td>\n",
       "      <td>-0.659425</td>\n",
       "      <td>-0.568365</td>\n",
       "      <td>-0.573267</td>\n",
       "      <td>-0.572547</td>\n",
       "    </tr>\n",
       "    <tr>\n",
       "      <th>499</th>\n",
       "      <td>-1.291350</td>\n",
       "      <td>-0.495053</td>\n",
       "      <td>0.036292</td>\n",
       "      <td>-0.781837</td>\n",
       "      <td>-0.669252</td>\n",
       "      <td>-0.659425</td>\n",
       "      <td>-0.559526</td>\n",
       "      <td>-0.563717</td>\n",
       "      <td>-0.563551</td>\n",
       "    </tr>\n",
       "  </tbody>\n",
       "</table>\n",
       "<p>500 rows × 9 columns</p>\n",
       "</div>"
      ],
      "text/plain": [
       "          Day      Year  Customer_Age  Order_Quantity  Unit_Cost  Unit_Price  \\\n",
       "0    1.247044 -1.391889     -1.549292       -0.566218   1.308878    1.316960   \n",
       "1    1.247044  0.401782     -1.549292       -0.566218   1.308878    1.316960   \n",
       "2   -1.522113 -1.391889     -0.668412       -0.889647   1.308878    1.316960   \n",
       "3   -1.522113  0.401782     -0.668412       -0.674027   1.308878    1.316960   \n",
       "4   -1.522113 -1.391889     -0.668412       -1.213077   1.308878    1.316960   \n",
       "..        ...       ...           ...             ...        ...         ...   \n",
       "495  0.323991 -0.495053      0.036292       -0.027168  -0.669252   -0.659425   \n",
       "496  0.323991  1.298618      0.036292        1.913410  -0.669252   -0.659425   \n",
       "497  0.323991  1.298618      0.036292       -0.242788  -0.669252   -0.659425   \n",
       "498 -1.291350 -0.495053      0.036292       -0.889647  -0.669252   -0.659425   \n",
       "499 -1.291350 -0.495053      0.036292       -0.781837  -0.669252   -0.659425   \n",
       "\n",
       "       Profit      Cost   Revenue  \n",
       "0    1.125846  1.097898  1.091750  \n",
       "1    1.125846  1.097898  1.091750  \n",
       "2    0.474680  0.453306  0.451221  \n",
       "3    0.910755  0.883034  0.879440  \n",
       "4   -0.176487 -0.191286 -0.189309  \n",
       "..        ...       ...       ...  \n",
       "495 -0.500597 -0.496871 -0.502377  \n",
       "496 -0.344435 -0.324979 -0.342244  \n",
       "497 -0.518275 -0.515970 -0.520369  \n",
       "498 -0.568365 -0.573267 -0.572547  \n",
       "499 -0.559526 -0.563717 -0.563551  \n",
       "\n",
       "[500 rows x 9 columns]"
      ]
     },
     "execution_count": 11,
     "metadata": {},
     "output_type": "execute_result"
    }
   ],
   "source": [
    "df_scaled = scaling_numeric()\n",
    "df_scaled"
   ]
  },
  {
   "cell_type": "code",
   "execution_count": 12,
   "id": "0f86076c-0b65-4516-808b-71eb7646e86c",
   "metadata": {},
   "outputs": [],
   "source": [
    "# LabelEncoding to preprocess object datatype\n",
    "from sklearn import preprocessing\n",
    "label_obj = preprocessing.LabelEncoder()\n",
    "for col in category:\n",
    "    category[col] = label_obj.fit_transform(category[col])"
   ]
  },
  {
   "cell_type": "code",
   "execution_count": 13,
   "id": "71ccb038-ddf2-4c87-b524-273a517ff54a",
   "metadata": {},
   "outputs": [
    {
     "data": {
      "text/html": [
       "<div>\n",
       "<style scoped>\n",
       "    .dataframe tbody tr th:only-of-type {\n",
       "        vertical-align: middle;\n",
       "    }\n",
       "\n",
       "    .dataframe tbody tr th {\n",
       "        vertical-align: top;\n",
       "    }\n",
       "\n",
       "    .dataframe thead th {\n",
       "        text-align: right;\n",
       "    }\n",
       "</style>\n",
       "<table border=\"1\" class=\"dataframe\">\n",
       "  <thead>\n",
       "    <tr style=\"text-align: right;\">\n",
       "      <th></th>\n",
       "      <th>Customer_Age</th>\n",
       "      <th>Order_Quantity</th>\n",
       "      <th>Unit_Cost</th>\n",
       "      <th>Unit_Price</th>\n",
       "      <th>Profit</th>\n",
       "      <th>Cost</th>\n",
       "      <th>Revenue</th>\n",
       "      <th>Date</th>\n",
       "      <th>Month</th>\n",
       "      <th>Age_Group</th>\n",
       "      <th>Customer_Gender</th>\n",
       "      <th>Country</th>\n",
       "      <th>State</th>\n",
       "      <th>Product_Category</th>\n",
       "      <th>Sub_Category</th>\n",
       "      <th>Product</th>\n",
       "    </tr>\n",
       "  </thead>\n",
       "  <tbody>\n",
       "    <tr>\n",
       "      <th>0</th>\n",
       "      <td>-1.549292</td>\n",
       "      <td>-0.566218</td>\n",
       "      <td>1.308878</td>\n",
       "      <td>1.316960</td>\n",
       "      <td>1.125846</td>\n",
       "      <td>1.097898</td>\n",
       "      <td>1.091750</td>\n",
       "      <td>234</td>\n",
       "      <td>9</td>\n",
       "      <td>3</td>\n",
       "      <td>1</td>\n",
       "      <td>0</td>\n",
       "      <td>1</td>\n",
       "      <td>0</td>\n",
       "      <td>0</td>\n",
       "      <td>1</td>\n",
       "    </tr>\n",
       "    <tr>\n",
       "      <th>1</th>\n",
       "      <td>-1.549292</td>\n",
       "      <td>-0.566218</td>\n",
       "      <td>1.308878</td>\n",
       "      <td>1.316960</td>\n",
       "      <td>1.125846</td>\n",
       "      <td>1.097898</td>\n",
       "      <td>1.091750</td>\n",
       "      <td>235</td>\n",
       "      <td>9</td>\n",
       "      <td>3</td>\n",
       "      <td>1</td>\n",
       "      <td>0</td>\n",
       "      <td>1</td>\n",
       "      <td>0</td>\n",
       "      <td>0</td>\n",
       "      <td>1</td>\n",
       "    </tr>\n",
       "    <tr>\n",
       "      <th>2</th>\n",
       "      <td>-0.668412</td>\n",
       "      <td>-0.889647</td>\n",
       "      <td>1.308878</td>\n",
       "      <td>1.316960</td>\n",
       "      <td>0.474680</td>\n",
       "      <td>0.453306</td>\n",
       "      <td>0.451221</td>\n",
       "      <td>16</td>\n",
       "      <td>1</td>\n",
       "      <td>2</td>\n",
       "      <td>1</td>\n",
       "      <td>0</td>\n",
       "      <td>1</td>\n",
       "      <td>0</td>\n",
       "      <td>0</td>\n",
       "      <td>1</td>\n",
       "    </tr>\n",
       "    <tr>\n",
       "      <th>3</th>\n",
       "      <td>-0.668412</td>\n",
       "      <td>-0.674027</td>\n",
       "      <td>1.308878</td>\n",
       "      <td>1.316960</td>\n",
       "      <td>0.910755</td>\n",
       "      <td>0.883034</td>\n",
       "      <td>0.879440</td>\n",
       "      <td>17</td>\n",
       "      <td>1</td>\n",
       "      <td>2</td>\n",
       "      <td>1</td>\n",
       "      <td>0</td>\n",
       "      <td>1</td>\n",
       "      <td>0</td>\n",
       "      <td>0</td>\n",
       "      <td>1</td>\n",
       "    </tr>\n",
       "    <tr>\n",
       "      <th>4</th>\n",
       "      <td>-0.668412</td>\n",
       "      <td>-1.213077</td>\n",
       "      <td>1.308878</td>\n",
       "      <td>1.316960</td>\n",
       "      <td>-0.176487</td>\n",
       "      <td>-0.191286</td>\n",
       "      <td>-0.189309</td>\n",
       "      <td>18</td>\n",
       "      <td>11</td>\n",
       "      <td>2</td>\n",
       "      <td>1</td>\n",
       "      <td>0</td>\n",
       "      <td>1</td>\n",
       "      <td>0</td>\n",
       "      <td>0</td>\n",
       "      <td>1</td>\n",
       "    </tr>\n",
       "    <tr>\n",
       "      <th>...</th>\n",
       "      <td>...</td>\n",
       "      <td>...</td>\n",
       "      <td>...</td>\n",
       "      <td>...</td>\n",
       "      <td>...</td>\n",
       "      <td>...</td>\n",
       "      <td>...</td>\n",
       "      <td>...</td>\n",
       "      <td>...</td>\n",
       "      <td>...</td>\n",
       "      <td>...</td>\n",
       "      <td>...</td>\n",
       "      <td>...</td>\n",
       "      <td>...</td>\n",
       "      <td>...</td>\n",
       "      <td>...</td>\n",
       "    </tr>\n",
       "    <tr>\n",
       "      <th>495</th>\n",
       "      <td>0.036292</td>\n",
       "      <td>-0.027168</td>\n",
       "      <td>-0.669252</td>\n",
       "      <td>-0.659425</td>\n",
       "      <td>-0.500597</td>\n",
       "      <td>-0.496871</td>\n",
       "      <td>-0.502377</td>\n",
       "      <td>158</td>\n",
       "      <td>3</td>\n",
       "      <td>0</td>\n",
       "      <td>1</td>\n",
       "      <td>0</td>\n",
       "      <td>1</td>\n",
       "      <td>0</td>\n",
       "      <td>2</td>\n",
       "      <td>4</td>\n",
       "    </tr>\n",
       "    <tr>\n",
       "      <th>496</th>\n",
       "      <td>0.036292</td>\n",
       "      <td>1.913410</td>\n",
       "      <td>-0.669252</td>\n",
       "      <td>-0.659425</td>\n",
       "      <td>-0.344435</td>\n",
       "      <td>-0.324979</td>\n",
       "      <td>-0.342244</td>\n",
       "      <td>159</td>\n",
       "      <td>3</td>\n",
       "      <td>0</td>\n",
       "      <td>1</td>\n",
       "      <td>0</td>\n",
       "      <td>1</td>\n",
       "      <td>0</td>\n",
       "      <td>2</td>\n",
       "      <td>4</td>\n",
       "    </tr>\n",
       "    <tr>\n",
       "      <th>497</th>\n",
       "      <td>0.036292</td>\n",
       "      <td>-0.242788</td>\n",
       "      <td>-0.669252</td>\n",
       "      <td>-0.659425</td>\n",
       "      <td>-0.518275</td>\n",
       "      <td>-0.515970</td>\n",
       "      <td>-0.520369</td>\n",
       "      <td>159</td>\n",
       "      <td>3</td>\n",
       "      <td>0</td>\n",
       "      <td>1</td>\n",
       "      <td>0</td>\n",
       "      <td>1</td>\n",
       "      <td>0</td>\n",
       "      <td>2</td>\n",
       "      <td>4</td>\n",
       "    </tr>\n",
       "    <tr>\n",
       "      <th>498</th>\n",
       "      <td>0.036292</td>\n",
       "      <td>-0.889647</td>\n",
       "      <td>-0.669252</td>\n",
       "      <td>-0.659425</td>\n",
       "      <td>-0.568365</td>\n",
       "      <td>-0.573267</td>\n",
       "      <td>-0.572547</td>\n",
       "      <td>38</td>\n",
       "      <td>7</td>\n",
       "      <td>0</td>\n",
       "      <td>1</td>\n",
       "      <td>0</td>\n",
       "      <td>1</td>\n",
       "      <td>0</td>\n",
       "      <td>2</td>\n",
       "      <td>4</td>\n",
       "    </tr>\n",
       "    <tr>\n",
       "      <th>499</th>\n",
       "      <td>0.036292</td>\n",
       "      <td>-0.781837</td>\n",
       "      <td>-0.669252</td>\n",
       "      <td>-0.659425</td>\n",
       "      <td>-0.559526</td>\n",
       "      <td>-0.563717</td>\n",
       "      <td>-0.563551</td>\n",
       "      <td>38</td>\n",
       "      <td>7</td>\n",
       "      <td>0</td>\n",
       "      <td>1</td>\n",
       "      <td>0</td>\n",
       "      <td>1</td>\n",
       "      <td>0</td>\n",
       "      <td>2</td>\n",
       "      <td>4</td>\n",
       "    </tr>\n",
       "  </tbody>\n",
       "</table>\n",
       "<p>500 rows × 16 columns</p>\n",
       "</div>"
      ],
      "text/plain": [
       "     Customer_Age  Order_Quantity  Unit_Cost  Unit_Price    Profit      Cost  \\\n",
       "0       -1.549292       -0.566218   1.308878    1.316960  1.125846  1.097898   \n",
       "1       -1.549292       -0.566218   1.308878    1.316960  1.125846  1.097898   \n",
       "2       -0.668412       -0.889647   1.308878    1.316960  0.474680  0.453306   \n",
       "3       -0.668412       -0.674027   1.308878    1.316960  0.910755  0.883034   \n",
       "4       -0.668412       -1.213077   1.308878    1.316960 -0.176487 -0.191286   \n",
       "..            ...             ...        ...         ...       ...       ...   \n",
       "495      0.036292       -0.027168  -0.669252   -0.659425 -0.500597 -0.496871   \n",
       "496      0.036292        1.913410  -0.669252   -0.659425 -0.344435 -0.324979   \n",
       "497      0.036292       -0.242788  -0.669252   -0.659425 -0.518275 -0.515970   \n",
       "498      0.036292       -0.889647  -0.669252   -0.659425 -0.568365 -0.573267   \n",
       "499      0.036292       -0.781837  -0.669252   -0.659425 -0.559526 -0.563717   \n",
       "\n",
       "      Revenue  Date  Month  Age_Group  Customer_Gender  Country  State  \\\n",
       "0    1.091750   234      9          3                1        0      1   \n",
       "1    1.091750   235      9          3                1        0      1   \n",
       "2    0.451221    16      1          2                1        0      1   \n",
       "3    0.879440    17      1          2                1        0      1   \n",
       "4   -0.189309    18     11          2                1        0      1   \n",
       "..        ...   ...    ...        ...              ...      ...    ...   \n",
       "495 -0.502377   158      3          0                1        0      1   \n",
       "496 -0.342244   159      3          0                1        0      1   \n",
       "497 -0.520369   159      3          0                1        0      1   \n",
       "498 -0.572547    38      7          0                1        0      1   \n",
       "499 -0.563551    38      7          0                1        0      1   \n",
       "\n",
       "     Product_Category  Sub_Category  Product  \n",
       "0                   0             0        1  \n",
       "1                   0             0        1  \n",
       "2                   0             0        1  \n",
       "3                   0             0        1  \n",
       "4                   0             0        1  \n",
       "..                ...           ...      ...  \n",
       "495                 0             2        4  \n",
       "496                 0             2        4  \n",
       "497                 0             2        4  \n",
       "498                 0             2        4  \n",
       "499                 0             2        4  \n",
       "\n",
       "[500 rows x 16 columns]"
      ]
     },
     "execution_count": 13,
     "metadata": {},
     "output_type": "execute_result"
    }
   ],
   "source": [
    "final_df = pd.concat([df_scaled,category],axis = 1) # axis = 1 joining by column, 0 by row\n",
    "final_df = final_df.iloc[:, 2:]\n",
    "final_df"
   ]
  },
  {
   "cell_type": "code",
   "execution_count": 14,
   "id": "e45f6437-31b7-4c2a-b147-dae0a78489e3",
   "metadata": {},
   "outputs": [],
   "source": [
    "cols = [\"Order_Quantity\",\"Unit_Cost\",\"Unit_Price\",\"Customer_Age\",\"Revenue\"]"
   ]
  },
  {
   "cell_type": "code",
   "execution_count": 15,
   "id": "3c42f79e-3370-4905-af5d-0324d23d9558",
   "metadata": {},
   "outputs": [
    {
     "data": {
      "text/plain": [
       "Index(['Day', 'Year', 'Customer_Age', 'Order_Quantity', 'Unit_Cost',\n",
       "       'Unit_Price', 'Profit', 'Cost', 'Revenue'],\n",
       "      dtype='object')"
      ]
     },
     "execution_count": 15,
     "metadata": {},
     "output_type": "execute_result"
    }
   ],
   "source": [
    "numerical.columns"
   ]
  },
  {
   "cell_type": "code",
   "execution_count": 16,
   "id": "a4a934f5-4cec-4efc-986d-3cd88debe63f",
   "metadata": {},
   "outputs": [
    {
     "data": {
      "image/png": "[encoded data removed]",
      "text/plain": [
       "<Figure size 1000x600 with 2 Axes>"
      ]
     },
     "metadata": {},
     "output_type": "display_data"
    }
   ],
   "source": [
    "# TASK2\n",
    "fig,ax =  plt.subplots(figsize=(10,6))\n",
    "sns.heatmap(numerical.corr(),annot = True)\n",
    "plt.show()"
   ]
  },
  {
   "cell_type": "markdown",
   "id": "812289d1-547b-492f-a2ca-80174f59f291",
   "metadata": {},
   "source": [
    "# From the above HeatMap Unit_CostAnd Revenue are highly correlated"
   ]
  },
  {
   "cell_type": "code",
   "execution_count": 18,
   "id": "905f3e38-3667-462a-b089-59e560b54f7b",
   "metadata": {},
   "outputs": [],
   "source": [
    "# TASK3 \n",
    "# SIMPLE LINEAR REGRESSION WOITH THE HIGHLY CORRELATED COLUMN"
   ]
  },
  {
   "cell_type": "code",
   "execution_count": 19,
   "id": "27f7d304-e1c8-4208-833f-53db04fb1593",
   "metadata": {},
   "outputs": [],
   "source": [
    "x = np.array(final_df['Unit_Cost']).reshape(-1,1)"
   ]
  },
  {
   "cell_type": "code",
   "execution_count": 20,
   "id": "6a87e447-18f5-45d4-8e02-02ee6b07171a",
   "metadata": {},
   "outputs": [],
   "source": [
    "y = np.array(final_df['Revenue']).reshape(-1,1)"
   ]
  },
  {
   "cell_type": "code",
   "execution_count": 21,
   "id": "6cefa3c1-4761-4572-8c46-f67da551e9be",
   "metadata": {},
   "outputs": [],
   "source": [
    "x_train , x_test , y_train , y_test = train_test_split(x,y,train_size = 0.7,random_state = 42)"
   ]
  },
  {
   "cell_type": "code",
   "execution_count": 22,
   "id": "d7654731-26ce-420c-a842-91039a681ce7",
   "metadata": {},
   "outputs": [
    {
     "data": {
      "text/plain": [
       "0.4282232386283019"
      ]
     },
     "execution_count": 22,
     "metadata": {},
     "output_type": "execute_result"
    }
   ],
   "source": [
    "linear_model = LinearRegression()\n",
    "simple_linear  = linear_model.fit(x_train,y_train)\n",
    "r_sq = simple_linear.score(x_train,y_train)\n",
    "r_sq"
   ]
  },
  {
   "cell_type": "code",
   "execution_count": 23,
   "id": "47d08088-c64d-4540-9530-7ec279526fff",
   "metadata": {},
   "outputs": [
    {
     "data": {
      "image/png": "[encoded data removed]",
      "text/plain": [
       "<Figure size 640x480 with 1 Axes>"
      ]
     },
     "metadata": {},
     "output_type": "display_data"
    }
   ],
   "source": [
    "sns.regplot(x = \"Unit_Cost\", y = \"Revenue\", data  = final_df, line_kws = {\"color\":\"black\"})\n",
    "plt.show()"
   ]
  },
  {
   "cell_type": "code",
   "execution_count": 76,
   "id": "17e54fa0-9670-4c70-841b-214aac06d335",
   "metadata": {},
   "outputs": [],
   "source": [
    "y_pred = simple_linear.predict(x_test)\n"
   ]
  },
  {
   "cell_type": "code",
   "execution_count": 74,
   "id": "baa66e4b-de93-41ee-9889-9611599241d3",
   "metadata": {},
   "outputs": [
    {
     "data": {
      "text/plain": [
       "0.9356055584999816"
      ]
     },
     "execution_count": 74,
     "metadata": {},
     "output_type": "execute_result"
    }
   ],
   "source": [
    "# TASK4\n",
    "mse = mean_squared_error(y_test,y_pred)\n",
    "mse"
   ]
  },
  {
   "cell_type": "code",
   "execution_count": 78,
   "id": "5a37fae4-f171-48d9-8e75-283954f86993",
   "metadata": {},
   "outputs": [
    {
     "data": {
      "text/plain": [
       "0.9672670564533776"
      ]
     },
     "execution_count": 78,
     "metadata": {},
     "output_type": "execute_result"
    }
   ],
   "source": [
    "rmse = root_mean_squared_error(y_test,y_pred) # RMSE\n",
    "rmse\n"
   ]
  },
  {
   "cell_type": "code",
   "execution_count": 80,
   "id": "ccc4a165-b304-47d8-90ae-1da60478bd8c",
   "metadata": {},
   "outputs": [
    {
     "data": {
      "text/plain": [
       "0.43733428054461426"
      ]
     },
     "execution_count": 80,
     "metadata": {},
     "output_type": "execute_result"
    }
   ],
   "source": [
    "mae = mean_absolute_error(y_test,y_pred) # for mean absolute error\n",
    "mae"
   ]
  },
  {
   "cell_type": "code",
   "execution_count": 28,
   "id": "fe92368c-38bf-4e24-8199-e5d036729028",
   "metadata": {},
   "outputs": [
    {
     "data": {
      "text/plain": [
       "0.36413667544433315"
      ]
     },
     "execution_count": 28,
     "metadata": {},
     "output_type": "execute_result"
    }
   ],
   "source": [
    "r2 = r2_score(y_test, y_pred)\n",
    "r2\n"
   ]
  },
  {
   "cell_type": "code",
   "execution_count": 82,
   "id": "2e812d9b-65e7-400b-a983-75578ec3cc2d",
   "metadata": {},
   "outputs": [
    {
     "data": {
      "text/plain": [
       "0.36413667544433315"
      ]
     },
     "execution_count": 82,
     "metadata": {},
     "output_type": "execute_result"
    }
   ],
   "source": [
    "r_sq = simple_linear.score(x_test,y_test)\n",
    "r_sq"
   ]
  },
  {
   "cell_type": "code",
   "execution_count": 30,
   "id": "c0bf04d1-1857-4b2d-ace6-e593c4332266",
   "metadata": {},
   "outputs": [
    {
     "data": {
      "text/plain": [
       "array([-0.05165305])"
      ]
     },
     "execution_count": 30,
     "metadata": {},
     "output_type": "execute_result"
    }
   ],
   "source": [
    "# TASK3\n",
    "linear_model.intercept_"
   ]
  },
  {
   "cell_type": "code",
   "execution_count": 31,
   "id": "aaf7eb18-b3db-4367-b5ae-6ac8cd2fb844",
   "metadata": {},
   "outputs": [
    {
     "data": {
      "text/plain": [
       "array([[0.57784963]])"
      ]
     },
     "execution_count": 31,
     "metadata": {},
     "output_type": "execute_result"
    }
   ],
   "source": [
    "linear_model.coef_"
   ]
  },
  {
   "cell_type": "code",
   "execution_count": 32,
   "id": "14b4a585-1739-4fb6-ab30-ba289a346cbc",
   "metadata": {},
   "outputs": [
    {
     "data": {
      "text/plain": [
       "0     -0.438380\n",
       "1      0.704682\n",
       "2     -0.438380\n",
       "3     -0.385214\n",
       "4      1.076841\n",
       "         ...   \n",
       "145   -0.438380\n",
       "146    0.704682\n",
       "147   -0.438380\n",
       "148   -0.438380\n",
       "149   -0.438380\n",
       "Name: y_pred, Length: 150, dtype: float64"
      ]
     },
     "execution_count": 32,
     "metadata": {},
     "output_type": "execute_result"
    }
   ],
   "source": [
    "df_residual= pd.DataFrame()\n",
    "df_residual[\"y_pred\"] = pd.DataFrame(y_pred)\n",
    "df_residual[\"y_pred\"]"
   ]
  },
  {
   "cell_type": "code",
   "execution_count": 33,
   "id": "3766e1f5-f235-4fb6-ad5c-b88100fdc216",
   "metadata": {},
   "outputs": [
    {
     "data": {
      "text/plain": [
       "0     -0.502377\n",
       "1      0.451221\n",
       "2     -0.572547\n",
       "3     -0.261278\n",
       "4     -0.335047\n",
       "         ...   \n",
       "145   -0.358437\n",
       "146   -0.403418\n",
       "147   -0.554554\n",
       "148   -0.511373\n",
       "149   -0.394422\n",
       "Name: y_actual, Length: 150, dtype: float64"
      ]
     },
     "execution_count": 33,
     "metadata": {},
     "output_type": "execute_result"
    }
   ],
   "source": [
    "df_residual[\"y_actual\"] = pd.DataFrame(y_test)\n",
    "df_residual[\"y_actual\"]"
   ]
  },
  {
   "cell_type": "code",
   "execution_count": 34,
   "id": "78c8045b-ce59-4266-bc44-9082cee30ace",
   "metadata": {},
   "outputs": [
    {
     "data": {
      "text/html": [
       "<div>\n",
       "<style scoped>\n",
       "    .dataframe tbody tr th:only-of-type {\n",
       "        vertical-align: middle;\n",
       "    }\n",
       "\n",
       "    .dataframe tbody tr th {\n",
       "        vertical-align: top;\n",
       "    }\n",
       "\n",
       "    .dataframe thead th {\n",
       "        text-align: right;\n",
       "    }\n",
       "</style>\n",
       "<table border=\"1\" class=\"dataframe\">\n",
       "  <thead>\n",
       "    <tr style=\"text-align: right;\">\n",
       "      <th></th>\n",
       "      <th>y_pred</th>\n",
       "      <th>y_actual</th>\n",
       "      <th>residual</th>\n",
       "    </tr>\n",
       "  </thead>\n",
       "  <tbody>\n",
       "    <tr>\n",
       "      <th>0</th>\n",
       "      <td>-0.438380</td>\n",
       "      <td>-0.502377</td>\n",
       "      <td>0.063996</td>\n",
       "    </tr>\n",
       "    <tr>\n",
       "      <th>1</th>\n",
       "      <td>0.704682</td>\n",
       "      <td>0.451221</td>\n",
       "      <td>0.253461</td>\n",
       "    </tr>\n",
       "    <tr>\n",
       "      <th>2</th>\n",
       "      <td>-0.438380</td>\n",
       "      <td>-0.572547</td>\n",
       "      <td>0.134167</td>\n",
       "    </tr>\n",
       "    <tr>\n",
       "      <th>3</th>\n",
       "      <td>-0.385214</td>\n",
       "      <td>-0.261278</td>\n",
       "      <td>0.123936</td>\n",
       "    </tr>\n",
       "    <tr>\n",
       "      <th>4</th>\n",
       "      <td>1.076841</td>\n",
       "      <td>-0.335047</td>\n",
       "      <td>1.411888</td>\n",
       "    </tr>\n",
       "    <tr>\n",
       "      <th>...</th>\n",
       "      <td>...</td>\n",
       "      <td>...</td>\n",
       "      <td>...</td>\n",
       "    </tr>\n",
       "    <tr>\n",
       "      <th>145</th>\n",
       "      <td>-0.438380</td>\n",
       "      <td>-0.358437</td>\n",
       "      <td>0.079943</td>\n",
       "    </tr>\n",
       "    <tr>\n",
       "      <th>146</th>\n",
       "      <td>0.704682</td>\n",
       "      <td>-0.403418</td>\n",
       "      <td>1.108100</td>\n",
       "    </tr>\n",
       "    <tr>\n",
       "      <th>147</th>\n",
       "      <td>-0.438380</td>\n",
       "      <td>-0.554554</td>\n",
       "      <td>0.116174</td>\n",
       "    </tr>\n",
       "    <tr>\n",
       "      <th>148</th>\n",
       "      <td>-0.438380</td>\n",
       "      <td>-0.511373</td>\n",
       "      <td>0.072993</td>\n",
       "    </tr>\n",
       "    <tr>\n",
       "      <th>149</th>\n",
       "      <td>-0.438380</td>\n",
       "      <td>-0.394422</td>\n",
       "      <td>0.043958</td>\n",
       "    </tr>\n",
       "  </tbody>\n",
       "</table>\n",
       "<p>150 rows × 3 columns</p>\n",
       "</div>"
      ],
      "text/plain": [
       "       y_pred  y_actual  residual\n",
       "0   -0.438380 -0.502377  0.063996\n",
       "1    0.704682  0.451221  0.253461\n",
       "2   -0.438380 -0.572547  0.134167\n",
       "3   -0.385214 -0.261278  0.123936\n",
       "4    1.076841 -0.335047  1.411888\n",
       "..        ...       ...       ...\n",
       "145 -0.438380 -0.358437  0.079943\n",
       "146  0.704682 -0.403418  1.108100\n",
       "147 -0.438380 -0.554554  0.116174\n",
       "148 -0.438380 -0.511373  0.072993\n",
       "149 -0.438380 -0.394422  0.043958\n",
       "\n",
       "[150 rows x 3 columns]"
      ]
     },
     "execution_count": 34,
     "metadata": {},
     "output_type": "execute_result"
    }
   ],
   "source": [
    "df_residual[\"residual\"] = abs(df_residual[\"y_pred\"] - df_residual[\"y_actual\"])\n",
    "df_residual"
   ]
  },
  {
   "cell_type": "code",
   "execution_count": 35,
   "id": "fe7f4728-6540-45d0-8695-d25c5560d7bf",
   "metadata": {},
   "outputs": [
    {
     "data": {
      "image/png": "[encoded data removed]",
      "text/plain": [
       "<Figure size 640x480 with 1 Axes>"
      ]
     },
     "metadata": {},
     "output_type": "display_data"
    }
   ],
   "source": [
    "# residual plot\n",
    "sns.residplot(x=df_residual.index, y =\"residual\" , data = df_residual);"
   ]
  },
  {
   "cell_type": "code",
   "execution_count": 36,
   "id": "165222d6-364a-4d82-8d4a-d20124a3a875",
   "metadata": {},
   "outputs": [],
   "source": [
    "# As above shown figure homoscedasticity is followed\n",
    "# And the assumption is normality of residuals"
   ]
  },
  {
   "cell_type": "code",
   "execution_count": 37,
   "id": "540496ee-3cf1-4136-9ee6-691cd8f0e0f1",
   "metadata": {},
   "outputs": [],
   "source": [
    "# As we got r_square score value as 0.06665 its a very bad model"
   ]
  }
 ],
 "metadata": {
  "kernelspec": {
   "display_name": "Python [conda env:base] *",
   "language": "python",
   "name": "conda-base-py"
  },
  "language_info": {
   "codemirror_mode": {
    "name": "ipython",
    "version": 3
   },
   "file_extension": ".py",
   "mimetype": "text/x-python",
   "name": "python",
   "nbconvert_exporter": "python",
   "pygments_lexer": "ipython3",
   "version": "3.12.7"
  }
 },
 "nbformat": 4,
 "nbformat_minor": 5
}
