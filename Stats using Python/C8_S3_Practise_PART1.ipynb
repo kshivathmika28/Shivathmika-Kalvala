{
 "cells": [
  {
   "cell_type": "code",
   "execution_count": 1,
   "id": "709f439b-2a24-48dc-a3f8-ad38e33e0d34",
   "metadata": {},
   "outputs": [],
   "source": [
    "# TASK1_a\n",
    "# H0 mu = 33.88\n",
    "# HA mu != 33.88\n",
    "# Two-tailed z test"
   ]
  },
  {
   "cell_type": "code",
   "execution_count": 7,
   "id": "b4523404-97a5-49aa-aaaf-35b2972b64be",
   "metadata": {},
   "outputs": [],
   "source": [
    "from scipy.stats import norm\n",
    "mu = 33.88\n",
    "sigma = 1.28\n",
    "x_bar = 32.18\n",
    "n = 49\n",
    "alpha = 0.05/2\n",
    "z_stats = (x_bar - mu) / (sigma / (n)**0.5)\n",
    "p_value = 2 * norm.sf(abs(z_stats))\n",
    "z_crit = norm.ppf(1-alpha)\n"
   ]
  },
  {
   "cell_type": "code",
   "execution_count": 9,
   "id": "ea09c85b-c80d-4547-8373-599b64c7c90e",
   "metadata": {},
   "outputs": [
    {
     "name": "stdout",
     "output_type": "stream",
     "text": [
      "1.959963984540054\n"
     ]
    }
   ],
   "source": [
    "# Task1_b\n",
    "print(z_crit)"
   ]
  },
  {
   "cell_type": "code",
   "execution_count": 11,
   "id": "35e0c87b-af26-4ab8-b2a7-f72cd3d6fd47",
   "metadata": {},
   "outputs": [
    {
     "name": "stdout",
     "output_type": "stream",
     "text": [
      "-9.296875000000016\n"
     ]
    }
   ],
   "source": [
    "# Task1_c\n",
    "print(z_stats)\n"
   ]
  },
  {
   "cell_type": "code",
   "execution_count": 13,
   "id": "f2833f9a-0ed6-4f4f-ad24-d4c6ebc6b6cb",
   "metadata": {},
   "outputs": [
    {
     "name": "stdout",
     "output_type": "stream",
     "text": [
      "1.4463410868771357e-20\n"
     ]
    }
   ],
   "source": [
    "# Task1_d\n",
    "print(p_value)"
   ]
  },
  {
   "cell_type": "code",
   "execution_count": 15,
   "id": "210f2a64-0f0a-4033-a79f-d6a8dc8b6c11",
   "metadata": {},
   "outputs": [
    {
     "data": {
      "text/plain": [
       "True"
      ]
     },
     "execution_count": 15,
     "metadata": {},
     "output_type": "execute_result"
    }
   ],
   "source": [
    "# Task1_e\n",
    "p_value < alpha"
   ]
  },
  {
   "cell_type": "code",
   "execution_count": 17,
   "id": "18f51cf1-55a9-497a-9eac-7706f273b030",
   "metadata": {},
   "outputs": [
    {
     "data": {
      "text/plain": [
       "False"
      ]
     },
     "execution_count": 17,
     "metadata": {},
     "output_type": "execute_result"
    }
   ],
   "source": [
    "-z_crit>z_stats >z_crit"
   ]
  },
  {
   "cell_type": "markdown",
   "id": "7c1eefd3-10ea-4bc0-91e4-6950e07c0f40",
   "metadata": {},
   "source": [
    "# Reject the null hypothesis means the prices is not equal to 33.88 so its may be incremented or decremented\n"
   ]
  }
 ],
 "metadata": {
  "kernelspec": {
   "display_name": "Python [conda env:base] *",
   "language": "python",
   "name": "conda-base-py"
  },
  "language_info": {
   "codemirror_mode": {
    "name": "ipython",
    "version": 3
   },
   "file_extension": ".py",
   "mimetype": "text/x-python",
   "name": "python",
   "nbconvert_exporter": "python",
   "pygments_lexer": "ipython3",
   "version": "3.12.7"
  }
 },
 "nbformat": 4,
 "nbformat_minor": 5
}
