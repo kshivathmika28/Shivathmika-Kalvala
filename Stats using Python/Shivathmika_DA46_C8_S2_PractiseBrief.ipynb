{
 "cells": [
  {
   "cell_type": "code",
   "execution_count": 1,
   "id": "6d9de73d-8095-4d91-befc-ceb977e4ec08",
   "metadata": {},
   "outputs": [],
   "source": [
    "import pandas as pd\n",
    "import numpy as np\n",
    "import seaborn as sns"
   ]
  },
  {
   "cell_type": "code",
   "execution_count": 2,
   "id": "419f7efe-6dfe-487d-acfa-f28b100dd90d",
   "metadata": {},
   "outputs": [
    {
     "data": {
      "text/html": [
       "<div>\n",
       "<style scoped>\n",
       "    .dataframe tbody tr th:only-of-type {\n",
       "        vertical-align: middle;\n",
       "    }\n",
       "\n",
       "    .dataframe tbody tr th {\n",
       "        vertical-align: top;\n",
       "    }\n",
       "\n",
       "    .dataframe thead th {\n",
       "        text-align: right;\n",
       "    }\n",
       "</style>\n",
       "<table border=\"1\" class=\"dataframe\">\n",
       "  <thead>\n",
       "    <tr style=\"text-align: right;\">\n",
       "      <th></th>\n",
       "      <th>Index</th>\n",
       "      <th>key</th>\n",
       "      <th>fare_amount</th>\n",
       "      <th>pickup_datetime</th>\n",
       "      <th>pickup_longitude</th>\n",
       "      <th>pickup_latitude</th>\n",
       "      <th>dropoff_longitude</th>\n",
       "      <th>dropoff_latitude</th>\n",
       "      <th>passenger_count</th>\n",
       "    </tr>\n",
       "  </thead>\n",
       "  <tbody>\n",
       "    <tr>\n",
       "      <th>0</th>\n",
       "      <td>24238194</td>\n",
       "      <td>52:06.0</td>\n",
       "      <td>7.5</td>\n",
       "      <td>2015-05-07 19:52:06 UTC</td>\n",
       "      <td>-73.999817</td>\n",
       "      <td>40.738354</td>\n",
       "      <td>-73.999512</td>\n",
       "      <td>40.723217</td>\n",
       "      <td>1</td>\n",
       "    </tr>\n",
       "    <tr>\n",
       "      <th>1</th>\n",
       "      <td>27835199</td>\n",
       "      <td>04:56.0</td>\n",
       "      <td>7.7</td>\n",
       "      <td>2009-07-17 20:04:56 UTC</td>\n",
       "      <td>-73.994355</td>\n",
       "      <td>40.728225</td>\n",
       "      <td>-73.994710</td>\n",
       "      <td>40.750325</td>\n",
       "      <td>1</td>\n",
       "    </tr>\n",
       "    <tr>\n",
       "      <th>2</th>\n",
       "      <td>44984355</td>\n",
       "      <td>45:00.0</td>\n",
       "      <td>12.9</td>\n",
       "      <td>2009-08-24 21:45:00 UTC</td>\n",
       "      <td>-74.005043</td>\n",
       "      <td>40.740770</td>\n",
       "      <td>-73.962565</td>\n",
       "      <td>40.772647</td>\n",
       "      <td>1</td>\n",
       "    </tr>\n",
       "    <tr>\n",
       "      <th>3</th>\n",
       "      <td>25894730</td>\n",
       "      <td>22:21.0</td>\n",
       "      <td>5.3</td>\n",
       "      <td>2009-06-26 08:22:21 UTC</td>\n",
       "      <td>-73.976124</td>\n",
       "      <td>40.790844</td>\n",
       "      <td>-73.965316</td>\n",
       "      <td>40.803349</td>\n",
       "      <td>3</td>\n",
       "    </tr>\n",
       "    <tr>\n",
       "      <th>4</th>\n",
       "      <td>17610152</td>\n",
       "      <td>47:00.0</td>\n",
       "      <td>16.0</td>\n",
       "      <td>2014-08-28 17:47:00 UTC</td>\n",
       "      <td>-73.925023</td>\n",
       "      <td>40.744085</td>\n",
       "      <td>-73.973082</td>\n",
       "      <td>40.761247</td>\n",
       "      <td>5</td>\n",
       "    </tr>\n",
       "    <tr>\n",
       "      <th>...</th>\n",
       "      <td>...</td>\n",
       "      <td>...</td>\n",
       "      <td>...</td>\n",
       "      <td>...</td>\n",
       "      <td>...</td>\n",
       "      <td>...</td>\n",
       "      <td>...</td>\n",
       "      <td>...</td>\n",
       "      <td>...</td>\n",
       "    </tr>\n",
       "    <tr>\n",
       "      <th>199995</th>\n",
       "      <td>42598914</td>\n",
       "      <td>49:00.0</td>\n",
       "      <td>3.0</td>\n",
       "      <td>2012-10-28 10:49:00 UTC</td>\n",
       "      <td>-73.987042</td>\n",
       "      <td>40.739367</td>\n",
       "      <td>-73.986525</td>\n",
       "      <td>40.740297</td>\n",
       "      <td>1</td>\n",
       "    </tr>\n",
       "    <tr>\n",
       "      <th>199996</th>\n",
       "      <td>16382965</td>\n",
       "      <td>09:00.0</td>\n",
       "      <td>7.5</td>\n",
       "      <td>2014-03-14 01:09:00 UTC</td>\n",
       "      <td>-73.984722</td>\n",
       "      <td>40.736837</td>\n",
       "      <td>-74.006672</td>\n",
       "      <td>40.739620</td>\n",
       "      <td>1</td>\n",
       "    </tr>\n",
       "    <tr>\n",
       "      <th>199997</th>\n",
       "      <td>27804658</td>\n",
       "      <td>42:00.0</td>\n",
       "      <td>30.9</td>\n",
       "      <td>2009-06-29 00:42:00 UTC</td>\n",
       "      <td>-73.986017</td>\n",
       "      <td>40.756487</td>\n",
       "      <td>-73.858957</td>\n",
       "      <td>40.692588</td>\n",
       "      <td>2</td>\n",
       "    </tr>\n",
       "    <tr>\n",
       "      <th>199998</th>\n",
       "      <td>20259894</td>\n",
       "      <td>56:25.0</td>\n",
       "      <td>14.5</td>\n",
       "      <td>2015-05-20 14:56:25 UTC</td>\n",
       "      <td>-73.997124</td>\n",
       "      <td>40.725452</td>\n",
       "      <td>-73.983215</td>\n",
       "      <td>40.695416</td>\n",
       "      <td>1</td>\n",
       "    </tr>\n",
       "    <tr>\n",
       "      <th>199999</th>\n",
       "      <td>11951496</td>\n",
       "      <td>08:00.0</td>\n",
       "      <td>14.1</td>\n",
       "      <td>2010-05-15 04:08:00 UTC</td>\n",
       "      <td>-73.984395</td>\n",
       "      <td>40.720077</td>\n",
       "      <td>-73.985508</td>\n",
       "      <td>40.768793</td>\n",
       "      <td>1</td>\n",
       "    </tr>\n",
       "  </tbody>\n",
       "</table>\n",
       "<p>200000 rows × 9 columns</p>\n",
       "</div>"
      ],
      "text/plain": [
       "           Index      key  fare_amount          pickup_datetime  \\\n",
       "0       24238194  52:06.0          7.5  2015-05-07 19:52:06 UTC   \n",
       "1       27835199  04:56.0          7.7  2009-07-17 20:04:56 UTC   \n",
       "2       44984355  45:00.0         12.9  2009-08-24 21:45:00 UTC   \n",
       "3       25894730  22:21.0          5.3  2009-06-26 08:22:21 UTC   \n",
       "4       17610152  47:00.0         16.0  2014-08-28 17:47:00 UTC   \n",
       "...          ...      ...          ...                      ...   \n",
       "199995  42598914  49:00.0          3.0  2012-10-28 10:49:00 UTC   \n",
       "199996  16382965  09:00.0          7.5  2014-03-14 01:09:00 UTC   \n",
       "199997  27804658  42:00.0         30.9  2009-06-29 00:42:00 UTC   \n",
       "199998  20259894  56:25.0         14.5  2015-05-20 14:56:25 UTC   \n",
       "199999  11951496  08:00.0         14.1  2010-05-15 04:08:00 UTC   \n",
       "\n",
       "        pickup_longitude  pickup_latitude  dropoff_longitude  \\\n",
       "0             -73.999817        40.738354         -73.999512   \n",
       "1             -73.994355        40.728225         -73.994710   \n",
       "2             -74.005043        40.740770         -73.962565   \n",
       "3             -73.976124        40.790844         -73.965316   \n",
       "4             -73.925023        40.744085         -73.973082   \n",
       "...                  ...              ...                ...   \n",
       "199995        -73.987042        40.739367         -73.986525   \n",
       "199996        -73.984722        40.736837         -74.006672   \n",
       "199997        -73.986017        40.756487         -73.858957   \n",
       "199998        -73.997124        40.725452         -73.983215   \n",
       "199999        -73.984395        40.720077         -73.985508   \n",
       "\n",
       "        dropoff_latitude  passenger_count  \n",
       "0              40.723217                1  \n",
       "1              40.750325                1  \n",
       "2              40.772647                1  \n",
       "3              40.803349                3  \n",
       "4              40.761247                5  \n",
       "...                  ...              ...  \n",
       "199995         40.740297                1  \n",
       "199996         40.739620                1  \n",
       "199997         40.692588                2  \n",
       "199998         40.695416                1  \n",
       "199999         40.768793                1  \n",
       "\n",
       "[200000 rows x 9 columns]"
      ]
     },
     "execution_count": 2,
     "metadata": {},
     "output_type": "execute_result"
    }
   ],
   "source": [
    "# TASK1_1\n",
    "d = pd.read_csv(r'C:\\Users\\akshi\\Documents\\C8\\DS1_C8_S2_SmartCarRiding_Data_Practice.csv')\n",
    "d"
   ]
  },
  {
   "cell_type": "code",
   "execution_count": 3,
   "id": "4224b96a-8507-4156-a7a5-c6279a93ec4d",
   "metadata": {},
   "outputs": [
    {
     "data": {
      "text/plain": [
       "<bound method NDFrame.describe of            Index      key  fare_amount          pickup_datetime  \\\n",
       "0       24238194  52:06.0          7.5  2015-05-07 19:52:06 UTC   \n",
       "1       27835199  04:56.0          7.7  2009-07-17 20:04:56 UTC   \n",
       "2       44984355  45:00.0         12.9  2009-08-24 21:45:00 UTC   \n",
       "3       25894730  22:21.0          5.3  2009-06-26 08:22:21 UTC   \n",
       "4       17610152  47:00.0         16.0  2014-08-28 17:47:00 UTC   \n",
       "...          ...      ...          ...                      ...   \n",
       "199995  42598914  49:00.0          3.0  2012-10-28 10:49:00 UTC   \n",
       "199996  16382965  09:00.0          7.5  2014-03-14 01:09:00 UTC   \n",
       "199997  27804658  42:00.0         30.9  2009-06-29 00:42:00 UTC   \n",
       "199998  20259894  56:25.0         14.5  2015-05-20 14:56:25 UTC   \n",
       "199999  11951496  08:00.0         14.1  2010-05-15 04:08:00 UTC   \n",
       "\n",
       "        pickup_longitude  pickup_latitude  dropoff_longitude  \\\n",
       "0             -73.999817        40.738354         -73.999512   \n",
       "1             -73.994355        40.728225         -73.994710   \n",
       "2             -74.005043        40.740770         -73.962565   \n",
       "3             -73.976124        40.790844         -73.965316   \n",
       "4             -73.925023        40.744085         -73.973082   \n",
       "...                  ...              ...                ...   \n",
       "199995        -73.987042        40.739367         -73.986525   \n",
       "199996        -73.984722        40.736837         -74.006672   \n",
       "199997        -73.986017        40.756487         -73.858957   \n",
       "199998        -73.997124        40.725452         -73.983215   \n",
       "199999        -73.984395        40.720077         -73.985508   \n",
       "\n",
       "        dropoff_latitude  passenger_count  \n",
       "0              40.723217                1  \n",
       "1              40.750325                1  \n",
       "2              40.772647                1  \n",
       "3              40.803349                3  \n",
       "4              40.761247                5  \n",
       "...                  ...              ...  \n",
       "199995         40.740297                1  \n",
       "199996         40.739620                1  \n",
       "199997         40.692588                2  \n",
       "199998         40.695416                1  \n",
       "199999         40.768793                1  \n",
       "\n",
       "[200000 rows x 9 columns]>"
      ]
     },
     "execution_count": 3,
     "metadata": {},
     "output_type": "execute_result"
    }
   ],
   "source": [
    "# TASK1-2\n",
    "d.describe"
   ]
  },
  {
   "cell_type": "code",
   "execution_count": 4,
   "id": "41dac0fb-9fb7-467e-b01a-d3da2ccd755f",
   "metadata": {},
   "outputs": [
    {
     "data": {
      "text/plain": [
       "0          7.5\n",
       "1          7.7\n",
       "2         12.9\n",
       "3          5.3\n",
       "4         16.0\n",
       "          ... \n",
       "199995     3.0\n",
       "199996     7.5\n",
       "199997    30.9\n",
       "199998    14.5\n",
       "199999    14.1\n",
       "Name: fare_amount, Length: 200000, dtype: float64"
      ]
     },
     "execution_count": 4,
     "metadata": {},
     "output_type": "execute_result"
    }
   ],
   "source": [
    "d[\"fare_amount\"]"
   ]
  },
  {
   "cell_type": "code",
   "execution_count": 5,
   "id": "251303c7-e60c-4cbb-9da6-7ef0b65f4935",
   "metadata": {},
   "outputs": [
    {
     "data": {
      "text/plain": [
       "Index                  int64\n",
       "key                   object\n",
       "fare_amount          float64\n",
       "pickup_datetime       object\n",
       "pickup_longitude     float64\n",
       "pickup_latitude      float64\n",
       "dropoff_longitude    float64\n",
       "dropoff_latitude     float64\n",
       "passenger_count        int64\n",
       "dtype: object"
      ]
     },
     "execution_count": 5,
     "metadata": {},
     "output_type": "execute_result"
    }
   ],
   "source": [
    "d.dtypes"
   ]
  },
  {
   "cell_type": "code",
   "execution_count": 6,
   "id": "a3f353e8-90a9-4f08-824a-d711359dd388",
   "metadata": {},
   "outputs": [
    {
     "name": "stdout",
     "output_type": "stream",
     "text": [
      "           Index  fare_amount  pickup_longitude  pickup_latitude  \\\n",
      "0       24238194          7.5        -73.999817        40.738354   \n",
      "1       27835199          7.7        -73.994355        40.728225   \n",
      "2       44984355         12.9        -74.005043        40.740770   \n",
      "3       25894730          5.3        -73.976124        40.790844   \n",
      "4       17610152         16.0        -73.925023        40.744085   \n",
      "...          ...          ...               ...              ...   \n",
      "199995  42598914          3.0        -73.987042        40.739367   \n",
      "199996  16382965          7.5        -73.984722        40.736837   \n",
      "199997  27804658         30.9        -73.986017        40.756487   \n",
      "199998  20259894         14.5        -73.997124        40.725452   \n",
      "199999  11951496         14.1        -73.984395        40.720077   \n",
      "\n",
      "        dropoff_longitude  dropoff_latitude  passenger_count  \n",
      "0              -73.999512         40.723217                1  \n",
      "1              -73.994710         40.750325                1  \n",
      "2              -73.962565         40.772647                1  \n",
      "3              -73.965316         40.803349                3  \n",
      "4              -73.973082         40.761247                5  \n",
      "...                   ...               ...              ...  \n",
      "199995         -73.986525         40.740297                1  \n",
      "199996         -74.006672         40.739620                1  \n",
      "199997         -73.858957         40.692588                2  \n",
      "199998         -73.983215         40.695416                1  \n",
      "199999         -73.985508         40.768793                1  \n",
      "\n",
      "[200000 rows x 7 columns]\n",
      "            key          pickup_datetime\n",
      "0       52:06.0  2015-05-07 19:52:06 UTC\n",
      "1       04:56.0  2009-07-17 20:04:56 UTC\n",
      "2       45:00.0  2009-08-24 21:45:00 UTC\n",
      "3       22:21.0  2009-06-26 08:22:21 UTC\n",
      "4       47:00.0  2014-08-28 17:47:00 UTC\n",
      "...         ...                      ...\n",
      "199995  49:00.0  2012-10-28 10:49:00 UTC\n",
      "199996  09:00.0  2014-03-14 01:09:00 UTC\n",
      "199997  42:00.0  2009-06-29 00:42:00 UTC\n",
      "199998  56:25.0  2015-05-20 14:56:25 UTC\n",
      "199999  08:00.0  2010-05-15 04:08:00 UTC\n",
      "\n",
      "[200000 rows x 2 columns]\n"
     ]
    }
   ],
   "source": [
    "# Seperating numerical n categorical columns\n",
    "conti = d.select_dtypes(include=\"number\")  # Selects all numerical columns (e.g., int, float, boolean)\n",
    "categ = d.select_dtypes(exclude=\"number\") # Selects all non-numerical columns (categorical, object, date, etc.)\n",
    "print(conti)\n",
    "print(categ)"
   ]
  },
  {
   "cell_type": "code",
   "execution_count": 12,
   "id": "cecea966-0c07-4aaa-bc4c-4315ec76ba6e",
   "metadata": {},
   "outputs": [],
   "source": [
    "no_outlier = conti.copy()\n",
    "# col = [\"fare_amount\",\"pickup_longitude\",\"pickup_latitude\",\"dropoff_longitude\",\"dropoff_latitude\",\"passenger_count\"]\n",
    "def outlier_cleanup(col):\n",
    "    # Calculate IQR and outlier fences\n",
    "    q1 = no_outlier[col].quantile(0.25)\n",
    "    q3 = no_outlier[col].quantile(0.75)\n",
    "    iqr = q3 - q1\n",
    "    lf = q1 - (1.5 * iqr)  # lower fence\n",
    "    uf = q3 + (1.5 * iqr)  # upper fence\n",
    "\n",
    "    # Check column type for proper handling of integer and float types\n",
    "    col_type = str(no_outlier[col].dtype)\n",
    "\n",
    "    # Apply outlier treatment\n",
    "    if col_type in [\"int64\", \"int32\", \"int16\", \"int8\"]:\n",
    "        # For integer columns, round the fence values and cast them to integers\n",
    "        no_outlier.loc[no_outlier[col] < lf, col] = int(round(lf))\n",
    "        no_outlier.loc[no_outlier[col] > uf, col] = int(round(uf))\n",
    "    else:\n",
    "        # For float columns, directly assign the fence values\n",
    "        no_outlier.loc[no_outlier[col] < lf, col] = lf\n",
    "        no_outlier.loc[no_outlier[col] > uf, col] = uf\n"
   ]
  },
  {
   "cell_type": "code",
   "execution_count": 14,
   "id": "0c624820-0a23-41c1-93bb-5679a2c7058a",
   "metadata": {},
   "outputs": [],
   "source": [
    "# TASK2\n",
    "# Categorical cols\n",
    "# cols = [\"key\", \"pickup_datetime\"]\n",
    "# for col in cols:\n",
    "outlier_cleanup(\"fare_amount\")"
   ]
  },
  {
   "cell_type": "code",
   "execution_count": 26,
   "id": "92ef5d63-d7dc-468d-84cc-4a5ac23176e7",
   "metadata": {},
   "outputs": [
    {
     "data": {
      "text/plain": [
       "fare_amount\n",
       "6.50     9684\n",
       "4.50     8247\n",
       "8.50     7521\n",
       "5.70     5858\n",
       "5.30     5838\n",
       "         ... \n",
       "60.04       1\n",
       "73.25       1\n",
       "69.90       1\n",
       "25.94       1\n",
       "89.10       1\n",
       "Name: count, Length: 1240, dtype: int64"
      ]
     },
     "execution_count": 26,
     "metadata": {},
     "output_type": "execute_result"
    }
   ],
   "source": [
    "d[\"fare_amount\"].value_counts()"
   ]
  },
  {
   "cell_type": "code",
   "execution_count": 28,
   "id": "0079a11b-24bf-4966-9105-f77dfb9f75a8",
   "metadata": {},
   "outputs": [
    {
     "data": {
      "text/plain": [
       "fare_amount\n",
       "22.25    17156\n",
       "6.50      9684\n",
       "4.50      8247\n",
       "8.50      7521\n",
       "5.70      5858\n",
       "         ...  \n",
       "17.15        1\n",
       "16.54        1\n",
       "15.15        1\n",
       "12.27        1\n",
       "10.33        1\n",
       "Name: count, Length: 252, dtype: int64"
      ]
     },
     "execution_count": 28,
     "metadata": {},
     "output_type": "execute_result"
    }
   ],
   "source": [
    "no_outlier[\"fare_amount\"].value_counts()"
   ]
  },
  {
   "cell_type": "code",
   "execution_count": 30,
   "id": "25965df0-c71f-4435-8a88-fab3dffed07e",
   "metadata": {},
   "outputs": [
    {
     "data": {
      "text/plain": [
       "<Axes: xlabel='fare_amount'>"
      ]
     },
     "execution_count": 30,
     "metadata": {},
     "output_type": "execute_result"
    },
    {
     "data": {
      "image/png": "[encoded data removed]",
      "text/plain": [
       "<Figure size 640x480 with 1 Axes>"
      ]
     },
     "metadata": {},
     "output_type": "display_data"
    }
   ],
   "source": [
    "sns.boxplot(x = \"fare_amount\", data = d)"
   ]
  },
  {
   "cell_type": "code",
   "execution_count": 32,
   "id": "2256f14e-a040-478e-8462-20abc7aec838",
   "metadata": {},
   "outputs": [
    {
     "data": {
      "text/plain": [
       "<Axes: xlabel='fare_amount'>"
      ]
     },
     "execution_count": 32,
     "metadata": {},
     "output_type": "execute_result"
    },
    {
     "data": {
      "image/png": "[encoded data removed]",
      "text/plain": [
       "<Figure size 640x480 with 1 Axes>"
      ]
     },
     "metadata": {},
     "output_type": "display_data"
    }
   ],
   "source": [
    "sns.boxplot(x = \"fare_amount\", data = no_outlier)"
   ]
  },
  {
   "cell_type": "code",
   "execution_count": null,
   "id": "404e3eac-9f00-4eec-b1f6-c5b58c6bf4a0",
   "metadata": {},
   "outputs": [],
   "source": [
    "for col in no_outlier.columns:\n",
    "    sns.boxplot(x = no_outlier[col])\n",
    "    plt.show()"
   ]
  },
  {
   "cell_type": "code",
   "execution_count": null,
   "id": "adc36781-3fd6-4e36-a005-f7d2c4c51d3c",
   "metadata": {},
   "outputs": [],
   "source": [
    "df_clean = pd.concat([no_outlier, categ], axis=1)\n",
    "df_clean"
   ]
  },
  {
   "cell_type": "code",
   "execution_count": null,
   "id": "d3f919b9-2b9a-4703-9210-a67f5f1dd61e",
   "metadata": {},
   "outputs": [],
   "source": [
    "df_clean.columns"
   ]
  },
  {
   "cell_type": "code",
   "execution_count": null,
   "id": "7b9066e5-1c48-42cd-bf68-14624cb3191d",
   "metadata": {},
   "outputs": [],
   "source": [
    "# TASK3\n",
    "import matplotlib.pyplot as plt\n",
    "num = [10, 15, 30, 200, 1000, 5000, 10000, 50000]\n",
    "data_s=[]\n",
    "data_s_mean=[]\n",
    "sample_df=pd.DataFrame()\n",
    "k=0\n",
    "fig, ax = plt.subplots(2, 4, figsize =(15, 8))\n",
    "for i in num:\n",
    "    sample_df=d.sample(n=i, random_state=1, replace=True) \n",
    "    data_s.append(sample_df['fare_amount'].tolist())\n",
    "    data_s_mean.append(sample_df['fare_amount'].mean())\n",
    "k=0\n",
    "for i in range(0, 2):\n",
    "    for j in range(0, 4):\n",
    "        sns.distplot(data_s[k],ax=ax[i, j])\n",
    "        ax[i, j].set_title(label = 'Sample size='+str(len(data_s[k])))\n",
    "        k = k + 1\n",
    "plt.show()"
   ]
  },
  {
   "cell_type": "markdown",
   "id": "5308a307-50ff-414b-aab6-d47f931183a8",
   "metadata": {},
   "source": [
    "# As the sample size incresases from 200 to 50000 the right skewness decreses and becomes normal distribution and appers more like normal distribution at 50000 which satisfies CLT"
   ]
  },
  {
   "cell_type": "code",
   "execution_count": null,
   "id": "4157d4f4-558d-465c-acf1-364e220a44bf",
   "metadata": {},
   "outputs": [],
   "source": [
    "# TASK4\n",
    "random_sampling = d.sample(n = 200, random_state = 42, replace = True)\n",
    "random_sampling"
   ]
  },
  {
   "cell_type": "code",
   "execution_count": null,
   "id": "d227acf0-6a88-4b69-b15e-bdd266552242",
   "metadata": {},
   "outputs": [],
   "source": [
    "# TASK5\n",
    "import statistics as stats\n",
    "col = d[\"fare_amount\"]\n",
    "mean = col.mean()\n",
    "median = col.median()\n",
    "mode = col.mode()\n",
    "print(f\"mean value is {mean}\")\n",
    "print(f\" median value is {median}\")\n",
    "print(f\" mode value is {mode}\")\n",
    "range1 = max(col) - min(col)\n",
    "print(\"range:\",range1)\n",
    "variance = stats.variance(col)\n",
    "print(\"variance: \",variance)\n",
    "std_dev = stats.stdev(col)  # Sample standard deviation\n",
    "print(\"Standard Deviation:\", std_dev)\n",
    "cv = (stats.stdev(col) / stats.mean(col)) * 100  # in percentage\n",
    "print(\"Coefficient of Variation (%):\", cv)\n",
    "\n"
   ]
  },
  {
   "cell_type": "code",
   "execution_count": null,
   "id": "176cec0d-2759-4c4b-98bf-5d1a52bce447",
   "metadata": {},
   "outputs": [],
   "source": [
    "col1 = random_sampling[\"fare_amount\"]\n",
    "mean = col1.mean()\n",
    "median = col1.median()\n",
    "mode = col1.mode()\n",
    "print(f\"mean value is {mean}\")\n",
    "print(f\"median value is {median}\")\n",
    "print(f\"mode value is {mode}\")\n",
    "range1 = max(col1) - min(col1)\n",
    "print(\"range:\",range1)\n",
    "variance = stats.variance(col1)\n",
    "print(\"variance: \",variance)\n",
    "std_dev = stats.stdev(col1)  # Sample standard deviation\n",
    "print(\"Standard Deviation:\", std_dev)\n",
    "cv = (stats.stdev(col1) / stats.mean(col1)) * 100  # in percentage\n",
    "print(\"Coefficient of Variation (%):\", cv)\n"
   ]
  },
  {
   "cell_type": "markdown",
   "id": "41d276bc-b0ad-447b-b483-b748bd78f87c",
   "metadata": {},
   "source": [
    "# By doing crentral tendency for the random sample of size 200 the mean n median are near where as mode is too far from this values"
   ]
  }
 ],
 "metadata": {
  "kernelspec": {
   "display_name": "Python [conda env:base] *",
   "language": "python",
   "name": "conda-base-py"
  },
  "language_info": {
   "codemirror_mode": {
    "name": "ipython",
    "version": 3
   },
   "file_extension": ".py",
   "mimetype": "text/x-python",
   "name": "python",
   "nbconvert_exporter": "python",
   "pygments_lexer": "ipython3",
   "version": "3.12.7"
  }
 },
 "nbformat": 4,
 "nbformat_minor": 5
}
