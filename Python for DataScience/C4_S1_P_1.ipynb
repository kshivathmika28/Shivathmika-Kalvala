{
 "cells": [
  {
   "cell_type": "code",
   "execution_count": 3,
   "id": "4ebfe3a9-3469-49b6-9565-34765a40a5eb",
   "metadata": {},
   "outputs": [
    {
     "name": "stdout",
     "output_type": "stream",
     "text": [
      "The HR department employee IDs are: [1 2 3]\n",
      "The IT department employee IDs are: [ 4  5  6  7  8  9 10 11 12 13 14 15 16 17 18]\n",
      "The Finance department employee IDs are: [19 20 21 22 23]\n",
      "The HR department employee IDs are: [24 25 26 27 28 29 30]\n"
     ]
    }
   ],
   "source": [
    "#task1\n",
    "\n",
    "import numpy as np\n",
    "HR = np.arange(1,4)\n",
    "IT = np.arange(4,19)\n",
    "Finance = np.arange(19,24)\n",
    "Sales = np.arange(24,31)\n",
    "print(f\"The HR department employee IDs are: {HR}\")\n",
    "print(f\"The IT department employee IDs are: {IT}\")\n",
    "print(f\"The Finance department employee IDs are: {Finance}\")\n",
    "print(f\"The Sales department employee IDs are: {Sales}\")"
   ]
  },
  {
   "cell_type": "code",
   "execution_count": 47,
   "id": "c9c5c99b-4e55-43d5-85dc-db56a5098d0d",
   "metadata": {},
   "outputs": [
    {
     "name": "stdout",
     "output_type": "stream",
     "text": [
      "The salaries of 3 employees in HR department are: [50 60 57]\n",
      "The salaries of 15 employees in IT department are: [67. 67. 67. 67. 67. 67. 67. 67. 67. 67. 67. 67. 67. 67. 67.]\n",
      "The salaries of 5 employees in Finance department are: [60 65 50 70 87]\n",
      "The salaries of 7 employees in Sales department are: [50 60 65 90 56 65 71]\n"
     ]
    }
   ],
   "source": [
    "#task2\n",
    "sal_Hr = np.array([\"50\",\"60\",\"57\"],dtype = int)\n",
    "sal_It = np.array([\"67\",\"67\",\"67\",\"67\",\"67\",\"67\",\"67\",\"67\",\"67\",\"67\",\"67\",\"67\",\"67\",\"67\",\"67\"],dtype = float)\n",
    "sal_Finance = np.array([\"60\",\"65\",\"50\",\"70\",\"87\"], dtype = int)\n",
    "sal_Sales =np.array([\"50\",\"60\",\"65\",\"90\",\"56\",\"65\",\"71\"], dtype = int)\n",
    "print(f\"The salaries of 3 employees in HR department are: {sal_Hr}\")\n",
    "print(f\"The salaries of 15 employees in IT department are: {sal_It}\")\n",
    "print(f\"The salaries of 5 employees in Finance department are: {sal_Finance}\")\n",
    "print(f\"The salaries of 7 employees in Sales department are: {sal_Sales}\")\n"
   ]
  },
  {
   "cell_type": "code",
   "execution_count": 17,
   "id": "e45aca5d-9dd5-4a8b-8518-656b20c16b82",
   "metadata": {},
   "outputs": [
    {
     "name": "stdout",
     "output_type": "stream",
     "text": [
      "The average salary for Hr department is: 55.666666666666664\n",
      "The average salary for IT department is: 67.0\n",
      "The average salary for Finance department is: 66.4\n",
      "The average salary for Sales department is: 65.28571428571429\n",
      "The max average salary department is IT with  the value is : 67.0\n"
     ]
    }
   ],
   "source": [
    "#task3_1\n",
    "avg_Hr = np.average(sal_Hr)\n",
    "avg_It = np.average(sal_It)\n",
    "avg_Finance = np.average(sal_Finance)\n",
    "avg_Sales = np.average(sal_Sales)\n",
    "print(f\"The average salary for Hr department is: {avg_Hr}\")\n",
    "print(f\"The average salary for IT department is: {avg_It}\")\n",
    "print(f\"The average salary for Finance department is: {avg_Finance}\")\n",
    "print(f\"The average salary for Sales department is: {avg_Sales}\")\n",
    "#max_salary_dept = max(avg_Hr,avg_It,avg_Finance,avg_Sales)\n",
    "#print(f\"The max averagwith  the value is : {max_salary_dept }\")"
   ]
  },
  {
   "cell_type": "code",
   "execution_count": 19,
   "id": "9e8bec6d-8237-427c-b2be-4860b2b7ac16",
   "metadata": {},
   "outputs": [
    {
     "name": "stdout",
     "output_type": "stream",
     "text": [
      "Highest salary in Hr department is: 60\n",
      "Highwst value in Finance department is: 87\n"
     ]
    }
   ],
   "source": [
    "#task4\n",
    "max_Hr = np.max(sal_Hr)\n",
    "max_Finance = np.max(sal_Finance)\n",
    "print(f\"Highest salary in Hr department is: {max_Hr}\")\n",
    "print(f\"Highwst value in Finance department is: {max_Finance}\")"
   ]
  },
  {
   "cell_type": "code",
   "execution_count": 53,
   "id": "5e021a22-fec7-40bf-b62b-01e892671425",
   "metadata": {},
   "outputs": [
    {
     "name": "stdout",
     "output_type": "stream",
     "text": [
      "Updated salary for IT department is: 70.35000000000001\n",
      "Updated salary for IT department is: 70.35000000000001\n",
      "Updated salary for IT department is: 70.35000000000001\n",
      "Updated salary for IT department is: 70.35000000000001\n",
      "Updated salary for IT department is: 70.35000000000001\n",
      "Updated salary for IT department is: 70.35000000000001\n",
      "Updated salary for IT department is: 70.35000000000001\n",
      "Updated salary for IT department is: 70.35000000000001\n",
      "Updated salary for IT department is: 70.35000000000001\n",
      "Updated salary for IT department is: 70.35000000000001\n",
      "Updated salary for IT department is: 70.35000000000001\n",
      "Updated salary for IT department is: 70.35000000000001\n",
      "Updated salary for IT department is: 70.35000000000001\n",
      "Updated salary for IT department is: 70.35000000000001\n",
      "Updated salary for IT department is: 70.35000000000001\n"
     ]
    }
   ],
   "source": [
    "#task5\n",
    "sal_It = [67] * 15\n",
    "updated_sal_It = []\n",
    "for sal in sal_It:\n",
    "    updated_salary = sal * 1.05\n",
    "    updated_sal_It.append(updated_salary)\n",
    "    print(f\"Updated salary for IT department is: {updated_salary}\")\n"
   ]
  },
  {
   "cell_type": "code",
   "execution_count": null,
   "id": "2fc3c520-dc1f-40d0-9b2b-3429c91edb45",
   "metadata": {},
   "outputs": [],
   "source": []
  }
 ],
 "metadata": {
  "kernelspec": {
   "display_name": "Python [conda env:base] *",
   "language": "python",
   "name": "conda-base-py"
  },
  "language_info": {
   "codemirror_mode": {
    "name": "ipython",
    "version": 3
   },
   "file_extension": ".py",
   "mimetype": "text/x-python",
   "name": "python",
   "nbconvert_exporter": "python",
   "pygments_lexer": "ipython3",
   "version": "3.12.7"
  }
 },
 "nbformat": 4,
 "nbformat_minor": 5
}
