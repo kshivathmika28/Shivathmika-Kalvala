{
 "cells": [
  {
   "cell_type": "code",
   "execution_count": 1,
   "id": "855778ef-41af-460d-a978-88afc6ea8481",
   "metadata": {},
   "outputs": [],
   "source": [
    "import pandas as pd\n"
   ]
  },
  {
   "cell_type": "code",
   "execution_count": 2,
   "id": "e3cc68be-56c5-49f7-876d-d9a55a24b627",
   "metadata": {},
   "outputs": [],
   "source": [
    "data = pd.read_csv(r'C:\\Users\\akshi\\Documents\\C4_PYTHON\\PRACTISE\\DS1_C4_S3_SalesData_Practice (1).csv')"
   ]
  },
  {
   "cell_type": "code",
   "execution_count": 3,
   "id": "ff6b9635-4fc6-411a-8556-24493c6a5105",
   "metadata": {},
   "outputs": [
    {
     "data": {
      "text/plain": [
       "0     21080\n",
       "13    21357\n",
       "18    21394\n",
       "14    22130\n",
       "2     22369\n",
       "24    22541\n",
       "12    23475\n",
       "9     23851\n",
       "19    25184\n",
       "15    26073\n",
       "4     27113\n",
       "11    27215\n",
       "5     27573\n",
       "25    28500\n",
       "23    28943\n",
       "22    29697\n",
       "27    30200\n",
       "17    30279\n",
       "6     31244\n",
       "8     31768\n",
       "26    32896\n",
       "1     32985\n",
       "10    33274\n",
       "28    37098\n",
       "20    37649\n",
       "29    41098\n",
       "21    44597\n",
       "3     45710\n",
       "16    45919\n",
       "7     48624\n",
       "Name: Sales, dtype: int64"
      ]
     },
     "execution_count": 3,
     "metadata": {},
     "output_type": "execute_result"
    }
   ],
   "source": [
    "#task1\n",
    "sales = data['Sales']\n",
    "sort_sales = sales.sort_values(ascending = True)\n",
    "sort_sales"
   ]
  },
  {
   "cell_type": "code",
   "execution_count": 4,
   "id": "3ea96b0b-014d-4c91-ae8e-5f91b7a30c55",
   "metadata": {},
   "outputs": [
    {
     "data": {
      "text/plain": [
       "3     45710\n",
       "7     48624\n",
       "16    45919\n",
       "Name: Sales, dtype: int64"
      ]
     },
     "execution_count": 4,
     "metadata": {},
     "output_type": "execute_result"
    }
   ],
   "source": [
    "#task2\n",
    "sal_filter = data.Sales[data[\"Sales\"] >= 45000] #filtering the column above 45000 values\n",
    "sal_filter"
   ]
  },
  {
   "cell_type": "code",
   "execution_count": 5,
   "id": "2b941e23-2a41-4602-957f-0277fbf1f7ef",
   "metadata": {},
   "outputs": [
    {
     "name": "stdout",
     "output_type": "stream",
     "text": [
      "   Month Store  Sales       State\n",
      "2    Jan     C  22369  California\n",
      "12   Mar     C  23475  California\n",
      "22   May     C  29697  California\n",
      "27   Jun     C  30200  California\n",
      "17   Apr     C  30279  California\n",
      "7    Feb     C  48624  California\n",
      "   Month Store  Sales  State\n",
      "11   Mar     B  27215  Texas\n",
      "6    Feb     B  31244  Texas\n",
      "26   Jun     B  32896  Texas\n",
      "1    Jan     B  32985  Texas\n",
      "21   May     B  44597  Texas\n",
      "16   Apr     B  45919  Texas\n",
      "   Month Store  Sales    State\n",
      "13   Mar     D  21357  Montana\n",
      "18   Apr     D  21394  Montana\n",
      "23   May     D  28943  Montana\n",
      "8    Feb     D  31768  Montana\n",
      "28   Jun     D  37098  Montana\n",
      "3    Jan     D  45710  Montana\n"
     ]
    }
   ],
   "source": [
    "#task3\n",
    "#using loc extracting the row values that are related state and then sort the sales values by extracting the sales valuse \n",
    "df1 = data.loc[data.State == 'California']\n",
    "df2 = data.loc[data.State == \"Texas\"]\n",
    "df3 = data.loc[data.State == \"Montana\"]\n",
    "sort_df1_values = df1.sort_values(by='Sales',ascending = True)\n",
    "sort_df2_values = df2.sort_values(by='Sales',ascending = True)\n",
    "sort_df3_values = df3.sort_values(by='Sales',ascending = True)\n",
    "print(sort_df1_values )\n",
    "print(sort_df2_values) \n",
    "print(sort_df3_values) \n",
    "\n"
   ]
  },
  {
   "cell_type": "code",
   "execution_count": 6,
   "id": "73cfd55c-eea0-4ecb-80a8-013d15f64260",
   "metadata": {},
   "outputs": [
    {
     "name": "stdout",
     "output_type": "stream",
     "text": [
      "Total sales in the state of California 184644\n",
      "Total sales in the state of Texas 214856\n",
      "Total sales in the state of Montana 186270\n"
     ]
    }
   ],
   "source": [
    "#task4\n",
    "state1 = data.loc[data.State == 'California']\n",
    "state2 = data.loc[data.State == \"Texas\"]\n",
    "state3 = data.loc[data.State == \"Montana\"]\n",
    "sum_sales1 = state1['Sales'].sum()\n",
    "sum_sales2 = state2['Sales'].sum()\n",
    "sum_sales3 = state3['Sales'].sum()\n",
    "print(f\"Total sales in the state of California {sum_sales1}\")\n",
    "print(f\"Total sales in the state of Texas {sum_sales2}\")\n",
    "print(f\"Total sales in the state of Montana {sum_sales3}\")"
   ]
  },
  {
   "cell_type": "code",
   "execution_count": 7,
   "id": "dfe6b696-a465-45aa-b77f-e2082a190a3a",
   "metadata": {},
   "outputs": [
    {
     "name": "stdout",
     "output_type": "stream",
     "text": [
      "48624\n",
      "22369\n"
     ]
    }
   ],
   "source": [
    "#Task5\n",
    "state = data.loc[data.State == 'California']\n",
    "max_score = state['Sales'].max()\n",
    "min_score = state['Sales'].min()\n",
    "print(max_score)\n",
    "print(min_score)"
   ]
  },
  {
   "cell_type": "code",
   "execution_count": 8,
   "id": "8dca02fa-6866-4004-9760-23970d8ef25c",
   "metadata": {},
   "outputs": [
    {
     "name": "stdout",
     "output_type": "stream",
     "text": [
      "        State  Sale in thousands\n",
      "0      Alaska             174149\n",
      "1  California             184644\n",
      "2       Texas             214856\n",
      "3     Montana             186270\n",
      "4  New Mexico             161917\n"
     ]
    }
   ],
   "source": [
    "#Task6\n",
    "# Filter full rows for each state\n",
    "s1 = data[data[\"State\"] == \"Alaska\"]\n",
    "s2 = data[data[\"State\"] == \"California\"]\n",
    "s3 = data[data[\"State\"] == \"Texas\"]\n",
    "s4 = data[data[\"State\"] == \"Montana\"]\n",
    "s5 = data[data[\"State\"] == \"New Mexico\"]\n",
    "sale1 = s1['Sales'].sum()\n",
    "sale2 = s2['Sales'].sum()\n",
    "sale3 = s3['Sales'].sum()\n",
    "sale4 = s4['Sales'].sum()\n",
    "sale5 = s5['Sales'].sum()\n",
    "result_df = pd.DataFrame({\n",
    "    \"State\": [\"Alaska\", \"California\", \"Texas\", \"Montana\", \"New Mexico\"],\n",
    "    \"Sale in thousands\": [sale1, sale2, sale3, sale4, sale5]\n",
    "})\n",
    "\n",
    "print(result_df)\n"
   ]
  },
  {
   "cell_type": "code",
   "execution_count": 17,
   "id": "27e90cc7-92d2-4afa-b875-654be270dbb4",
   "metadata": {},
   "outputs": [],
   "source": [
    "#Task7\n",
    "sorted_values = result_df['Sale in thousands'].sort_values(ascending=True)\n",
    "df1.to_csv(\"sorted_values\",index=True)\n",
    "\n",
    "\n"
   ]
  },
  {
   "cell_type": "code",
   "execution_count": null,
   "id": "0377d300-64d0-4ea2-a5ae-23c04066a717",
   "metadata": {},
   "outputs": [],
   "source": []
  }
 ],
 "metadata": {
  "kernelspec": {
   "display_name": "Python [conda env:base] *",
   "language": "python",
   "name": "conda-base-py"
  },
  "language_info": {
   "codemirror_mode": {
    "name": "ipython",
    "version": 3
   },
   "file_extension": ".py",
   "mimetype": "text/x-python",
   "name": "python",
   "nbconvert_exporter": "python",
   "pygments_lexer": "ipython3",
   "version": "3.12.7"
  }
 },
 "nbformat": 4,
 "nbformat_minor": 5
}
