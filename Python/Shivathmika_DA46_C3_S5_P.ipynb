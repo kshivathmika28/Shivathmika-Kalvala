{
 "cells": [
  {
   "cell_type": "code",
   "execution_count": 1,
   "id": "fcbd7546-737f-4d76-a2b8-005b08bbd76e",
   "metadata": {},
   "outputs": [
    {
     "name": "stdin",
     "output_type": "stream",
     "text": [
      "Enter the word joj\n"
     ]
    },
    {
     "name": "stdout",
     "output_type": "stream",
     "text": [
      "Palindrome\n"
     ]
    }
   ],
   "source": [
    "#task1\n",
    "\n",
    "def palindrome(word):\n",
    "    reverse = word[::-1] #reversing the word\n",
    "    if word == reverse: #cheking if the word and recerse are same\n",
    "        print(\"Palindrome\") #print palidrome if equal\n",
    "    else: \n",
    "        print(\"Not a palindrome\") #print not a palindrome if it is not\n",
    "if __name__ == \"__main__\":\n",
    "    word = input(\"Enter the word\")\n",
    "    palindrome(word)"
   ]
  },
  {
   "cell_type": "code",
   "execution_count": 7,
   "id": "967d03c6-f68f-4136-8a54-51fc89204981",
   "metadata": {},
   "outputs": [
    {
     "name": "stdin",
     "output_type": "stream",
     "text": [
      "Enter words separated by spaces:  s h i v a\n"
     ]
    },
    {
     "name": "stdout",
     "output_type": "stream",
     "text": [
      "Sorted Words: ['a', 'h', 'i', 's', 'v']\n"
     ]
    }
   ],
   "source": [
    "#task2\n",
    "\n",
    "def sort_words():\n",
    "    # Take multiple words as input from the user\n",
    "    words = input(\"Enter words separated by spaces: \").split()\n",
    "\n",
    "    # Sort the words alphabetically\n",
    "    words.sort()\n",
    "    # Print the sorted words properly as a space-separated string\n",
    "    print(\"Sorted Words:\", words)\n",
    "\n",
    "sort_words()"
   ]
  },
  {
   "cell_type": "code",
   "execution_count": 5,
   "id": "e480dea3-7fc5-4035-8e94-82ee77c8612d",
   "metadata": {},
   "outputs": [
    {
     "name": "stdin",
     "output_type": "stream",
     "text": [
      "Enter characters separated by spaces:  s h i v a\n"
     ]
    },
    {
     "name": "stdout",
     "output_type": "stream",
     "text": [
      "Output: shiva\n"
     ]
    }
   ],
   "source": [
    "#task3\n",
    "\n",
    "def convert_to_string():\n",
    "    # Prompt user to enter characters separated by spaces\n",
    "    char_list = input(\"Enter characters separated by spaces: \").split()\n",
    "\n",
    "    # Convert the list of characters into a string\n",
    "    result_string = \"\".join(char_list)  # Using join() to concatenate characters\n",
    "\n",
    "    # Display the output\n",
    "    print(\"Output:\", result_string)\n",
    "\n",
    "# Standard way to call the function\n",
    "if __name__ == \"__main__\":\n",
    "    convert_to_string()\n",
    "\n"
   ]
  },
  {
   "cell_type": "code",
   "execution_count": 45,
   "id": "83bc64e1-2c4c-4b29-b2bf-21c9903d1b9a",
   "metadata": {},
   "outputs": [
    {
     "name": "stdin",
     "output_type": "stream",
     "text": [
      "Enter letters separated by spaces:  j,l\n"
     ]
    },
    {
     "name": "stdout",
     "output_type": "stream",
     "text": [
      "Combined word: j,l\n"
     ]
    }
   ],
   "source": [
    "#task3\n",
    "\n",
    "def combine_to_word():\n",
    "    \"\"\"Combines letters entered by the user into a single word.\"\"\"\n",
    "    \n",
    "    char_list = input(\"Enter letters separated by spaces: \").split()\n",
    "    result_word = \"\".join(char_list)\n",
    "    print(\"Combined word:\", result_word)\n",
    "\n",
    "if __name__ == \"__main__\":\n",
    "    combine_to_word()\n"
   ]
  },
  {
   "cell_type": "code",
   "execution_count": 39,
   "id": "805cf982-5bed-479b-8e77-28016d145ff9",
   "metadata": {},
   "outputs": [
    {
     "name": "stdout",
     "output_type": "stream",
     "text": [
      "Enter 10 numbers:\n"
     ]
    },
    {
     "name": "stdin",
     "output_type": "stream",
     "text": [
      "Enter a number:  1\n",
      "Enter a number:  45\n",
      "Enter a number:  89\n",
      "Enter a number:  56\n",
      "Enter a number:  34\n",
      "Enter a number:  90\n",
      "Enter a number:  7\n",
      "Enter a number:  6\n",
      "Enter a number:  4\n",
      "Enter a number:  9\n"
     ]
    },
    {
     "name": "stdout",
     "output_type": "stream",
     "text": [
      "Min = 1\n",
      "Max = 90\n"
     ]
    }
   ],
   "source": [
    "#task4\n",
    "\n",
    "def find_min_max():\n",
    "    # Initialize an empty list\n",
    "    numbers = []\n",
    "    \n",
    "    # Prompt user to enter 10 numbers\n",
    "    print(\"Enter 10 numbers:\")\n",
    "    for _ in range(10):\n",
    "        num = int(input(\"Enter a number: \"))  # Convert input to integer\n",
    "        numbers.append(num)  # Add number to list\n",
    "    \n",
    "    # Find and print the min and max values\n",
    "    print(\"Min =\", min(numbers))\n",
    "    print(\"Max =\", max(numbers))\n",
    "\n",
    "# Standard way to call the function\n",
    "if __name__ == \"__main__\":\n",
    "    find_min_max()"
   ]
  },
  {
   "cell_type": "code",
   "execution_count": 35,
   "id": "b6ad5b88-0164-4647-81ce-9e0407757b4a",
   "metadata": {},
   "outputs": [
    {
     "name": "stdout",
     "output_type": "stream",
     "text": [
      "Enter item names and their prices:\n"
     ]
    },
    {
     "name": "stdin",
     "output_type": "stream",
     "text": [
      "Enter item name:  a\n",
      "Enter price:  12\n",
      "Enter item name:  b\n",
      "Enter price:  34\n",
      "Enter item name:  c\n",
      "Enter price:  89\n",
      "Enter item name:  d\n",
      "Enter price:  47\n",
      "Enter item name:  e\n",
      "Enter price:  90\n"
     ]
    },
    {
     "name": "stdout",
     "output_type": "stream",
     "text": [
      "\n",
      "User Dictionary: {'a': 12.0, 'b': 34.0, 'c': 89.0, 'd': 47.0, 'e': 90.0}\n",
      "Max value: 90.0\n",
      "Min value: 12.0\n"
     ]
    }
   ],
   "source": [
    "#task5\n",
    "\n",
    "def user_dict():\n",
    "    user_dict = {}  # Empty dictionary\n",
    "    \n",
    "    print(\"Enter item names and their prices:\")\n",
    "    \n",
    "    for _ in range(5):  # Loop to accept 5 items\n",
    "        key = input(\"Enter item name: \")\n",
    "        value = float(input(\"Enter price: \"))  # Convert input to float for decimal values\n",
    "        user_dict[key] = value  # Add key-value pair to dictionary\n",
    "\n",
    "    return user_dict\n",
    "\n",
    "def display_min_max(prices_dict):\n",
    "    max_value = max(prices_dict.values())  # Find max price\n",
    "    min_value = min(prices_dict.values())  # Find min price\n",
    "    \n",
    "    print(\"\\nUser Dictionary:\", prices_dict)\n",
    "    print(\"Max value:\", max_value)\n",
    "    print(\"Min value:\", min_value)\n",
    "\n",
    "# Main execution\n",
    "if __name__ == \"__main__\":\n",
    "    user_data = user_dict()\n",
    "    display_min_max(user_data)\n"
   ]
  },
  {
   "cell_type": "code",
   "execution_count": 9,
   "id": "391da16e-120a-4937-a63c-33d7bd54ac53",
   "metadata": {},
   "outputs": [
    {
     "name": "stdin",
     "output_type": "stream",
     "text": [
      "Enter the name shiva\n",
      "Enter the gender m\n",
      "Enter the age 34\n",
      "Enter the occupation business\n"
     ]
    },
    {
     "name": "stdout",
     "output_type": "stream",
     "text": [
      "Name: shiva\n",
      "Age: 34\n",
      "Gender: m\n",
      "Occupation: business\n"
     ]
    }
   ],
   "source": [
    "#task6\n",
    "\n",
    "def f1():\n",
    "    name = input(\"Enter the name\")\n",
    "    gender = input(\"Enter the gender\")\n",
    "    age = int(input(\"Enter the age\"))\n",
    "    occupation  = input(\"Enter the occupation\")\n",
    "    f2(name,age,gender,occupation)\n",
    "def f2(name, age, gender, occupation):\n",
    "    print(f\"Name: {name}\")\n",
    "    print(f\"Age: {age}\")\n",
    "    print(f\"Gender: {gender}\")\n",
    "    print(f\"Occupation: {occupation}\")\n",
    "if __name__ == \"__main__\":\n",
    "    f1()\n",
    "    \n",
    "    \n",
    "    \n"
   ]
  },
  {
   "cell_type": "code",
   "execution_count": 33,
   "id": "c441c669-82a4-43c2-8f53-6845eea520ad",
   "metadata": {},
   "outputs": [
    {
     "name": "stdout",
     "output_type": "stream",
     "text": [
      "[('green', 1), ('blue', 2), ('yellow', 3), ('black', 4), ('red', 5)]\n"
     ]
    }
   ],
   "source": [
    "#task7\n",
    "\n",
    "def sort_colors(color_list):\n",
    "    # Sort based on the second element of each tuple (the number)\n",
    "    return sorted(color_list, key=lambda x: x[1])\n",
    "\n",
    "def main():\n",
    "    # Given list\n",
    "    color = [('black', 4), ('green', 1), ('red', 5), ('blue', 2), ('yellow', 3)]\n",
    "    \n",
    "    # Call the sorting function\n",
    "    sorted_colors = sort_colors(color)\n",
    "    \n",
    "    # Print the sorted list\n",
    "    print(sorted_colors)\n",
    "\n",
    "# Standard way to call the main function in Python\n",
    "if __name__ == \"__main__\":\n",
    "    main()\n"
   ]
  },
  {
   "cell_type": "code",
   "execution_count": 23,
   "id": "734a51f0-185d-487a-ad5a-8b787a2695c7",
   "metadata": {},
   "outputs": [
    {
     "name": "stdout",
     "output_type": "stream",
     "text": [
      "Same Words are:  ['Mandy']\n"
     ]
    }
   ],
   "source": [
    "#task8\n",
    "\n",
    "a=[\"Andy\",\"Mandy\",\"Sandy\"]\n",
    "b = [\"Handy\",\"Burgundy\",\"Mandy\"]\n",
    "my_func = list(filter(lambda x:x in a,b)) \n",
    "print(\"Same Words are: \", my_func)"
   ]
  },
  {
   "cell_type": "code",
   "execution_count": 19,
   "id": "21c0c0fb-2f0e-4e07-9433-3e06c5ab607b",
   "metadata": {},
   "outputs": [
    {
     "name": "stdout",
     "output_type": "stream",
     "text": [
      "Result: [29, 30, 31]\n"
     ]
    }
   ],
   "source": [
    "#task9\n",
    "\n",
    "c = [12, 14, 14]\n",
    "d = [17, 16, 17]\n",
    "\n",
    "# Using map() with lambda to add corresponding elements\n",
    "result = list(map(lambda x, y: x + y, c, d))\n",
    "\n",
    "print(\"Result:\", result)\n",
    "\n"
   ]
  },
  {
   "cell_type": "code",
   "execution_count": 31,
   "id": "bf5db347-85a2-4d51-82e4-1d04929d8a5f",
   "metadata": {},
   "outputs": [
    {
     "name": "stdout",
     "output_type": "stream",
     "text": [
      "True\n"
     ]
    }
   ],
   "source": [
    "#task10\n",
    "\n",
    "def date1(dob, doj):\n",
    "    year1 = int(dob.split(\"-\")[2])  # Extract year from DOB\n",
    "    year2 = int(doj.split(\"-\")[2])  # Extract year from DOJ\n",
    "    diff = year2 - year1  # Calculate difference\n",
    "\n",
    "    if diff >= 18:  # Check if employee is 18 or older\n",
    "        print(\"True\")\n",
    "    else:\n",
    "        print(\"False\")\n",
    "\n",
    "if __name__ == \"__main__\":\n",
    "    Year1 = \"12-25-1991\"  # Date of birth\n",
    "    Year2 = \"04-25-2020\"  # Date of joining\n",
    "\n",
    "    # Call function with correct arguments\n",
    "    date1(Year1, Year2)\n"
   ]
  },
  {
   "cell_type": "code",
   "execution_count": null,
   "id": "3851013e-3675-48ee-a2b8-3efe4efeb2ab",
   "metadata": {},
   "outputs": [],
   "source": []
  }
 ],
 "metadata": {
  "kernelspec": {
   "display_name": "Python [conda env:base] *",
   "language": "python",
   "name": "conda-base-py"
  },
  "language_info": {
   "codemirror_mode": {
    "name": "ipython",
    "version": 3
   },
   "file_extension": ".py",
   "mimetype": "text/x-python",
   "name": "python",
   "nbconvert_exporter": "python",
   "pygments_lexer": "ipython3",
   "version": "3.12.7"
  }
 },
 "nbformat": 4,
 "nbformat_minor": 5
}
