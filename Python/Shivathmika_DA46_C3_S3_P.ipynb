{
 "cells": [
  {
   "cell_type": "code",
   "execution_count": 5,
   "id": "73012ec2-e324-4359-a104-93b163c86349",
   "metadata": {},
   "outputs": [
    {
     "name": "stdout",
     "output_type": "stream",
     "text": [
      "FALSE\n"
     ]
    }
   ],
   "source": [
    "#1 question\n",
    "\n",
    "MyWord = \"USA\" #declaring the variable and taking input\n",
    "MyNames = [\"Joe\", \"Zoe\", \"world\", \"Brad\", \"Angelina\",\"world\", \"Zuki\", \"Tom\", \"Paris\", \"world\", \"magic\"]\n",
    "if MyWord in MyNames: #checking if the word is exists in the list\n",
    "    print(\"TRUE\") #prints true if word exists\n",
    "else:\n",
    "    print(\"FALSE\") #print false if the word doesnt exists"
   ]
  },
  {
   "cell_type": "code",
   "execution_count": 45,
   "id": "075b29b0-b5a9-4bb0-b7d0-47692bc6c193",
   "metadata": {},
   "outputs": [
    {
     "name": "stdout",
     "output_type": "stream",
     "text": [
      "3\n"
     ]
    }
   ],
   "source": [
    "#2 question\n",
    "\n",
    "MyNames = [\"Joe\", \"Zoe\", \"world\", \"Brad\", \"Angelina\",\"world\", \"Zuki\", \"Tom\", \"Paris\", \"world\", \"magic\"]\n",
    "Count = MyNames.count(\"world\")\n",
    "print(Count)#displaying the count of word \"world\" in list"
   ]
  },
  {
   "cell_type": "code",
   "execution_count": 17,
   "id": "c86415ca-c9fa-4f74-9e30-72257cbe1f4d",
   "metadata": {},
   "outputs": [
    {
     "name": "stdout",
     "output_type": "stream",
     "text": [
      "14\n",
      "15\n"
     ]
    }
   ],
   "source": [
    "#3 question\n",
    "Count_Even = 0 #creating a variable to check how many even numbers are exists\n",
    "Count_Odd = 0 #creating a variable to check how many odd numbers are exists\n",
    "Num_List = list(range(1,30)) # taking input\n",
    "for Num in Num_List: #for loop to loop through elements in the list\n",
    "    if Num%2 == 0: #condition to check if the elemnt is even \n",
    "        Count_Even += 1 #increments the variable if the number is even\n",
    "    else: #part of if- statement\n",
    "        Count_Odd += 1 #increments the variable if the number is odd\n",
    "        \n",
    "print(Count_Even) #print statement to print the evencount\n",
    "print(Count_Odd) #print statement to print the oddcount\n",
    "\n",
    "        \n"
   ]
  },
  {
   "cell_type": "code",
   "execution_count": 13,
   "id": "0212a694-0e63-4c15-b7a3-41fc8b211591",
   "metadata": {},
   "outputs": [
    {
     "name": "stdout",
     "output_type": "stream",
     "text": [
      "[2, 4, 6, 8, 10]\n"
     ]
    }
   ],
   "source": [
    "#4 question\n",
    "\n",
    "Count_Even1 = 0 #Creating an variable and assigning 0 \n",
    "Num_List1 = list(range(1,30)) # takiing input\n",
    "E1 = [] # creatig list to append the elements if the condition is true\n",
    "for Num1 in Num_List1: #for loop to iterate through the input\n",
    "    if Num1 % 2 == 0: #checking if the number is even\n",
    "        E1.append(Num1) #using append function to add elements if the number is even\n",
    "        Count_Even1 += 1 # increemneting the count everytime if the number is even\n",
    "        if Count_Even1 >= 5: # if the count  is greater than or equal to 5 we are stopping the loop\n",
    "            break #keyword to exit the loop \n",
    "print(E1) #printing the list \n",
    "            \n",
    "        "
   ]
  },
  {
   "cell_type": "code",
   "execution_count": 73,
   "id": "8a57901f-6edc-418c-a281-b8744d89c845",
   "metadata": {},
   "outputs": [
    {
     "name": "stdout",
     "output_type": "stream",
     "text": [
      "[27, 29]\n"
     ]
    }
   ],
   "source": [
    "# Task 5\n",
    " \n",
    "Num_List2 = list(range(1,30)) #taking input\n",
    "Num_List2 = Num_List[26:30:2] #Modifying the existing list and printing last 2 odd numbers with slicing\n",
    "print(Num_List2) #printing the output"
   ]
  },
  {
   "cell_type": "code",
   "execution_count": 62,
   "id": "dbb3504c-9e03-4794-a713-9d3930a46b59",
   "metadata": {},
   "outputs": [
    {
     "name": "stdin",
     "output_type": "stream",
     "text": [
      "Enter the string1 uhj\n",
      "Enter the string2 ko\n",
      "Enter the string3 bh\n",
      "Enter the string4 op\n",
      "Enter the string5 nk\n",
      "Enter the number1 1\n",
      "Enter the number2 2\n",
      "Enter the number3 3\n"
     ]
    },
    {
     "name": "stdout",
     "output_type": "stream",
     "text": [
      "['uhj', 'ko', 'bh', 'op', 'nk', 1, 2, 3]\n"
     ]
    }
   ],
   "source": [
    "#Task6\n",
    "\n",
    "X=[]\n",
    "Y=[]\n",
    "str1 = input(\"Enter the string1\") #taking input1 as string fom user\n",
    "X.append(str1)  #appending the input to the X list\n",
    "str2 = input(\"Enter the string2\")  #taking input2 as string fom user\n",
    "X.append(str2) #appending the input to the X list\n",
    "str3 = input(\"Enter the string3\") #taking input3 as string fom user\n",
    "X.append(str3) #appending the input to the X list\n",
    "str4 = input(\"Enter the string4\")  #taking input4 as string fom user\n",
    "X.append(str4) #appending the input to the X list\n",
    "str5 = input(\"Enter the string5\") #taking input5 as string fom user\n",
    "X.append(str5) #appending the input to the X list\n",
    "num1 = int(input(\"Enter the number1\"))  #taking input1 as number fom user\n",
    "Y.append(num1) #appending the input to the Y list\n",
    "num2 = int(input(\"Enter the number2\")) #taking input2 as number fom user\n",
    "Y.append(num2)#appending the input to the Y list\n",
    "num3 = int(input(\"Enter the number3\"))  #taking input3 as string fom user\n",
    "Y.append(num3) #appending the input to the Y list\n",
    "X.extend(Y) #extending the list X by adding list Y\n",
    "print(X) # printing X list"
   ]
  },
  {
   "cell_type": "code",
   "execution_count": 9,
   "id": "f599e125-9fc1-447c-8d5e-16a30d7dac0a",
   "metadata": {},
   "outputs": [
    {
     "name": "stdout",
     "output_type": "stream",
     "text": [
      "[1, 4, 9, 16, 25, 36, 49, 64, 81, 100]\n",
      "[900, 961, 1024, 1089, 1156, 1225, 1296, 1369, 1444, 1521, 1600]\n"
     ]
    }
   ],
   "source": [
    "#Task 7\n",
    "List_A = [] #taking input for list A\n",
    "List_B = [] #taking input for list B\n",
    "for Number_1 in range(1,11): #for loop to mention the range\n",
    "    List_A.append(Number_1*Number_1) #appendding the result to the list A created\n",
    "for Number_2 in range(30,41):  #for loop to mention the 2 given range\n",
    "    List_B.append(Number_2*Number_2) #append the result for the list B\n",
    "print(List_A) #printing listA\n",
    "print(List_B) #printing list B"
   ]
  },
  {
   "cell_type": "code",
   "execution_count": 17,
   "id": "a4f31061-de1a-447f-97d1-a3b57b96fe54",
   "metadata": {},
   "outputs": [
    {
     "name": "stdin",
     "output_type": "stream",
     "text": [
      "Enter the integer 5\n"
     ]
    },
    {
     "name": "stdout",
     "output_type": "stream",
     "text": [
      "5 * 1 = 5\n",
      "5 * 2 = 10\n",
      "5 * 3 = 15\n",
      "5 * 4 = 20\n",
      "5 * 5 = 25\n",
      "5 * 6 = 30\n",
      "5 * 7 = 35\n",
      "5 * 8 = 40\n",
      "5 * 9 = 45\n",
      "5 * 10 = 50\n"
     ]
    }
   ],
   "source": [
    "#Task8\n",
    "\n",
    "Integer = int(input(\"Enter the integer\")) #Taking input from user for which table should be printed\n",
    "for int1 in range(1,11): #mentioning the range for start and end positions \n",
    "    print(Integer, \"*\", int1, \"=\", Integer*int1)# writing print statemnt for the table to be printed"
   ]
  },
  {
   "cell_type": "code",
   "execution_count": null,
   "id": "27ed1625-b183-454a-98e8-a9225222b3a6",
   "metadata": {},
   "outputs": [],
   "source": []
  }
 ],
 "metadata": {
  "kernelspec": {
   "display_name": "Python [conda env:base] *",
   "language": "python",
   "name": "conda-base-py"
  },
  "language_info": {
   "codemirror_mode": {
    "name": "ipython",
    "version": 3
   },
   "file_extension": ".py",
   "mimetype": "text/x-python",
   "name": "python",
   "nbconvert_exporter": "python",
   "pygments_lexer": "ipython3",
   "version": "3.12.7"
  }
 },
 "nbformat": 4,
 "nbformat_minor": 5
}
