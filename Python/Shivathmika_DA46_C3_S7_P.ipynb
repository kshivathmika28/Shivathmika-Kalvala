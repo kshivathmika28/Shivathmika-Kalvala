{
 "cells": [
  {
   "cell_type": "code",
   "execution_count": 1,
   "id": "12ec92d0-3208-4ce7-805d-06cf2c269a8d",
   "metadata": {},
   "outputs": [
    {
     "name": "stdout",
     "output_type": "stream",
     "text": [
      "\n",
      "Welcome to the store!\n"
     ]
    },
    {
     "name": "stdin",
     "output_type": "stream",
     "text": [
      "Enter your name:  shiva\n"
     ]
    },
    {
     "name": "stdout",
     "output_type": "stream",
     "text": [
      "\n",
      "Available products:\n",
      "1. Laptop - $99,000 (Physical)\n",
      "2. Operating System - $11,000 (Digital)\n"
     ]
    },
    {
     "name": "stdin",
     "output_type": "stream",
     "text": [
      "\n",
      "Enter the quantity of Laptops:  2\n",
      "Enter the quantity of Operating Systems:  4\n"
     ]
    },
    {
     "name": "stdout",
     "output_type": "stream",
     "text": [
      "\n",
      "Customer: shiva\n",
      "2 x Laptop → $199,400.00\n",
      "4 x Operating System → $44,000.00\n",
      "Total Price: $243,400.00\n"
     ]
    }
   ],
   "source": [
    "#Task1\n",
    "\n",
    "\n",
    "from abc import ABC, abstractmethod\n",
    "\n",
    "# Abstract Product class\n",
    "class Product(ABC):\n",
    "    @abstractmethod\n",
    "    def calculate_total_price(self, quantity):\n",
    "        pass\n",
    "\n",
    "# Task 2: Digital Product Class\n",
    "class DigitalProduct(Product):\n",
    "    def __init__(self, product_name, price):\n",
    "        self.product_name = product_name\n",
    "        self.price = price\n",
    "\n",
    "    def calculate_total_price(self, quantity):\n",
    "        return self.price * quantity  # No additional charges for digital products\n",
    "\n",
    "# Task 3: Physical Product Class\n",
    "class PhysicalProduct(Product):\n",
    "    def __init__(self, product_name, price, weight, shipping_charge, delivery_charge):\n",
    "        self.product_name = product_name\n",
    "        self.price = price\n",
    "        self.weight = weight\n",
    "        self.shipping_charge = shipping_charge\n",
    "        self.delivery_charge = delivery_charge\n",
    "\n",
    "    def calculate_total_price(self, quantity):\n",
    "        # Corrected total price formula\n",
    "        return (self.price * quantity) + (self.shipping_charge * quantity) + (self.delivery_charge * quantity)\n",
    "\n",
    "# Task 4: Order Class\n",
    "class Order:\n",
    "    def __init__(self, customer_name):\n",
    "        self.customer_name = customer_name\n",
    "        self.product_items = []  # Stores tuples of (product_name, quantity, total_price)\n",
    "        self.total_price = 0  # Ensures total is dynamically updated\n",
    "\n",
    "    def add_item(self, product, quantity):\n",
    "        if quantity > 0:  # Ensure valid quantity\n",
    "            item_price = product.calculate_total_price(quantity)\n",
    "            self.product_items.append((product.product_name, quantity, item_price))\n",
    "            self.total_price += item_price  # Dynamically update total price\n",
    "\n",
    "    def get_customer_name(self):\n",
    "        return self.customer_name\n",
    "\n",
    "    def get_items(self):\n",
    "        for name, quantity, price in self.product_items:\n",
    "            print(f\"{quantity} x {name} → ${price:,.2f}\")\n",
    "\n",
    "    def get_total_price(self):\n",
    "        return self.total_price  # ✅ Fixed typo here\n",
    "\n",
    "# Task 5: Main Function\n",
    "def main():\n",
    "    print(\"\\nWelcome to the store!\")\n",
    "    customer_name = input(\"Enter your name: \")\n",
    "\n",
    "    print(\"\\nAvailable products:\")\n",
    "    print(\"1. Laptop - $99,000 (Physical)\")\n",
    "    print(\"2. Operating System - $11,000 (Digital)\")\n",
    "\n",
    "    # Get quantities from user\n",
    "    quantity_laptop = int(input(\"\\nEnter the quantity of Laptops: \"))\n",
    "    quantity_os = int(input(\"Enter the quantity of Operating Systems: \"))\n",
    "\n",
    "    # Create product instances\n",
    "    laptop = PhysicalProduct(\"Laptop\", 99000, 5, 500, 200)  # Weight & shipping charges included\n",
    "    os_software = DigitalProduct(\"Operating System\", 11000)\n",
    "\n",
    "    # Create an order\n",
    "    order = Order(customer_name)\n",
    "\n",
    "    # Add items to order\n",
    "    order.add_item(laptop, quantity_laptop)\n",
    "    order.add_item(os_software, quantity_os)\n",
    "\n",
    "    # Print order summary\n",
    "    print(f\"\\nCustomer: {order.get_customer_name()}\")\n",
    "    order.get_items()\n",
    "    print(f\"Total Price: ${order.get_total_price():,.2f}\")\n",
    "\n",
    "if __name__ == \"__main__\":\n",
    "    main()\n",
    "\n",
    "\n",
    "        \n"
   ]
  },
  {
   "cell_type": "code",
   "execution_count": null,
   "id": "8f37ebec-c92f-4a2f-8639-21744aa445a8",
   "metadata": {},
   "outputs": [],
   "source": []
  }
 ],
 "metadata": {
  "kernelspec": {
   "display_name": "Python [conda env:base] *",
   "language": "python",
   "name": "conda-base-py"
  },
  "language_info": {
   "codemirror_mode": {
    "name": "ipython",
    "version": 3
   },
   "file_extension": ".py",
   "mimetype": "text/x-python",
   "name": "python",
   "nbconvert_exporter": "python",
   "pygments_lexer": "ipython3",
   "version": "3.12.7"
  }
 },
 "nbformat": 4,
 "nbformat_minor": 5
}
