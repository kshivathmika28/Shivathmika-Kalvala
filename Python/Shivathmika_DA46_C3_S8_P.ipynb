{
 "cells": [
  {
   "cell_type": "code",
   "execution_count": 1,
   "id": "cef0c72e-835f-4676-9d78-4b3d27bd5f86",
   "metadata": {},
   "outputs": [
    {
     "name": "stdout",
     "output_type": "stream",
     "text": [
      "\n",
      "--- Bookstore Inventory Menu ---\n",
      "1. Add Book\n",
      "2. Display Inventory\n",
      "3. Search Book by Title\n",
      "4. Exit\n"
     ]
    },
    {
     "name": "stdin",
     "output_type": "stream",
     "text": [
      "Choose an option (1-4):  4\n"
     ]
    },
    {
     "name": "stdout",
     "output_type": "stream",
     "text": [
      "Exiting program.\n"
     ]
    }
   ],
   "source": [
    "# TASK1\n",
    "class Product:\n",
    "    def __init__(self, product_id, name, price, quantity):\n",
    "        self.product_id = product_id\n",
    "        self.name = name\n",
    "        self.price = price\n",
    "        self.quantity = quantity\n",
    "\n",
    "    def format_product(self):\n",
    "        return f\"ID: {self.product_id}, Title: {self.name}, Price: ${self.price:.2f}, Quantity: {self.quantity}\"\n",
    "\n",
    "    @staticmethod\n",
    "    def add_product():\n",
    "        try:\n",
    "            product_id = input(\"Enter Product ID: \").strip()\n",
    "            name = input(\"Enter Book Title: \").strip()\n",
    "            price = float(input(\"Enter Price: \"))\n",
    "            quantity = int(input(\"Enter Quantity: \"))\n",
    "\n",
    "            if price < 0:\n",
    "                raise ValueError(\"Price cannot be negative.\")\n",
    "            if quantity < 0:\n",
    "                raise ValueError(\"Quantity cannot be negative.\")\n",
    "            if not product_id or not name:\n",
    "                raise ValueError(\"Product ID and Title cannot be empty.\")\n",
    "\n",
    "            return Product(product_id, name, price, quantity)\n",
    "        except ValueError as ve:\n",
    "            print(f\"Invalid input: {ve}\")\n",
    "            return None\n",
    "\n",
    "\n",
    "\n",
    "inventory = []\n",
    "def is_valid_product(product):\n",
    "    try:\n",
    "        # Example structure: product = [id, name, price, quantity]\n",
    "        if len(product) < 4:\n",
    "            return False\n",
    "        if not product[0] or not product[1]:\n",
    "            return False\n",
    "        if float(product[2]) <= 0 or int(product[3]) < 0:\n",
    "            return False\n",
    "        return True\n",
    "    except (ValueError, IndexError):\n",
    "        return False\n",
    "\n",
    "def display_inventory():\n",
    "    if not inventory:\n",
    "        print(\"Inventory is empty.\")\n",
    "    else:\n",
    "        print(\"\\nCurrent Inventory:\")\n",
    "        for product in inventory:\n",
    "            print(product.format_product())\n",
    "    print()\n",
    "\n",
    "def search_product(title):\n",
    "    found = False\n",
    "    for product in inventory:\n",
    "        if product.name.lower() == title.lower():\n",
    "            print(\"Book found:\", product.format_product())\n",
    "            found = True\n",
    "            break\n",
    "    if not found:\n",
    "        print(\"Book not found.\")\n",
    "\n",
    "\n",
    "def main():\n",
    "    while True:\n",
    "        print(\"\\n--- Bookstore Inventory Menu ---\")\n",
    "        print(\"1. Add Book\")\n",
    "        print(\"2. Display Inventory\")\n",
    "        print(\"3. Search Book by Title\")\n",
    "        print(\"4. Exit\")\n",
    "\n",
    "        choice = input(\"Choose an option (1-4): \")\n",
    "\n",
    "        if choice == '1':\n",
    "            product = Product.add_product()\n",
    "            if product:\n",
    "                inventory.append(product)\n",
    "                print(\"Book added successfully.\")\n",
    "        elif choice == '2':\n",
    "            display_inventory()\n",
    "        elif choice == '3':\n",
    "            title = input(\"Enter title to search: \")\n",
    "            search_product(title)\n",
    "        elif choice == '4':\n",
    "            print(\"Exiting program.\")\n",
    "            break\n",
    "        else:\n",
    "            print(\"Invalid choice. Please choose 1–4.\")\n",
    "\n",
    "if __name__ == \"__main__\":\n",
    "    main()\n"
   ]
  },
  {
   "cell_type": "code",
   "execution_count": 2,
   "id": "f4ab592e-3b3c-4234-aea0-53066aeeb06a",
   "metadata": {},
   "outputs": [
    {
     "name": "stdout",
     "output_type": "stream",
     "text": [
      "Product 1: ID: 1001, Title: The Blue Umbrella, Price: $2.00, Quantity: 12\n",
      "Product 2: ID: 1002, Title: The Room on the Roof, Price: $3.00, Quantity: 10\n"
     ]
    }
   ],
   "source": [
    "# TASK2_a\n",
    "class Product:\n",
    "    def __init__(self, product_id, name, price, quantity):\n",
    "        self.product_id = product_id\n",
    "        self.name = name\n",
    "        self.price = price\n",
    "        self.quantity = quantity\n",
    "\n",
    "    def format_product(self):\n",
    "        return f\"ID: {self.product_id}, Title: {self.name}, Price: ${self.price:.2f}, Quantity: {self.quantity}\"\n",
    "\n",
    "product1 = Product(1001, \"The Blue Umbrella\", 2.0, 12)\n",
    "product2 = Product(1002, \"The Room on the Roof\", 3.0, 10)\n",
    "\n",
    "\n",
    "print(\"Product 1:\", product1.format_product())\n",
    "print(\"Product 2:\", product2.format_product())\n"
   ]
  },
  {
   "cell_type": "code",
   "execution_count": 3,
   "id": "566afc39-0bdc-438d-9d46-e9afa34a7590",
   "metadata": {},
   "outputs": [
    {
     "name": "stdout",
     "output_type": "stream",
     "text": [
      "Product details written to file successfully.\n"
     ]
    }
   ],
   "source": [
    "# TASK2_B\n",
    "class Product:\n",
    "    def __init__(self, product_id, name, price, quantity):\n",
    "        self.product_id = product_id\n",
    "        self.name = name\n",
    "        self.price = price\n",
    "        self.quantity = quantity\n",
    "\n",
    "    def total_price(self):\n",
    "        return self.price * self.quantity\n",
    "\n",
    "    def format_product(self):\n",
    "        return f\"ID: {self.product_id}, Title: {self.name}, Price: ${self.price:.2f}, Quantity: {self.quantity}, Total: ${self.total_price():.2f}\"\n",
    "\n",
    "\n",
    "product1 = Product(1001, \"The Blue Umbrella\", 2.0, 12)\n",
    "product2 = Product(1002, \"The Room on the Roof\", 3.0, 10)\n",
    "\n",
    "\n",
    "try:\n",
    "    with open(\"product_detail.txt\", \"w\") as file:\n",
    "        file.write(product1.format_product() + \"\\n\")\n",
    "        file.write(product2.format_product() + \"\\n\")\n",
    "    print(\"Product details written to file successfully.\")\n",
    "except IOError as e:\n",
    "    print(\"Error writing to file:\", e)\n"
   ]
  },
  {
   "cell_type": "code",
   "execution_count": 4,
   "id": "2d60a581-5746-4b21-a6ab-f23d0dd71c09",
   "metadata": {},
   "outputs": [
    {
     "name": "stdin",
     "output_type": "stream",
     "text": [
      "Enter the filename to read:  fghj\n"
     ]
    },
    {
     "name": "stdout",
     "output_type": "stream",
     "text": [
      "Error: The file does not exist.\n"
     ]
    }
   ],
   "source": [
    "# TASK3_A\n",
    "filename = input(\"Enter the filename to read: \")\n",
    "file = None\n",
    "\n",
    "try:\n",
    "    products = read_inventory_file(\"products.txt\")\n",
    "    print(\"\\nProduct Information:\\n\")\n",
    "    print(file.read())\n",
    "\n",
    "except FileNotFoundError:\n",
    "    print(\"Error: The file does not exist.\")\n",
    "\n",
    "except IsADirectoryError:\n",
    "    print(\"Error: The specified path is a directory, not a file.\")\n",
    "\n",
    "except PermissionError:\n",
    "    print(\"Error: You do not have permission to access this file.\")\n",
    "\n",
    "except Exception as e:\n",
    "    print(f\"An unexpected error occurred: {e}\")\n",
    "\n",
    "finally:\n",
    "    if file:\n",
    "        file.close()\n",
    "        print(\"\\nFile closed successfully.\")\n"
   ]
  },
  {
   "cell_type": "code",
   "execution_count": 5,
   "id": "050654d7-c856-4969-804a-8855b78c59d6",
   "metadata": {},
   "outputs": [
    {
     "name": "stdin",
     "output_type": "stream",
     "text": [
      "Enter the filename to read:  dfghj\n"
     ]
    },
    {
     "name": "stdout",
     "output_type": "stream",
     "text": [
      "Error: File not found.\n",
      "\n",
      "No valid product data found.\n"
     ]
    }
   ],
   "source": [
    "# TASK3_B\n",
    "class Product:\n",
    "    def __init__(self, product_id, name, price, quantity):\n",
    "        self.product_id = product_id\n",
    "        self.name = name\n",
    "        self.price = price\n",
    "        self.quantity = quantity\n",
    "\n",
    "    def display_product(self):\n",
    "        return f\"ID: {self.product_id}, Title: {self.name}, Price: ${self.price:.2f}, Quantity: {self.quantity}\"\n",
    "\n",
    "   \n",
    "\n",
    "\n",
    "filename = input(\"Enter the filename to read: \")\n",
    "products = []\n",
    "file = None\n",
    "\n",
    "try:\n",
    "    file = open(filename, \"r\")\n",
    "    lines = file.readlines()\n",
    "\n",
    "    # Skip the header row and process remaining lines\n",
    "    for line in lines[1:]:\n",
    "        try:\n",
    "            parts = line.strip().split(\",\")\n",
    "\n",
    "            # Convert parts to correct types\n",
    "            product_id = int(parts[0])\n",
    "            name = parts[1]\n",
    "            price = float(parts[2])\n",
    "            quantity = int(parts[3])\n",
    "\n",
    "            # Create and store Product object\n",
    "            product = Product(product_id, name, price, quantity)\n",
    "            products.append(product)\n",
    "\n",
    "        except ValueError:\n",
    "            print(f\"Error: Could not parse line: {line.strip()}\")\n",
    "\n",
    "except FileNotFoundError:\n",
    "    print(\"Error: File not found.\")\n",
    "except IsADirectoryError:\n",
    "    print(\"Error: The specified path is a directory.\")\n",
    "except PermissionError:\n",
    "    print(\"Error: You do not have permission to access this file.\")\n",
    "except Exception as e:\n",
    "    print(f\"Unexpected error: {e}\")\n",
    "finally:\n",
    "    if file:\n",
    "        file.close()\n",
    "        print(\"\\nFile closed successfully.\")\n",
    "\n",
    "\n",
    "if products:\n",
    "    print(\"\\nSuccessfully Processed Products:\\n\")\n",
    "    for p in products:\n",
    "        print(p.display_product())\n",
    "else:\n",
    "    print(\"\\nNo valid product data found.\")\n",
    "\n"
   ]
  },
  {
   "cell_type": "code",
   "execution_count": null,
   "id": "71223959-0b7e-4b2f-95d4-4b3f1535a090",
   "metadata": {},
   "outputs": [],
   "source": []
  }
 ],
 "metadata": {
  "kernelspec": {
   "display_name": "Python [conda env:base] *",
   "language": "python",
   "name": "conda-base-py"
  },
  "language_info": {
   "codemirror_mode": {
    "name": "ipython",
    "version": 3
   },
   "file_extension": ".py",
   "mimetype": "text/x-python",
   "name": "python",
   "nbconvert_exporter": "python",
   "pygments_lexer": "ipython3",
   "version": "3.12.7"
  }
 },
 "nbformat": 4,
 "nbformat_minor": 5
}
