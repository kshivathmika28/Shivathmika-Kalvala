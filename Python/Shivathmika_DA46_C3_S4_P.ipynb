{
 "cells": [
  {
   "cell_type": "code",
   "execution_count": null,
   "id": "d37de312-91d5-474e-b6c3-26c447796d5d",
   "metadata": {},
   "outputs": [],
   "source": [
    "#Task1\n",
    "\n",
    "Num_1 = int(input(\"Enter the number\")) #Taking the input from user\n",
    "fact = 1 #declaring a variable fact and assigning 1 to it\n",
    "while Num_1 > 1: #checking if the number is greater than 1\n",
    "    fact *= (Num_1) #multiplying the fact with nunber\n",
    "    Num_1 = Num_1-1 #decresing the number by 1 every time \n",
    "print(fact) #printing the fact\n",
    "\n",
    "#Task2\n",
    "Num\n",
    "\n",
    "for num in range(Num_1, Num_2 + 1):  # Loop through numbers from Num_1 to Num_2\n",
    "    prime = True\n",
    "    if num < 2:  # Numbers less than 2 are not prime\n",
    "        prime = False\n",
    "    else:\n",
    "        for i in range(2, int(num ** 0.5) + 1):  # Check divisibility up to sqrt(num)\n",
    "            if num % i == 0:\n",
    "                prime = False\n",
    "                break  # No need to check further\n",
    "\n",
    "    if prime:\n",
    "        print(f\"{Num_1} is a Prime Number\")\n"
   ]
  },
  {
   "cell_type": "code",
   "execution_count": 35,
   "id": "c674cc89-30ae-4b40-ba1e-224cfeeb5cff",
   "metadata": {},
   "outputs": [
    {
     "name": "stdout",
     "output_type": "stream",
     "text": [
      "50 is not a prime\n",
      "51 is not a prime\n"
     ]
    }
   ],
   "source": [
    "#task2\n",
    "for num in [50,51]:\n",
    "    i = 2\n",
    "    if num < 2:\n",
    "        print(f\"{num} is not a prime\")\n",
    "    else:\n",
    "        while i*i <=num:\n",
    "            if num%i == 0:\n",
    "                print(f\"{num} is not a prime\")\n",
    "                break\n",
    "            i += 1\n",
    "        else:\n",
    "            print(f\"{num} is a prime no\")"
   ]
  },
  {
   "cell_type": "code",
   "execution_count": 23,
   "id": "320c12ba-8241-4433-8ef8-503ff5bfa44c",
   "metadata": {},
   "outputs": [
    {
     "name": "stdin",
     "output_type": "stream",
     "text": [
      "Enter the numebr 45\n"
     ]
    },
    {
     "name": "stdout",
     "output_type": "stream",
     "text": [
      "9\n"
     ]
    }
   ],
   "source": [
    "#Task 3\n",
    "\n",
    "Input = int(input(\"Enter the numebr\")) #Taking the input from user\n",
    "Sum = 0 #declaring sum variable\n",
    "while Input > 0: #chacking if the input is gretaer than 0\n",
    "    Input1 = Input%10 #calculating the remainder from the number\n",
    "    Sum += Input1 #adding the result got fro abouve step\n",
    "    Input = Input//10 #doing integer division to get the next digit from number\n",
    "print(Sum)"
   ]
  },
  {
   "cell_type": "code",
   "execution_count": null,
   "id": "a92f01f5-66b8-4a46-9845-9d9739250c22",
   "metadata": {},
   "outputs": [],
   "source": []
  },
  {
   "cell_type": "code",
   "execution_count": 29,
   "id": "092d2c54-b62d-4aeb-89d1-a32614ba368e",
   "metadata": {},
   "outputs": [
    {
     "name": "stdout",
     "output_type": "stream",
     "text": [
      "0 1 1 2 3 5 8 "
     ]
    }
   ],
   "source": [
    "# task 4\n",
    "\n",
    "def fibonacci_series(n):\n",
    "    a, b = 0, 1  # First two Fibonacci numbers\n",
    "    count = 0\n",
    "    \n",
    "    while count < n:\n",
    "        print(a, end=\" \" )  # Print with formatting\n",
    "        a, b = b, a + b  # Update Fibonacci numbers\n",
    "        count += 1  # Increment count\n",
    "\n",
    "# Call the function for the first 7 Fibonacci numbers\n",
    "if __name__ == \"__main__\":\n",
    "    fibonacci_series(7)\n",
    "\n",
    "\n"
   ]
  },
  {
   "cell_type": "code",
   "execution_count": 33,
   "id": "18ae7189-6cb0-4bf6-813f-a51f0877e361",
   "metadata": {},
   "outputs": [],
   "source": [
    "#class 26-03\n",
    "#pillars of OOPS:\n",
    "#Encapsulation- binding things together , used to secure the things , bundling the data\n",
    "#Abstraction- We can only see the necessary things and hide the unncesseary things\n",
    "#Inheritence- Reusability and saving memory gettin gthe properties of parents to child\n",
    "#Polymerphism- poly - many morphism - forms - like shapes of different obects"
   ]
  },
  {
   "cell_type": "code",
   "execution_count": 35,
   "id": "5b5b867f-7f01-4df0-a054-03b8299a0dcf",
   "metadata": {},
   "outputs": [],
   "source": [
    "#parent - base class - superclass\n",
    "#child - derived class - subclass"
   ]
  },
  {
   "cell_type": "code",
   "execution_count": 39,
   "id": "baa58892-6967-414b-9209-e47c38b7a92b",
   "metadata": {},
   "outputs": [
    {
     "name": "stdout",
     "output_type": "stream",
     "text": [
      "child class\n",
      "parent class\n"
     ]
    }
   ],
   "source": [
    "#polymerphism = method overriding\n",
    "\n",
    "\"\"\"class Parent:\n",
    "    def __init__(self): #constructor\n",
    "        print(\"parent class\")\n",
    "    def announcement(self):\n",
    "        print(\"parent tells something\")\n",
    "class Child(Parent):\n",
    "    def __init__(self):\n",
    "        print(\"child class\")\n",
    "        super().__init__() #calling the parent class using the child class \n",
    "    def announcement(self): #if the methods are same\n",
    "        print(\"parent tells something\")\n",
    "        \n",
    "    \n",
    "#ob1 = Parent() #creating an object in case only parent class exists\n",
    "ob1 = Child() #creating an objject for child class"
   ]
  },
  {
   "cell_type": "code",
   "execution_count": 5,
   "id": "ef0d6ab2-b189-4131-98f7-a3edb7085f12",
   "metadata": {},
   "outputs": [
    {
     "name": "stdout",
     "output_type": "stream",
     "text": [
      "1833213415488\n",
      "1833183387008\n",
      "1833190552192\n"
     ]
    }
   ],
   "source": [
    "#task 5\n",
    "t1 = (1,2,3)\n",
    "t2 = (4,5,6)\n",
    "a=id(t1)\n",
    "b=id(t2)\n",
    "t1 = t1+t2\n",
    "t=id(t1)\n",
    "print(a)\n",
    "print(b)\n",
    "print(t)\n",
    "# the ids are not same because the values has got changed after adding the second tuple for the first tuple and dispaying \n",
    "# so the id of t1 and id of the tuple after adding are not same"
   ]
  },
  {
   "cell_type": "code",
   "execution_count": 21,
   "id": "6c06eed5-9ace-4a9c-889c-846bc2bdc51e",
   "metadata": {},
   "outputs": [
    {
     "name": "stdout",
     "output_type": "stream",
     "text": [
      "{70, 10, 20, 30, 33, 40, 50, 55, 60}\n"
     ]
    }
   ],
   "source": [
    "#task6\n",
    "m = {10,20,30,40,50}\n",
    "n = [33,40,55,60,70]\n",
    "for i in n:\n",
    "    m.add(i)\n",
    "print(m)\n",
    "#the common elements only printed once because set  doesnt allow duplacates"
   ]
  },
  {
   "cell_type": "code",
   "execution_count": 27,
   "id": "5ac8785e-0958-4eff-ab69-be11cc07e0c5",
   "metadata": {},
   "outputs": [
    {
     "name": "stdout",
     "output_type": "stream",
     "text": [
      "Data: 2\n",
      "SQL: 4\n"
     ]
    }
   ],
   "source": [
    "#task7\n",
    "Data_Set = {'Python': 1, 'Data':2, 'Excel': 3, 'SQL':4}\n",
    "for key, value in Data_Set.items():\n",
    "    if key in ('Data', 'SQL'):\n",
    "        print(f\"{key}: {value}\")"
   ]
  },
  {
   "cell_type": "code",
   "execution_count": 33,
   "id": "65525fd5-a612-4e74-8e28-dae0fb4d3a4a",
   "metadata": {},
   "outputs": [
    {
     "name": "stdout",
     "output_type": "stream",
     "text": [
      "{1: 1, 2: 4, 3: 9, 4: 16, 5: 25, 6: 36, 7: 49, 8: 64, 9: 81, 10: 100, 11: 121, 12: 144, 13: 169, 14: 196, 15: 225, 100: 10000}\n"
     ]
    }
   ],
   "source": [
    "#task8\n",
    "d = {1:1, 2:4, 3:9, 4:16, 5:25, 6:36, 7:49, 8:64, 9:81, 10:100, 11:121, 12:144, 13:169, 14:196, 15:225}\n",
    "d.update({100:10000})\n",
    "print(d)\n"
   ]
  },
  {
   "cell_type": "code",
   "execution_count": 37,
   "id": "fe502960-c9c2-4270-ac72-2e12a68e33cc",
   "metadata": {},
   "outputs": [
    {
     "data": {
      "text/plain": [
       "'C:\\\\Users\\\\akshi\\\\Documents\\\\C3_PYTHON\\\\PRACTISE_WORK'"
      ]
     },
     "execution_count": 37,
     "metadata": {},
     "output_type": "execute_result"
    }
   ],
   "source": []
  },
  {
   "cell_type": "code",
   "execution_count": null,
   "id": "c61852fb-9e0d-4244-a00b-f19d5f09902d",
   "metadata": {},
   "outputs": [],
   "source": []
  }
 ],
 "metadata": {
  "kernelspec": {
   "display_name": "Python [conda env:base] *",
   "language": "python",
   "name": "conda-base-py"
  },
  "language_info": {
   "codemirror_mode": {
    "name": "ipython",
    "version": 3
   },
   "file_extension": ".py",
   "mimetype": "text/x-python",
   "name": "python",
   "nbconvert_exporter": "python",
   "pygments_lexer": "ipython3",
   "version": "3.12.7"
  }
 },
 "nbformat": 4,
 "nbformat_minor": 5
}
