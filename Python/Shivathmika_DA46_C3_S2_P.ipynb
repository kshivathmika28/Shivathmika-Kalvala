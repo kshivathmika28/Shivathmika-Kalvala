{
 "cells": [
  {
   "cell_type": "code",
   "execution_count": 3,
   "id": "52db3636-6292-4fa8-bae4-b1e4e73a15bc",
   "metadata": {},
   "outputs": [
    {
     "name": "stdin",
     "output_type": "stream",
     "text": [
      "Enter the character A\n"
     ]
    },
    {
     "name": "stdout",
     "output_type": "stream",
     "text": [
      "Python\n"
     ]
    }
   ],
   "source": [
    "Char = input(\"Enter the character\")\n",
    "if Char == 'A':\n",
    "    print(\"Python\")\n",
    "elif Char == 'B':\n",
    "    print(\"MySQL\")\n",
    "elif Char == 'C':\n",
    "    print(\"Excel\")\n",
    "else:\n",
    "    print(\"Holiday\")"
   ]
  },
  {
   "cell_type": "code",
   "execution_count": 69,
   "id": "514b32fe-2fc6-486c-bd2b-ba85bbb933d6",
   "metadata": {},
   "outputs": [
    {
     "name": "stdin",
     "output_type": "stream",
     "text": [
      "Enter the first number 6\n",
      "Enter the second number 0\n"
     ]
    },
    {
     "name": "stdout",
     "output_type": "stream",
     "text": [
      "num1 is higher number, number is:  6\n"
     ]
    }
   ],
   "source": [
    "num1 = int(input(\"Enter the first number\"))\n",
    "num2 = int(input(\"Enter the second number\"))\n",
    "if num1 > num2:\n",
    "           print(\"num1 is higher number, number is: \",num1)\n",
    "else:\n",
    "           print(\"num2 is higher number, number is: \",num2)\n"
   ]
  },
  {
   "cell_type": "code",
   "execution_count": 61,
   "id": "d9f0d15c-06b1-40bb-8d38-3833cd794e2f",
   "metadata": {},
   "outputs": [
    {
     "name": "stdin",
     "output_type": "stream",
     "text": [
      "Enter the salary:  6789\n"
     ]
    },
    {
     "name": "stdout",
     "output_type": "stream",
     "text": [
      "Gross Salary: 97761.59999999999\n"
     ]
    }
   ],
   "source": [
    "Salary = int(input(\"Enter the salary: \"))\n",
    "if Salary < 4000:\n",
    "    HRA = 0.10 * Salary  \n",
    "    TA = 0.05 * Salary   \n",
    "elif 4001 <= Salary <= 10000:\n",
    "    HRA = 0.10 * Salary  \n",
    "    TA = 0.10 * Salary   \n",
    "else:\n",
    "    HRA = 0.15 * Salary  \n",
    "    TA = 0.15 * Salary   \n",
    "GrossSalary = (Salary + HRA + TA) * 12\n",
    "print(\"Gross Salary:\", GrossSalary)\n",
    "\n"
   ]
  },
  {
   "cell_type": "code",
   "execution_count": 17,
   "id": "950924c3-b310-486f-801d-f3aa7751fbfc",
   "metadata": {},
   "outputs": [
    {
     "name": "stdin",
     "output_type": "stream",
     "text": [
      "Enter the word bus\n"
     ]
    },
    {
     "name": "stdout",
     "output_type": "stream",
     "text": [
      "NO\n"
     ]
    }
   ],
   "source": [
    "var = \"English texts for beginners to practice reading and comprehension online and for free. Practicing your comprehension of written English will both improve your vocabulary and understanding of grammar and word order. The texts below are designed to help you develop while giving you an instant evaluation of your progress.\"\n",
    "word = input(\"Enter the word\")\n",
    "if word in var:\n",
    "    print(\"YES\")\n",
    "else:\n",
    "    print(\"NO\")"
   ]
  },
  {
   "cell_type": "code",
   "execution_count": 51,
   "id": "4b09818c-05cd-44b7-a475-d08ef3315c0a",
   "metadata": {},
   "outputs": [
    {
     "name": "stdin",
     "output_type": "stream",
     "text": [
      "Enter the character B\n"
     ]
    },
    {
     "name": "stdout",
     "output_type": "stream",
     "text": [
      "lowercase\n"
     ]
    }
   ],
   "source": [
    "Character  = input(\"Enter the character\")\n",
    "if (Character >= 'a') and (Character <= 'z'):\n",
    "    print(\"lowercase\")\n",
    "elif (Character >= 'A') and (Character <= 'Z'):\n",
    "    print(\"UPPERCASE\")\n",
    "else:\n",
    "    print(\"The character is either number or special character\")\n",
    "    \n",
    "    "
   ]
  },
  {
   "cell_type": "code",
   "execution_count": 47,
   "id": "3e134ff1-f0f3-43cb-bfc1-9523686708fd",
   "metadata": {},
   "outputs": [
    {
     "name": "stdin",
     "output_type": "stream",
     "text": [
      "Enter the alphabet g\n"
     ]
    },
    {
     "name": "stdout",
     "output_type": "stream",
     "text": [
      "consonant\n"
     ]
    }
   ],
   "source": [
    "Alphabet = input(\"Enter the alphabet\")\n",
    "Vowels = ('a','e','i','o','u','A','E','I','O','U')\n",
    "if Alphabet in Vowels:\n",
    "    print(\"vowel\")\n",
    "else:\n",
    "    print(\"consonant\")"
   ]
  },
  {
   "cell_type": "code",
   "execution_count": null,
   "id": "d7c57384-3116-4649-9ca4-d900ae8fd0d3",
   "metadata": {},
   "outputs": [],
   "source": []
  }
 ],
 "metadata": {
  "kernelspec": {
   "display_name": "Python [conda env:base] *",
   "language": "python",
   "name": "conda-base-py"
  },
  "language_info": {
   "codemirror_mode": {
    "name": "ipython",
    "version": 3
   },
   "file_extension": ".py",
   "mimetype": "text/x-python",
   "name": "python",
   "nbconvert_exporter": "python",
   "pygments_lexer": "ipython3",
   "version": "3.12.7"
  }
 },
 "nbformat": 4,
 "nbformat_minor": 5
}
