{
 "cells": [
  {
   "cell_type": "code",
   "execution_count": 1,
   "id": "5be68de2-6156-42e3-ab75-c74d712d91ba",
   "metadata": {},
   "outputs": [
    {
     "name": "stdout",
     "output_type": "stream",
     "text": [
      "Welcome to the Employee Word Guessing Game!\n",
      "Clue: The secret word has 13 letters.\n"
     ]
    },
    {
     "name": "stdin",
     "output_type": "stream",
     "text": [
      "Would you like an extra clue? (yes/no):  yes\n"
     ]
    },
    {
     "name": "stdout",
     "output_type": "stream",
     "text": [
      "Extra Clue: The word starts with 'c' and ends with 'n'.\n"
     ]
    },
    {
     "name": "stdin",
     "output_type": "stream",
     "text": [
      "\n",
      "Attempt 1 of 6: Enter your guess:  collaboration\n"
     ]
    },
    {
     "name": "stdout",
     "output_type": "stream",
     "text": [
      " Congratulations! You guessed the word 'collaboration' correctly!\n"
     ]
    }
   ],
   "source": [
    "# Task1\n",
    "import random\n",
    "\n",
    "def word_guessing_game():\n",
    "    # List of words (could be customized for your company or theme)\n",
    "    word_list = ['innovation', 'teamwork', 'leadership', 'strategy', 'development', 'collaboration', 'success', 'growth']\n",
    "    \n",
    "    # Randomly choose a secret word\n",
    "    secret_word = random.choice(word_list)\n",
    "    max_attempts = 6\n",
    "    attempts = 0\n",
    "\n",
    "    # Provide initial clue\n",
    "    print(\"Welcome to the Employee Word Guessing Game!\")\n",
    "    print(f\"Clue: The secret word has {len(secret_word)} letters.\")\n",
    "    \n",
    "    # Optionally, you can give another clue (e.g., first letter)\n",
    "    if input(\"Would you like an extra clue? (yes/no): \").lower() == \"yes\":\n",
    "        print(f\"Extra Clue: The word starts with '{secret_word[0]}' and ends with '{secret_word[-1]}'.\")\n",
    "\n",
    "    # Start the guessing loop\n",
    "    while attempts < max_attempts:\n",
    "        guess = input(f\"\\nAttempt {attempts + 1} of {max_attempts}: Enter your guess: \").lower()\n",
    "\n",
    "        if guess == secret_word:\n",
    "            print(f\" Congratulations! You guessed the word '{secret_word}' correctly!\")\n",
    "            break\n",
    "        else:\n",
    "            print(\" Incorrect guess. Try again.\")\n",
    "            attempts += 1\n",
    "            # Optionally, give feedback if needed\n",
    "            if len(guess) != len(secret_word):\n",
    "                print(f\"Hint: Your guess has {len(guess)} letters, but the secret word has {len(secret_word)} letters.\")\n",
    "\n",
    "    else:\n",
    "        print(f\"\\nGame Over! The secret word was '{secret_word}'.\")\n",
    "\n",
    "# Run the game\n",
    "if __name__ == \"__main__\":\n",
    "    word_guessing_game()\n"
   ]
  },
  {
   "cell_type": "code",
   "execution_count": 3,
   "id": "ee6df93c-db42-47d7-a78e-6c08001052a2",
   "metadata": {},
   "outputs": [
    {
     "name": "stdout",
     "output_type": "stream",
     "text": [
      "\n",
      "--- Welcome to the Fun Game Application ---\n",
      "1. Play Riddle Puzzle.\n",
      "2. Play Arithmetic Puzzle.\n",
      "3. Play General Knowledge Quiz Game.\n",
      "4. Play Rock-Paper-Scissor game with the computer.\n",
      "5. Play Rock-Paper-Scissor game with a user.\n",
      "6. Play Word-Guessing game with the computer.\n",
      "Enter any option by typing a number between 1 and 6.\n"
     ]
    },
    {
     "name": "stdin",
     "output_type": "stream",
     "text": [
      "Enter your option (1-6):  2\n"
     ]
    },
    {
     "name": "stdout",
     "output_type": "stream",
     "text": [
      "\n",
      "[Playing Arithmetic Puzzle...]\n"
     ]
    },
    {
     "name": "stdin",
     "output_type": "stream",
     "text": [
      "What is 10 + 8?  18\n"
     ]
    },
    {
     "name": "stdout",
     "output_type": "stream",
     "text": [
      "Correct!\n"
     ]
    },
    {
     "name": "stdin",
     "output_type": "stream",
     "text": [
      "\n",
      "Do you want to play another game? (Y/y for Yes, N/n for No):  no\n"
     ]
    },
    {
     "name": "stdout",
     "output_type": "stream",
     "text": [
      "Thank you for playing! Goodbye!\n"
     ]
    }
   ],
   "source": [
    "# Task2\n",
    "import random\n",
    "\n",
    "class GameMenu:\n",
    "    @staticmethod\n",
    "    def menu():\n",
    "        print(\"\\n--- Welcome to the Fun Game Application ---\")\n",
    "        print(\"1. Play Riddle Puzzle.\")\n",
    "        print(\"2. Play Arithmetic Puzzle.\")\n",
    "        print(\"3. Play General Knowledge Quiz Game.\")\n",
    "        print(\"4. Play Rock-Paper-Scissor game with the computer.\")\n",
    "        print(\"5. Play Rock-Paper-Scissor game with a user.\")\n",
    "        print(\"6. Play Word-Guessing game with the computer.\")\n",
    "        print(\"Enter any option by typing a number between 1 and 6.\")\n",
    "\n",
    "# Placeholder functions for different games\n",
    "def riddle_puzzle():\n",
    "    print(\"\\n[Playing Riddle Puzzle...]\")\n",
    "    print(\"What has keys but can't open locks? (Answer: Keyboard)\")\n",
    "\n",
    "def arithmetic_puzzle():\n",
    "    print(\"\\n[Playing Arithmetic Puzzle...]\")\n",
    "    num1 = random.randint(1, 10)\n",
    "    num2 = random.randint(1, 10)\n",
    "    answer = num1 + num2\n",
    "    try:\n",
    "        user_answer = int(input(f\"What is {num1} + {num2}? \"))\n",
    "        if user_answer == answer:\n",
    "            print(\"Correct!\")\n",
    "        else:\n",
    "            print(f\"Wrong! The correct answer is {answer}.\")\n",
    "    except ValueError:\n",
    "        print(\"Invalid input! Please enter an integer.\")\n",
    "\n",
    "def general_knowledge_quiz():\n",
    "    print(\"\\n[Playing General Knowledge Quiz Game...]\")\n",
    "    print(\"Question: What is the capital of France?\")\n",
    "    answer = input(\"Your answer: \").strip().lower()\n",
    "    if answer == \"paris\":\n",
    "        print(\"Correct!\")\n",
    "    else:\n",
    "        print(\"Wrong! The correct answer is Paris.\")\n",
    "\n",
    "def rock_paper_scissor_computer():\n",
    "    print(\"\\n[Playing Rock-Paper-Scissor with Computer...]\")\n",
    "    choices = ['rock', 'paper', 'scissors']\n",
    "    user_choice = input(\"Enter rock, paper, or scissors: \").lower()\n",
    "    computer_choice = random.choice(choices)\n",
    "    print(f\"Computer chose: {computer_choice}\")\n",
    "    if user_choice == computer_choice:\n",
    "        print(\"It's a tie!\")\n",
    "    elif (user_choice == 'rock' and computer_choice == 'scissors') or \\\n",
    "         (user_choice == 'paper' and computer_choice == 'rock') or \\\n",
    "         (user_choice == 'scissors' and computer_choice == 'paper'):\n",
    "        print(\"You win!\")\n",
    "    else:\n",
    "        print(\"You lose!\")\n",
    "\n",
    "def rock_paper_scissor_user():\n",
    "    print(\"\\n[Playing Rock-Paper-Scissor between Users...]\")\n",
    "    user1 = input(\"User1, enter rock, paper, or scissors: \").lower()\n",
    "    user2 = input(\"User2, enter rock, paper, or scissors: \").lower()\n",
    "    if user1 == user2:\n",
    "        print(\"It's a tie!\")\n",
    "    elif (user1 == 'rock' and user2 == 'scissors') or \\\n",
    "         (user1 == 'paper' and user2 == 'rock') or \\\n",
    "         (user1 == 'scissors' and user2 == 'paper'):\n",
    "        print(\"User1 wins!\")\n",
    "    else:\n",
    "        print(\"User2 wins!\")\n",
    "\n",
    "def word_guessing_game():\n",
    "    print(\"\\n[Playing Word-Guessing Game...]\")\n",
    "    word_list = ['python', 'programming', 'challenge', 'developer', 'keyboard']\n",
    "    secret_word = random.choice(word_list)\n",
    "    max_attempts = 6\n",
    "    attempts = 0\n",
    "    print(f\"The secret word has {len(secret_word)} letters.\")\n",
    "\n",
    "    while attempts < max_attempts:\n",
    "        guess = input(f\"Attempt {attempts+1}: Enter your guess: \").lower()\n",
    "        if guess == secret_word:\n",
    "            print(\" You guessed it correctly!\")\n",
    "            return\n",
    "        else:\n",
    "            print(\" Wrong guess.\")\n",
    "            attempts += 1\n",
    "    print(f\"Game Over! The secret word was '{secret_word}'.\")\n",
    "\n",
    "def main():\n",
    "    while True:\n",
    "        GameMenu.menu()\n",
    "\n",
    "        try:\n",
    "            choice = int(input(\"Enter your option (1-6): \"))\n",
    "            if choice == 1:\n",
    "                riddle_puzzle()\n",
    "            elif choice == 2:\n",
    "                arithmetic_puzzle()\n",
    "            elif choice == 3:\n",
    "                general_knowledge_quiz()\n",
    "            elif choice == 4:\n",
    "                rock_paper_scissor_computer()\n",
    "            elif choice == 5:\n",
    "                rock_paper_scissor_user()\n",
    "            elif choice == 6:\n",
    "                word_guessing_game()\n",
    "            else:\n",
    "                print(\"You have entered the wrong option.\")\n",
    "        except ValueError:\n",
    "            print(\"Invalid input! Please enter a number between 1 and 6.\")\n",
    "\n",
    "        repeat = input(\"\\nDo you want to play another game? (Y/y for Yes, N/n for No): \").lower()\n",
    "        if repeat != 'y':\n",
    "            print(\"Thank you for playing! Goodbye!\")\n",
    "            break\n",
    "\n",
    "# Start the program\n",
    "if __name__ == \"__main__\":\n",
    "    main()\n"
   ]
  },
  {
   "cell_type": "code",
   "execution_count": null,
   "id": "1fc61e43-5fda-423d-a172-6e2c0a0141e8",
   "metadata": {},
   "outputs": [],
   "source": []
  }
 ],
 "metadata": {
  "kernelspec": {
   "display_name": "Python [conda env:base] *",
   "language": "python",
   "name": "conda-base-py"
  },
  "language_info": {
   "codemirror_mode": {
    "name": "ipython",
    "version": 3
   },
   "file_extension": ".py",
   "mimetype": "text/x-python",
   "name": "python",
   "nbconvert_exporter": "python",
   "pygments_lexer": "ipython3",
   "version": "3.12.7"
  }
 },
 "nbformat": 4,
 "nbformat_minor": 5
}
