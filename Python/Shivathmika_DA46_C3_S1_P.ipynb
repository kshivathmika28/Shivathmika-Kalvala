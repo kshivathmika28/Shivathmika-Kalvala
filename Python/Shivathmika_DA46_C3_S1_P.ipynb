{
 "cells": [
  {
   "cell_type": "code",
   "execution_count": 19,
   "id": "87e917a1-4b54-43e1-9ccd-07f4ca3becca",
   "metadata": {},
   "outputs": [],
   "source": [
    "RollNo = 2"
   ]
  },
  {
   "cell_type": "code",
   "execution_count": 21,
   "id": "ba56c769-811a-4d24-bb79-08dd0a788342",
   "metadata": {},
   "outputs": [
    {
     "name": "stdout",
     "output_type": "stream",
     "text": [
      "2\n"
     ]
    }
   ],
   "source": [
    "print(RollNo)"
   ]
  },
  {
   "cell_type": "code",
   "execution_count": 23,
   "id": "a674b67d-d652-4e55-b999-e889902c4aa7",
   "metadata": {},
   "outputs": [
    {
     "data": {
      "text/plain": [
       "140710647638488"
      ]
     },
     "execution_count": 23,
     "metadata": {},
     "output_type": "execute_result"
    }
   ],
   "source": [
    "id(RollNo)"
   ]
  },
  {
   "cell_type": "code",
   "execution_count": 25,
   "id": "692e0249-9579-4139-8c34-053899265afd",
   "metadata": {},
   "outputs": [
    {
     "data": {
      "text/plain": [
       "int"
      ]
     },
     "execution_count": 25,
     "metadata": {},
     "output_type": "execute_result"
    }
   ],
   "source": [
    "type(RollNo)"
   ]
  },
  {
   "cell_type": "code",
   "execution_count": 27,
   "id": "1eae6273-4693-48a6-9371-aff2c0d7d18e",
   "metadata": {},
   "outputs": [],
   "source": [
    "FirstName = \"Rosy\""
   ]
  },
  {
   "cell_type": "code",
   "execution_count": 29,
   "id": "8d8476bb-173f-4d4b-a25d-b07bd1ffc36c",
   "metadata": {},
   "outputs": [
    {
     "name": "stdout",
     "output_type": "stream",
     "text": [
      "Rosy\n"
     ]
    }
   ],
   "source": [
    "print(FirstName)"
   ]
  },
  {
   "cell_type": "code",
   "execution_count": 31,
   "id": "4630e88e-e5e1-413f-b3e5-c1f35cd41b2a",
   "metadata": {},
   "outputs": [
    {
     "data": {
      "text/plain": [
       "2180047237984"
      ]
     },
     "execution_count": 31,
     "metadata": {},
     "output_type": "execute_result"
    }
   ],
   "source": [
    "id(FirstName)"
   ]
  },
  {
   "cell_type": "code",
   "execution_count": 33,
   "id": "cb8932f6-e4aa-4e8f-b01d-18ad85eace55",
   "metadata": {},
   "outputs": [
    {
     "data": {
      "text/plain": [
       "str"
      ]
     },
     "execution_count": 33,
     "metadata": {},
     "output_type": "execute_result"
    }
   ],
   "source": [
    "type(FirstName)"
   ]
  },
  {
   "cell_type": "code",
   "execution_count": 35,
   "id": "4d8aea22-6409-4a0a-b588-4b816a9bd8bd",
   "metadata": {},
   "outputs": [],
   "source": [
    "LastName = \"Reddy\""
   ]
  },
  {
   "cell_type": "code",
   "execution_count": 37,
   "id": "58e16b37-75e5-4391-9093-4f8a4a30b162",
   "metadata": {},
   "outputs": [
    {
     "name": "stdout",
     "output_type": "stream",
     "text": [
      "Reddy\n"
     ]
    }
   ],
   "source": [
    "print(LastName)"
   ]
  },
  {
   "cell_type": "code",
   "execution_count": 39,
   "id": "70d67b98-2bdd-481a-9e64-610a7b94c605",
   "metadata": {},
   "outputs": [
    {
     "data": {
      "text/plain": [
       "2180008541712"
      ]
     },
     "execution_count": 39,
     "metadata": {},
     "output_type": "execute_result"
    }
   ],
   "source": [
    "id(LastName)"
   ]
  },
  {
   "cell_type": "code",
   "execution_count": 41,
   "id": "4b2869ea-cc7c-4451-8ced-46f0c7e8e5a7",
   "metadata": {},
   "outputs": [
    {
     "data": {
      "text/plain": [
       "str"
      ]
     },
     "execution_count": 41,
     "metadata": {},
     "output_type": "execute_result"
    }
   ],
   "source": [
    "type(LastName)"
   ]
  },
  {
   "cell_type": "code",
   "execution_count": 43,
   "id": "ac8fc905-a9c9-4faa-b225-ce7fd139c0fc",
   "metadata": {},
   "outputs": [],
   "source": [
    "MaxMarks = 50"
   ]
  },
  {
   "cell_type": "code",
   "execution_count": 45,
   "id": "8e942868-fb26-4f72-a6fc-5509d8074d7c",
   "metadata": {},
   "outputs": [
    {
     "name": "stdout",
     "output_type": "stream",
     "text": [
      "50\n"
     ]
    }
   ],
   "source": [
    "print(MaxMarks)"
   ]
  },
  {
   "cell_type": "code",
   "execution_count": 47,
   "id": "95105f95-4f46-491a-a317-20ee8a0cb233",
   "metadata": {},
   "outputs": [
    {
     "data": {
      "text/plain": [
       "140710647640024"
      ]
     },
     "execution_count": 47,
     "metadata": {},
     "output_type": "execute_result"
    }
   ],
   "source": [
    "id(MaxMarks)"
   ]
  },
  {
   "cell_type": "code",
   "execution_count": 49,
   "id": "24b93d92-e0f9-498e-87f1-94d70598cc6c",
   "metadata": {},
   "outputs": [
    {
     "data": {
      "text/plain": [
       "int"
      ]
     },
     "execution_count": 49,
     "metadata": {},
     "output_type": "execute_result"
    }
   ],
   "source": [
    "type(MaxMarks)"
   ]
  },
  {
   "cell_type": "code",
   "execution_count": 53,
   "id": "96b2e706-9def-442b-8028-3adfecb08ed1",
   "metadata": {},
   "outputs": [],
   "source": [
    "Class = 15 # correct statement"
   ]
  },
  {
   "cell_type": "code",
   "execution_count": 55,
   "id": "c8eb885b-82cd-40f3-87ab-8457bd1c6dbb",
   "metadata": {},
   "outputs": [
    {
     "ename": "SyntaxError",
     "evalue": "invalid syntax (1242795455.py, line 1)",
     "output_type": "error",
     "traceback": [
      "\u001b[1;36m  Cell \u001b[1;32mIn[55], line 1\u001b[1;36m\u001b[0m\n\u001b[1;33m    class = 14\u001b[0m\n\u001b[1;37m          ^\u001b[0m\n\u001b[1;31mSyntaxError\u001b[0m\u001b[1;31m:\u001b[0m invalid syntax\n"
     ]
    }
   ],
   "source": [
    "class = 14 # Syntax Error because class is the keyword and cannot used as variable"
   ]
  },
  {
   "cell_type": "code",
   "execution_count": 57,
   "id": "fd967a58-e8e9-4e13-93ef-a9e95003901f",
   "metadata": {},
   "outputs": [],
   "source": [
    "DEF = 13"
   ]
  },
  {
   "cell_type": "code",
   "execution_count": 59,
   "id": "36189b14-ec4c-41e6-a65c-20e044e72ab5",
   "metadata": {},
   "outputs": [
    {
     "ename": "SyntaxError",
     "evalue": "invalid syntax (1759817278.py, line 1)",
     "output_type": "error",
     "traceback": [
      "\u001b[1;36m  Cell \u001b[1;32mIn[59], line 1\u001b[1;36m\u001b[0m\n\u001b[1;33m    def = 12\u001b[0m\n\u001b[1;37m        ^\u001b[0m\n\u001b[1;31mSyntaxError\u001b[0m\u001b[1;31m:\u001b[0m invalid syntax\n"
     ]
    }
   ],
   "source": [
    "def = 12 # Syntax Error because class is the keyword and cannot used as variable"
   ]
  },
  {
   "cell_type": "code",
   "execution_count": 61,
   "id": "73221a0d-eed3-4915-9e08-39113df0808f",
   "metadata": {
    "scrolled": true
   },
   "outputs": [
    {
     "ename": "NameError",
     "evalue": "name 'TRUE' is not defined",
     "output_type": "error",
     "traceback": [
      "\u001b[1;31m---------------------------------------------------------------------------\u001b[0m",
      "\u001b[1;31mNameError\u001b[0m                                 Traceback (most recent call last)",
      "Cell \u001b[1;32mIn[61], line 1\u001b[0m\n\u001b[1;32m----> 1\u001b[0m a \u001b[38;5;241m=\u001b[39m TRUE\n",
      "\u001b[1;31mNameError\u001b[0m: name 'TRUE' is not defined"
     ]
    }
   ],
   "source": [
    "a = TRUE # The other letters should be small or should be written in invited commas"
   ]
  },
  {
   "cell_type": "code",
   "execution_count": 63,
   "id": "2d5463f4-8e40-4556-8f53-7e5b61877a6c",
   "metadata": {},
   "outputs": [
    {
     "ename": "NameError",
     "evalue": "name 'false' is not defined",
     "output_type": "error",
     "traceback": [
      "\u001b[1;31m---------------------------------------------------------------------------\u001b[0m",
      "\u001b[1;31mNameError\u001b[0m                                 Traceback (most recent call last)",
      "Cell \u001b[1;32mIn[63], line 1\u001b[0m\n\u001b[1;32m----> 1\u001b[0m b \u001b[38;5;241m=\u001b[39m false\n",
      "\u001b[1;31mNameError\u001b[0m: name 'false' is not defined"
     ]
    }
   ],
   "source": [
    "b = false # The first letter should be capital or should be written in invited commas"
   ]
  },
  {
   "cell_type": "code",
   "execution_count": 65,
   "id": "83c88f0c-a329-4c18-9655-f44cc2a098da",
   "metadata": {},
   "outputs": [],
   "source": [
    "Marks = 35.5"
   ]
  },
  {
   "cell_type": "code",
   "execution_count": 67,
   "id": "031690be-29a2-4da2-bfe4-ce605a3fc9ec",
   "metadata": {},
   "outputs": [
    {
     "name": "stdout",
     "output_type": "stream",
     "text": [
      "35.5\n"
     ]
    }
   ],
   "source": [
    "print(Marks)"
   ]
  },
  {
   "cell_type": "code",
   "execution_count": 69,
   "id": "9dbf13b8-906c-4d54-a2c3-51ca5fcd100e",
   "metadata": {},
   "outputs": [
    {
     "data": {
      "text/plain": [
       "2180026717456"
      ]
     },
     "execution_count": 69,
     "metadata": {},
     "output_type": "execute_result"
    }
   ],
   "source": [
    "id(Marks)"
   ]
  },
  {
   "cell_type": "code",
   "execution_count": 71,
   "id": "8fc9d43d-34e1-4939-b88a-80cc2be80d6a",
   "metadata": {},
   "outputs": [
    {
     "data": {
      "text/plain": [
       "float"
      ]
     },
     "execution_count": 71,
     "metadata": {},
     "output_type": "execute_result"
    }
   ],
   "source": [
    "type(Marks)"
   ]
  },
  {
   "cell_type": "code",
   "execution_count": 73,
   "id": "2a49b79c-3281-4436-9212-a8863f3eecc8",
   "metadata": {},
   "outputs": [],
   "source": [
    "Marks = 40.78"
   ]
  },
  {
   "cell_type": "code",
   "execution_count": 75,
   "id": "336795df-46d9-4fe7-af6b-5dcbf8ae88ff",
   "metadata": {},
   "outputs": [
    {
     "name": "stdout",
     "output_type": "stream",
     "text": [
      "40.78\n"
     ]
    }
   ],
   "source": [
    "print(Marks)"
   ]
  },
  {
   "cell_type": "code",
   "execution_count": 77,
   "id": "a6062b16-74d6-4141-856c-e6d7284c1d32",
   "metadata": {},
   "outputs": [
    {
     "data": {
      "text/plain": [
       "2180057922640"
      ]
     },
     "execution_count": 77,
     "metadata": {},
     "output_type": "execute_result"
    }
   ],
   "source": [
    "id(Marks)"
   ]
  },
  {
   "cell_type": "code",
   "execution_count": 79,
   "id": "bc6f9a4b-f670-406b-8e16-8a7f0ae189bd",
   "metadata": {},
   "outputs": [
    {
     "data": {
      "text/plain": [
       "float"
      ]
     },
     "execution_count": 79,
     "metadata": {},
     "output_type": "execute_result"
    }
   ],
   "source": [
    "type(Marks)"
   ]
  },
  {
   "cell_type": "code",
   "execution_count": null,
   "id": "37b61737-229e-40e7-bfe2-6211fdeb4940",
   "metadata": {},
   "outputs": [],
   "source": [
    "#It is different for two variables because the value changed "
   ]
  },
  {
   "cell_type": "code",
   "execution_count": 81,
   "id": "e9aae53f-06e2-4e06-8e29-b0d7d8470acd",
   "metadata": {},
   "outputs": [],
   "source": [
    "MaxMarks = 100"
   ]
  },
  {
   "cell_type": "code",
   "execution_count": 83,
   "id": "a00d8b42-664f-41dd-919a-18794e0afa0a",
   "metadata": {},
   "outputs": [],
   "source": [
    "Divison = Marks / MaxMarks"
   ]
  },
  {
   "cell_type": "code",
   "execution_count": 85,
   "id": "ed45abf1-9dbb-42f8-85be-fde34fdda56f",
   "metadata": {},
   "outputs": [
    {
     "name": "stdout",
     "output_type": "stream",
     "text": [
      "0.4078\n"
     ]
    }
   ],
   "source": [
    "print(Divison)"
   ]
  },
  {
   "cell_type": "code",
   "execution_count": 91,
   "id": "84207dd5-d8ee-4004-b223-4b13b32319b8",
   "metadata": {},
   "outputs": [
    {
     "name": "stdout",
     "output_type": "stream",
     "text": [
      "The output after Division is 0.41\n"
     ]
    }
   ],
   "source": [
    "print(\"The output after Division is %0.2f\" %Divison)"
   ]
  },
  {
   "cell_type": "code",
   "execution_count": 97,
   "id": "c7d52f08-8efd-44fb-86da-4a6d8bfa7727",
   "metadata": {},
   "outputs": [],
   "source": [
    "FullName = FirstName +\" \"+ LastName"
   ]
  },
  {
   "cell_type": "code",
   "execution_count": 99,
   "id": "25346658-387f-444d-be3b-9cc805967dfa",
   "metadata": {},
   "outputs": [
    {
     "name": "stdout",
     "output_type": "stream",
     "text": [
      "Rosy Reddy\n"
     ]
    }
   ],
   "source": [
    "print(FullName)"
   ]
  },
  {
   "cell_type": "code",
   "execution_count": 135,
   "id": "b401ed2c-907b-4879-8605-0ff89297dc84",
   "metadata": {
    "scrolled": true
   },
   "outputs": [
    {
     "name": "stdout",
     "output_type": "stream",
     "text": [
      "{FullName} scored 0.41\n"
     ]
    }
   ],
   "source": [
    "print(\"{FullName} scored %0.2f\" %Divison)"
   ]
  },
  {
   "cell_type": "code",
   "execution_count": 117,
   "id": "e598dd0a-83b2-4fc1-b227-6a27621a72a1",
   "metadata": {
    "scrolled": true
   },
   "outputs": [
    {
     "ename": "TypeError",
     "evalue": "unsupported operand type(s) for +: 'int' and 'str'",
     "output_type": "error",
     "traceback": [
      "\u001b[1;31m---------------------------------------------------------------------------\u001b[0m",
      "\u001b[1;31mTypeError\u001b[0m                                 Traceback (most recent call last)",
      "Cell \u001b[1;32mIn[117], line 1\u001b[0m\n\u001b[1;32m----> 1\u001b[0m \u001b[38;5;241m1\u001b[39m \u001b[38;5;241m+\u001b[39m \u001b[38;5;124m\"\u001b[39m\u001b[38;5;124m2\u001b[39m\u001b[38;5;124m\"\u001b[39m\n",
      "\u001b[1;31mTypeError\u001b[0m: unsupported operand type(s) for +: 'int' and 'str'"
     ]
    }
   ],
   "source": [
    "1 + \"2\" #error because different datatypes"
   ]
  },
  {
   "cell_type": "code",
   "execution_count": 119,
   "id": "bf1fd176-052c-4c00-9a70-877f57afdaf8",
   "metadata": {},
   "outputs": [
    {
     "data": {
      "text/plain": [
       "'12'"
      ]
     },
     "execution_count": 119,
     "metadata": {},
     "output_type": "execute_result"
    }
   ],
   "source": [
    "\"1\" + \"2\" #strings and concat but not adding"
   ]
  },
  {
   "cell_type": "code",
   "execution_count": 121,
   "id": "ab5ba8e9-f7de-4206-b4df-e9d2fe1958d6",
   "metadata": {},
   "outputs": [
    {
     "data": {
      "text/plain": [
       "0.5"
      ]
     },
     "execution_count": 121,
     "metadata": {},
     "output_type": "execute_result"
    }
   ],
   "source": [
    "1 / 2 #Floor Division "
   ]
  },
  {
   "cell_type": "code",
   "execution_count": 123,
   "id": "e70fd9d7-3d90-4cde-afe9-6a2042dcbff0",
   "metadata": {},
   "outputs": [
    {
     "data": {
      "text/plain": [
       "0"
      ]
     },
     "execution_count": 123,
     "metadata": {},
     "output_type": "execute_result"
    }
   ],
   "source": [
    "1 // 2 #Integer Division"
   ]
  },
  {
   "cell_type": "code",
   "execution_count": null,
   "id": "47882e39-b351-43fd-9721-a39632356a0a",
   "metadata": {},
   "outputs": [],
   "source": [
    "#True because both are true and operator"
   ]
  },
  {
   "cell_type": "code",
   "execution_count": null,
   "id": "cfb328a9-2d4e-448d-9935-38c2d1cfc40f",
   "metadata": {},
   "outputs": [],
   "source": [
    "#False because one option is false  and it is and operator"
   ]
  },
  {
   "cell_type": "code",
   "execution_count": null,
   "id": "23f12dd0-58b7-4c04-952e-e08dd602f6f2",
   "metadata": {},
   "outputs": [],
   "source": [
    "#True because used or opearator and true is operand"
   ]
  },
  {
   "cell_type": "code",
   "execution_count": null,
   "id": "bfa36d8c-a9c6-4bf2-9b42-634120cab6b7",
   "metadata": {},
   "outputs": [],
   "source": [
    "#False because or operator and false is one opearnd "
   ]
  },
  {
   "cell_type": "code",
   "execution_count": 125,
   "id": "e426ed1f-8ccc-4016-b4d3-dce17a530a62",
   "metadata": {},
   "outputs": [
    {
     "data": {
      "text/plain": [
       "True"
      ]
     },
     "execution_count": 125,
     "metadata": {},
     "output_type": "execute_result"
    }
   ],
   "source": [
    "FirstName in FullName #In is used for justifying the ids are same or not"
   ]
  },
  {
   "cell_type": "code",
   "execution_count": 127,
   "id": "10e8be41-70a7-4168-9b21-06afc9015f05",
   "metadata": {},
   "outputs": [
    {
     "data": {
      "text/plain": [
       "False"
      ]
     },
     "execution_count": 127,
     "metadata": {},
     "output_type": "execute_result"
    }
   ],
   "source": [
    "FirstName is FullName #is will check the ids,values, datatypes are same or not"
   ]
  },
  {
   "cell_type": "code",
   "execution_count": 129,
   "id": "e942fc45-1de4-40e5-bc74-1226ad6ffffc",
   "metadata": {},
   "outputs": [],
   "source": [
    "a = 4\n",
    "b = 3\n",
    "c = 2\n",
    "d = a**b+c\n",
    "e = a**(b+c)"
   ]
  },
  {
   "cell_type": "code",
   "execution_count": 131,
   "id": "ee139569-1c1e-46a1-9cd1-7534d660436b",
   "metadata": {},
   "outputs": [
    {
     "name": "stdout",
     "output_type": "stream",
     "text": [
      "66\n"
     ]
    }
   ],
   "source": [
    "print(d) #calculates (a**b)= result first then result+c according to order of precedence"
   ]
  },
  {
   "cell_type": "code",
   "execution_count": 133,
   "id": "51b27558-4600-4b59-bf37-758f66aa7f5c",
   "metadata": {},
   "outputs": [
    {
     "name": "stdout",
     "output_type": "stream",
     "text": [
      "1024\n"
     ]
    }
   ],
   "source": [
    "print(e) #calculates (b+c)= result first then a**result according to order of preceden"
   ]
  },
  {
   "cell_type": "code",
   "execution_count": null,
   "id": "9adbaf20-5539-47c3-bdfa-163a9fb57bba",
   "metadata": {},
   "outputs": [],
   "source": [
    "#different because calcilated according to order of precedence"
   ]
  }
 ],
 "metadata": {
  "kernelspec": {
   "display_name": "Python [conda env:base] *",
   "language": "python",
   "name": "conda-base-py"
  },
  "language_info": {
   "codemirror_mode": {
    "name": "ipython",
    "version": 3
   },
   "file_extension": ".py",
   "mimetype": "text/x-python",
   "name": "python",
   "nbconvert_exporter": "python",
   "pygments_lexer": "ipython3",
   "version": "3.12.7"
  }
 },
 "nbformat": 4,
 "nbformat_minor": 5
}
