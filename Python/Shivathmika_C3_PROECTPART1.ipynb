{
 "cells": [
  {
   "cell_type": "code",
   "execution_count": 1,
   "id": "c8b937a1-dc62-4edb-a200-7579b16e91ca",
   "metadata": {},
   "outputs": [
    {
     "name": "stdout",
     "output_type": "stream",
     "text": [
      "6 * 3\n",
      "The programme is running\n",
      "The percentage o the score is 200.0\n"
     ]
    }
   ],
   "source": [
    "#task2\n",
    "\n",
    "import random as r\n",
    "try:\n",
    "    num1 = r.randint(1,20)\n",
    "    num2 = r.randint(1,20)\n",
    "    list1 = ['+','-','/','*']\n",
    "    op = r.choice(list1)\n",
    "    print(num1, op, num2)\n",
    "except Exception as e:\n",
    "    print(f\"The loop is infinite: {e}\")\n",
    "except ValueError as e:\n",
    "    print(f\"Please enter the correct inputs: {e}\")\n",
    "else:\n",
    "    print(\"The programme is running\")\n",
    "finally:\n",
    "    print(f\"The percentage o the score is {num1/num2*100}\")\n",
    "\n",
    "\n",
    "    "
   ]
  },
  {
   "cell_type": "code",
   "execution_count": 3,
   "id": "8d773507-3bde-472d-8b1f-e036b5ec8608",
   "metadata": {},
   "outputs": [
    {
     "name": "stdout",
     "output_type": "stream",
     "text": [
      "Welcome to the Brain Teaser Riddle Game!\n",
      "\n",
      "Riddle:\n",
      "What has hands but can’t clap?\n"
     ]
    },
    {
     "name": "stdin",
     "output_type": "stream",
     "text": [
      "Your answer:  Clock\n"
     ]
    },
    {
     "name": "stdout",
     "output_type": "stream",
     "text": [
      " Correct!\n"
     ]
    },
    {
     "name": "stdin",
     "output_type": "stream",
     "text": [
      "\n",
      "Do you want to solve another riddle? (yes/no):  no\n"
     ]
    },
    {
     "name": "stdout",
     "output_type": "stream",
     "text": [
      "\n",
      "Thanks for playing!\n",
      "Your Score: 1/1\n",
      "Accuracy: 100.00%\n"
     ]
    }
   ],
   "source": [
    "#task1\n",
    "import random\n",
    "\n",
    "# List of riddle questions with answers\n",
    "riddles = [\n",
    "    {\"question\": \"What has keys but can't open locks?\", \"answer\": \"Keyboard\"},\n",
    "    {\"question\": \"What has hands but can’t clap?\", \"answer\": \"Clock\"},\n",
    "    {\"question\": \"What can travel around the world while staying in the same corner?\", \"answer\": \"Stamp\"},\n",
    "    {\"question\": \"What comes once in a minute, twice in a moment, but never in a thousand years?\", \"answer\": \"The letter M\"},\n",
    "    {\"question\": \"I speak without a mouth and hear without ears. I have no body, but I come alive with wind. What am I?\", \"answer\": \"Echo\"},\n",
    "    {\"question\": \"The more you take, the more you leave behind. What am I?\", \"answer\": \"Footsteps\"},\n",
    "    {\"question\": \"What gets wetter the more it dries?\", \"answer\": \"Towel\"},\n",
    "    {\"question\": \"What has a head and a tail but no body?\", \"answer\": \"Coin\"}\n",
    "]\n",
    "\n",
    "# Function to play a single riddle\n",
    "def play_riddle():\n",
    "    return random.choice(riddles)\n",
    "\n",
    "# Game loop\n",
    "def start_game():\n",
    "    print(\"Welcome to the Brain Teaser Riddle Game!\")\n",
    "    correct_answers = 0\n",
    "    total_questions = 0\n",
    "\n",
    "    while True:\n",
    "        riddle = play_riddle()\n",
    "        print(\"\\nRiddle:\")\n",
    "        print(riddle[\"question\"])\n",
    "        user_answer = input(\"Your answer: \").strip()\n",
    "\n",
    "        total_questions += 1\n",
    "\n",
    "        if user_answer.lower() == riddle[\"answer\"].lower():\n",
    "            print(\" Correct!\")\n",
    "            correct_answers += 1\n",
    "        else:\n",
    "            print(f\"Incorrect. The correct answer is: {riddle['answer']}\")\n",
    "\n",
    "        # Ask user if they want to continue\n",
    "        play_more = input(\"\\nDo you want to solve another riddle? (yes/no): \").strip().lower()\n",
    "        if play_more != 'yes':\n",
    "            break\n",
    "\n",
    "    # Final Score\n",
    "    print(\"\\nThanks for playing!\")\n",
    "    if total_questions > 0:\n",
    "        percentage = (correct_answers / total_questions) * 100\n",
    "        print(f\"Your Score: {correct_answers}/{total_questions}\")\n",
    "        print(f\"Accuracy: {percentage:.2f}%\")\n",
    "    else:\n",
    "        print(\"No riddles were attempted.\")\n",
    "\n",
    "if __name__ == \"__main__\":\n",
    "    start_game()\n",
    "\n",
    "    "
   ]
  },
  {
   "cell_type": "code",
   "execution_count": 1,
   "id": "fbd97c08-356b-454f-a557-4c2d07480d88",
   "metadata": {},
   "outputs": [
    {
     "name": "stdout",
     "output_type": "stream",
     "text": [
      " Welcome to the General Knowledge Quiz Game! \n",
      "\n",
      "Choose your category from the following list:\n",
      "1. Science-based\n",
      "2. Mathematics-based\n",
      "3. Geography-based\n",
      "4. Others\n"
     ]
    },
    {
     "name": "stdin",
     "output_type": "stream",
     "text": [
      "Enter your choice (1-4):  1\n"
     ]
    },
    {
     "name": "stdout",
     "output_type": "stream",
     "text": [
      "\n",
      "You selected: Science\n"
     ]
    },
    {
     "name": "stdin",
     "output_type": "stream",
     "text": [
      "\n",
      "Which gas do plants absorb during photosynthesis?\n",
      "Your answer:  carbondioxide\n"
     ]
    },
    {
     "name": "stdout",
     "output_type": "stream",
     "text": [
      "Incorrect. The correct answer is Carbon dioxide\n"
     ]
    },
    {
     "name": "stdin",
     "output_type": "stream",
     "text": [
      "\n",
      "What is the full name of the WWW?\n",
      "Your answer:  world wide web\n"
     ]
    },
    {
     "name": "stdout",
     "output_type": "stream",
     "text": [
      "Correct!\n"
     ]
    },
    {
     "name": "stdin",
     "output_type": "stream",
     "text": [
      "\n",
      "How many bones are there in the adult human body?\n",
      "Your answer:  206\n"
     ]
    },
    {
     "name": "stdout",
     "output_type": "stream",
     "text": [
      "Correct!\n",
      "\n",
      "Quiz Completed!\n",
      "Correct Answers: 2/3\n",
      "Score: 66.67%\n",
      "\n"
     ]
    },
    {
     "name": "stdin",
     "output_type": "stream",
     "text": [
      "Would you like to play again? (yes/no):  no\n"
     ]
    },
    {
     "name": "stdout",
     "output_type": "stream",
     "text": [
      "\n",
      " Thank you for playing! Goodbye! \n"
     ]
    }
   ],
   "source": [
    "#task3\n",
    "\n",
    "\n",
    "# Question \n",
    "science_questions = [\n",
    "    {\"question\": \"Which gas do plants absorb during photosynthesis?\", \"answer\": \"Carbon dioxide\"},\n",
    "    {\"question\": \"What is the full name of the WWW?\", \"answer\": \"World Wide Web\"},\n",
    "    {\"question\": \"How many bones are there in the adult human body?\", \"answer\": \"206\"}\n",
    "]\n",
    "\n",
    "math_questions = [\n",
    "    {\"question\": \"What is the only even prime number?\", \"answer\": \"2\"},\n",
    "    {\"question\": \"What is the sum of the first 5 natural numbers?\", \"answer\": \"15\"},\n",
    "    {\"question\": \"What is the name of the mathematical symbol π?\", \"answer\": \"Pi\"}\n",
    "]\n",
    "\n",
    "geography_questions = [\n",
    "    {\"question\": \"What is the tallest mountain on Earth?\", \"answer\": \"Mount Everest\"},\n",
    "    {\"question\": \"What is the capital of France?\", \"answer\": \"Paris\"},\n",
    "    {\"question\": \"Which planet is known as the 'Red Planet'?\", \"answer\": \"Mars\"}\n",
    "]\n",
    "\n",
    "other_questions = [\n",
    "    {\"question\": \"Which country won the most recent FIFA World Cup (as of 2022)?\", \"answer\": \"Argentina\"},\n",
    "    {\"question\": \"Who invented the light bulb?\", \"answer\": \"Thomas Edison\"},\n",
    "    {\"question\": \"In what year did India declare itself a Democratic and Republic state with the adoption of the Constitution?\", \"answer\": \"1950\"}\n",
    "]\n",
    "\n",
    "# Function to ask category\n",
    "def ask_category():\n",
    "    print(\"\\nChoose your category from the following list:\")\n",
    "    print(\"1. Science-based\")\n",
    "    print(\"2. Mathematics-based\")\n",
    "    print(\"3. Geography-based\")\n",
    "    print(\"4. Others\")\n",
    "    \n",
    "    while True:\n",
    "        try:\n",
    "            choice = int(input(\"Enter your choice (1-4): \"))\n",
    "            if choice in [1, 2, 3, 4]:\n",
    "                return choice\n",
    "            else:\n",
    "                print(\"Invalid choice. Please select a number from 1 to 4.\")\n",
    "        except ValueError:\n",
    "            print(\"Invalid input. Please enter a numeric value.\")\n",
    "\n",
    "# Function to ask a question\n",
    "def ask_question(question):\n",
    "    try:\n",
    "        user_answer = input(f\"\\n{question['question']}\\nYour answer: \").strip()\n",
    "        return user_answer\n",
    "    except Exception as e:\n",
    "        print(\"An error occurred while getting your answer:\", e)\n",
    "        return \"\"\n",
    "\n",
    "# Function to check answer\n",
    "def check_answer(user_answer, correct_answer):\n",
    "    if user_answer.lower() == correct_answer.lower():\n",
    "        print(\"Correct!\")\n",
    "        return True\n",
    "    else:\n",
    "        print(f\"Incorrect. The correct answer is {correct_answer}\")\n",
    "        return False\n",
    "\n",
    "# Function to display score\n",
    "def display_score(questions, score):\n",
    "    total = len(questions)\n",
    "    percentage = (score / total) * 100\n",
    "    print(\"\\nQuiz Completed!\")\n",
    "    print(f\"Correct Answers: {score}/{total}\")\n",
    "    print(f\"Score: {percentage:.2f}%\\n\")\n",
    "\n",
    "# Function to execute questions in a category\n",
    "def exec_questions(questions):\n",
    "    score = 0\n",
    "    for q in questions:\n",
    "        user_answer = ask_question(q)\n",
    "        if check_answer(user_answer, q['answer']):\n",
    "            score += 1\n",
    "    display_score(questions, score)\n",
    "\n",
    "# Function to manage the full game loop\n",
    "def play_game():\n",
    "    while True:\n",
    "        category = ask_category()\n",
    "        \n",
    "        if category == 1:\n",
    "            print(\"\\nYou selected: Science\")\n",
    "            exec_questions(science_questions)\n",
    "        elif category == 2:\n",
    "            print(\"\\nYou selected: Mathematics\")\n",
    "            exec_questions(math_questions)\n",
    "        elif category == 3:\n",
    "            print(\"\\nYou selected: Geography\")\n",
    "            exec_questions(geography_questions)\n",
    "        elif category == 4:\n",
    "            print(\"\\nYou selected: Others\")\n",
    "            exec_questions(other_questions)\n",
    "\n",
    "        try:\n",
    "            again = input(\"Would you like to play again? (yes/no): \").strip().lower()\n",
    "            if again != 'yes':\n",
    "                break\n",
    "        except Exception as e:\n",
    "            print(\"An error occurred:\", e)\n",
    "            break\n",
    "\n",
    "# Run the game\n",
    "if __name__ == \"__main__\":\n",
    "    print(\" Welcome to the General Knowledge Quiz Game! \")\n",
    "    play_game()\n",
    "    print(\"\\n Thank you for playing! Goodbye! \")\n",
    "\n",
    "                \n"
   ]
  },
  {
   "cell_type": "code",
   "execution_count": 1,
   "id": "761b632b-b946-48df-b2a0-f80b72d6e027",
   "metadata": {},
   "outputs": [
    {
     "name": "stdin",
     "output_type": "stream",
     "text": [
      "Hello user1! Enter your name:  fghjk\n",
      "Hello user1! Enter your name:  tyuiop\n",
      "Hello user1! Enter a choice (rock, paper, scissors):  rock\n",
      "Hello user1! Enter a choice (rock, paper, scissors):  ppaer\n"
     ]
    },
    {
     "name": "stdout",
     "output_type": "stream",
     "text": [
      "second person tyuiop win!\n",
      "exit\n"
     ]
    }
   ],
   "source": [
    "#Task5\n",
    "\n",
    "try:\n",
    "    name1 = input(\"Hello user1! Enter your name: \")\n",
    "    name2 = input(\"Hello user1! Enter your name: \")\n",
    "    choice1 = input(\"Hello user1! Enter a choice (rock, paper, scissors): \").strip().lower()\n",
    "    choice2 = input(\"Hello user1! Enter a choice (rock, paper, scissors): \").strip().lower()\n",
    "    if (choice1 == 'rock' and choice1 == 'sciccors') or (choice1 == \"paper\" and choice2 == \"rock\") or (choice1 == \"scissors\" and choice2 == \"paper\"):\n",
    "        print(f\"first person  {name1} wins!\")\n",
    "    elif choice1 == choice2:\n",
    "        print(f\"Tie match\")\n",
    "    else: \n",
    "        print(f\"second person {name2} win!\")\n",
    "except ValueError as e:\n",
    "    print(f\"Invalid {e}\")\n",
    "finally:\n",
    "    print(\"exit\")\n",
    "    \n",
    "    \n",
    "    \n",
    "    "
   ]
  },
  {
   "cell_type": "code",
   "execution_count": 5,
   "id": "1ff4d33b-fa30-4321-a656-67d581f89037",
   "metadata": {},
   "outputs": [
    {
     "name": "stdin",
     "output_type": "stream",
     "text": [
      "Hello user1! Enter your name:  shiva\n"
     ]
    },
    {
     "name": "stdout",
     "output_type": "stream",
     "text": [
      "Here the second person is computer\n"
     ]
    },
    {
     "name": "stdin",
     "output_type": "stream",
     "text": [
      "Hello user1! Enter a choice (rock, paper, scissors):  paper\n"
     ]
    },
    {
     "name": "stdout",
     "output_type": "stream",
     "text": [
      "second person computer win!\n",
      "exit\n"
     ]
    }
   ],
   "source": [
    "#task4\n",
    "import random as r\n",
    "try:\n",
    "    name1 = input(\"Hello user1! Enter your name: \")\n",
    "    print(\"Here the second person is computer\")\n",
    "    name2 = \"computer\"\n",
    "    choice1 = input(\"Hello user1! Enter a choice (rock, paper, scissors): \").strip().lower()\n",
    "    list1 = ['rock','paper','scissor']\n",
    "    choice2 = r.choice(list1)\n",
    "    if (choice1 == 'rock' and choice1 == 'sciccors') or (choice1 == \"paper\" and choice2 == \"rock\") or (choice1 == \"scissors\" and choice2 == \"paper\"):\n",
    "        print(f\"first person  {name1} wins!\")\n",
    "    elif choice1 == choice2:\n",
    "        print(f\"Tie match\")\n",
    "    else: \n",
    "        print(f\"second person {name2} win!\")\n",
    "except ValueError as e:\n",
    "    print(f\"Invalid {e}\")\n",
    "finally:\n",
    "    print(\"exit\")"
   ]
  }
 ],
 "metadata": {
  "kernelspec": {
   "display_name": "Python [conda env:base] *",
   "language": "python",
   "name": "conda-base-py"
  },
  "language_info": {
   "codemirror_mode": {
    "name": "ipython",
    "version": 3
   },
   "file_extension": ".py",
   "mimetype": "text/x-python",
   "name": "python",
   "nbconvert_exporter": "python",
   "pygments_lexer": "ipython3",
   "version": "3.12.7"
  }
 },
 "nbformat": 4,
 "nbformat_minor": 5
}
